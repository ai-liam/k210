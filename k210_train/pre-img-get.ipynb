{
 "cells": [
  {
   "cell_type": "markdown",
   "id": "75d35cce-f43e-4598-9a28-f5f0cbaae3c7",
   "metadata": {},
   "source": [
    "# 数据获取"
   ]
  },
  {
   "cell_type": "code",
   "execution_count": null,
   "id": "75f53b97-8771-4d5b-a681-a69a4245f483",
   "metadata": {},
   "outputs": [],
   "source": []
  },
  {
   "cell_type": "markdown",
   "id": "574bd931-7334-43d5-ab03-9859a0af79dc",
   "metadata": {},
   "source": [
    "## 方案1"
   ]
  },
  {
   "cell_type": "raw",
   "id": "04c87f5d-8c3b-4baa-a9a6-689aec1f6b1a",
   "metadata": {},
   "source": [
    "# 直接搜索\n",
    "# 精选20 到30张有特征的图片\n",
    "# 运行数据清洗，加强新生成 9张"
   ]
  },
  {
   "cell_type": "code",
   "execution_count": null,
   "id": "02ab8dc0-326d-4921-b86d-e8c25ee49562",
   "metadata": {},
   "outputs": [],
   "source": []
  },
  {
   "cell_type": "code",
   "execution_count": null,
   "id": "fc4a8322-6b8c-4d99-8cd3-cb12d6159332",
   "metadata": {},
   "outputs": [],
   "source": []
  }
 ],
 "metadata": {
  "kernelspec": {
   "display_name": "Python 3 (ipykernel)",
   "language": "python",
   "name": "python3"
  },
  "language_info": {
   "codemirror_mode": {
    "name": "ipython",
    "version": 3
   },
   "file_extension": ".py",
   "mimetype": "text/x-python",
   "name": "python",
   "nbconvert_exporter": "python",
   "pygments_lexer": "ipython3",
   "version": "3.7.11"
  }
 },
 "nbformat": 4,
 "nbformat_minor": 5
}
