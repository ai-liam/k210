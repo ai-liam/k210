{
  "nbformat": 4,
  "nbformat_minor": 0,
  "metadata": {
    "kernelspec": {
      "display_name": "Python 3 (ipykernel)",
      "language": "python",
      "name": "python3"
    },
    "language_info": {
      "codemirror_mode": {
        "name": "ipython",
        "version": 3
      },
      "file_extension": ".py",
      "mimetype": "text/x-python",
      "name": "python",
      "nbconvert_exporter": "python",
      "pygments_lexer": "ipython3",
      "version": "3.7.11"
    },
    "colab": {
      "name": "xl-classifier-colab-v1.ipynb",
      "provenance": [],
      "collapsed_sections": []
    }
  },
  "cells": [
    {
      "cell_type": "markdown",
      "metadata": {
        "id": "rBX6UgKeR8Dg"
      },
      "source": [
        "# K210【分类模型】的训练"
      ]
    },
    {
      "cell_type": "code",
      "metadata": {
        "id": "vBDQ4Y_WR8Dk"
      },
      "source": [
        "# "
      ],
      "execution_count": null,
      "outputs": []
    },
    {
      "cell_type": "markdown",
      "metadata": {
        "id": "3VS7nd6IR8Dm"
      },
      "source": [
        "## 设置 colab硬盘绑定，方便循环使用"
      ]
    },
    {
      "cell_type": "code",
      "metadata": {
        "colab": {
          "base_uri": "https://localhost:8080/"
        },
        "id": "ViBCCJ2qR8Dm",
        "outputId": "ee88bf1e-57bd-46ff-f802-d581079e51dd"
      },
      "source": [
        "# https://blog.csdn.net/aiynmimi/article/details/88238246\n",
        "# ##这里的输入框中，填入授权的code，回车 ##\n",
        "from google.colab import drive\n",
        "drive.mount('/content/drive/')"
      ],
      "execution_count": 1,
      "outputs": [
        {
          "output_type": "stream",
          "name": "stdout",
          "text": [
            "Mounted at /content/drive/\n"
          ]
        }
      ]
    },
    {
      "cell_type": "code",
      "metadata": {
        "id": "8OrEuYa7R8Dn"
      },
      "source": [
        "# set colab\n",
        "import os\n",
        "os.chdir(\"/content/drive/My Drive/Colab Notebooks\")\n",
        "# \"Colab Notebooks\" 就是根目录了"
      ],
      "execution_count": 2,
      "outputs": []
    },
    {
      "cell_type": "markdown",
      "metadata": {
        "id": "_-y_M2q7R8Do"
      },
      "source": [
        "##  获取git代码构建环境"
      ]
    },
    {
      "cell_type": "code",
      "metadata": {
        "colab": {
          "base_uri": "https://localhost:8080/"
        },
        "id": "zRWAyAymR8Do",
        "outputId": "df1ee69c-60cc-43f9-d830-a2af9f79a24c"
      },
      "source": [
        "!ls ./"
      ],
      "execution_count": 48,
      "outputs": [
        {
          "output_type": "stream",
          "name": "stdout",
          "text": [
            "data  models  share  train  ts_save  Untitled0.ipynb\n"
          ]
        }
      ]
    },
    {
      "cell_type": "code",
      "metadata": {
        "colab": {
          "base_uri": "https://localhost:8080/",
          "height": 35
        },
        "id": "SRC53sD8UHtr",
        "outputId": "2a42a346-49e2-4dae-9fe3-e6a2d09d5609"
      },
      "source": [
        "pwd"
      ],
      "execution_count": 8,
      "outputs": [
        {
          "output_type": "execute_result",
          "data": {
            "application/vnd.google.colaboratory.intrinsic+json": {
              "type": "string"
            },
            "text/plain": [
              "'/content/drive/My Drive/Colab Notebooks'"
            ]
          },
          "metadata": {},
          "execution_count": 8
        }
      ]
    },
    {
      "cell_type": "code",
      "metadata": {
        "colab": {
          "base_uri": "https://localhost:8080/"
        },
        "id": "2KdI3KlmR8Dp",
        "outputId": "5b68a8b3-96bc-477d-845d-38438d660684"
      },
      "source": [
        "!mkdir ./train\n",
        "!mkdir ./train/k210_work\n",
        "!mkdir ./train/k210_work/external-libraries\n",
        "\n",
        "work_dir = './train/k210_work' # 工作目录\n",
        "git_dir = f'{work_dir}/k210' # git代码目录"
      ],
      "execution_count": 49,
      "outputs": [
        {
          "output_type": "stream",
          "name": "stdout",
          "text": [
            "mkdir: cannot create directory ‘./train’: File exists\n",
            "mkdir: cannot create directory ‘./train/k210_work’: File exists\n",
            "mkdir: cannot create directory ‘./train/k210_work/external-libraries’: File exists\n"
          ]
        }
      ]
    },
    {
      "cell_type": "code",
      "metadata": {
        "jupyter": {
          "outputs_hidden": false
        },
        "id": "T6B0X-KwR8Dq"
      },
      "source": [
        "%%bash\n",
        "if [ -d \"./train/k210_work/k210\" ]; then\n",
        "  rm -f -r \"./train/k210_work/k210\"\n",
        "fi\n",
        "# # git代码没更新，就没必要删除重新获取"
      ],
      "execution_count": 5,
      "outputs": []
    },
    {
      "cell_type": "code",
      "metadata": {
        "jupyter": {
          "outputs_hidden": false
        },
        "colab": {
          "base_uri": "https://localhost:8080/"
        },
        "id": "TzYF5_FxR8Dr",
        "outputId": "bdd03e19-79ac-442e-f961-3bbbb5ec47f3"
      },
      "source": [
        "%%bash\n",
        "cd ./train/k210_work\n",
        "##git clone https://gitee.com/ai-liam/k210\n",
        "git clone https://github.com/ai-liam/k210\n",
        "## 下载过就不必要下载"
      ],
      "execution_count": 10,
      "outputs": [
        {
          "output_type": "stream",
          "name": "stderr",
          "text": [
            "Cloning into 'k210'...\n",
            "Checking out files:  34% (53/154)   \rChecking out files:  35% (54/154)   \rChecking out files:  36% (56/154)   \rChecking out files:  37% (57/154)   \rChecking out files:  38% (59/154)   \rChecking out files:  39% (61/154)   \rChecking out files:  40% (62/154)   \rChecking out files:  41% (64/154)   \rChecking out files:  42% (65/154)   \rChecking out files:  43% (67/154)   \rChecking out files:  44% (68/154)   \rChecking out files:  45% (70/154)   \rChecking out files:  46% (71/154)   \rChecking out files:  47% (73/154)   \rChecking out files:  48% (74/154)   \rChecking out files:  49% (76/154)   \rChecking out files:  50% (77/154)   \rChecking out files:  51% (79/154)   \rChecking out files:  52% (81/154)   \rChecking out files:  53% (82/154)   \rChecking out files:  54% (84/154)   \rChecking out files:  55% (85/154)   \rChecking out files:  56% (87/154)   \rChecking out files:  57% (88/154)   \rChecking out files:  58% (90/154)   \rChecking out files:  59% (91/154)   \rChecking out files:  60% (93/154)   \rChecking out files:  61% (94/154)   \rChecking out files:  62% (96/154)   \rChecking out files:  63% (98/154)   \rChecking out files:  64% (99/154)   \rChecking out files:  65% (101/154)   \rChecking out files:  66% (102/154)   \rChecking out files:  67% (104/154)   \rChecking out files:  68% (105/154)   \rChecking out files:  69% (107/154)   \rChecking out files:  70% (108/154)   \rChecking out files:  71% (110/154)   \rChecking out files:  72% (111/154)   \rChecking out files:  73% (113/154)   \rChecking out files:  74% (114/154)   \rChecking out files:  75% (116/154)   \rChecking out files:  76% (118/154)   \rChecking out files:  77% (119/154)   \rChecking out files:  78% (121/154)   \rChecking out files:  79% (122/154)   \rChecking out files:  80% (124/154)   \rChecking out files:  81% (125/154)   \rChecking out files:  82% (127/154)   \rChecking out files:  83% (128/154)   \rChecking out files:  84% (130/154)   \rChecking out files:  85% (131/154)   \rChecking out files:  86% (133/154)   \rChecking out files:  87% (134/154)   \rChecking out files:  88% (136/154)   \rChecking out files:  89% (138/154)   \rChecking out files:  90% (139/154)   \rChecking out files:  91% (141/154)   \rChecking out files:  92% (142/154)   \rChecking out files:  93% (144/154)   \rChecking out files:  94% (145/154)   \rChecking out files:  95% (147/154)   \rChecking out files:  96% (148/154)   \rChecking out files:  97% (150/154)   \rChecking out files:  98% (151/154)   \rChecking out files:  99% (153/154)   \rChecking out files: 100% (154/154)   \rChecking out files: 100% (154/154), done.\n"
          ]
        }
      ]
    },
    {
      "cell_type": "code",
      "metadata": {
        "jupyter": {
          "outputs_hidden": false
        },
        "id": "p2O5P5gyR8Dt"
      },
      "source": [
        "## 安装过就必要在安装\n",
        "#!pip install -r ./train/k210_work/k210/k210_train/requirements.txt -t ./train/k210_work/external-libraries\n",
        "##!pip install -r ./train/k210_work/k210/k210_train/requirements.txt -i https://mirrors.aliyun.com/pypi/simple/ -t /home/aistudio/external-libraries"
      ],
      "execution_count": 47,
      "outputs": []
    },
    {
      "cell_type": "markdown",
      "metadata": {
        "id": "qzmhmpD_R8Dt"
      },
      "source": [
        "## 上传和设置数据源目录"
      ]
    },
    {
      "cell_type": "code",
      "metadata": {
        "jupyter": {
          "outputs_hidden": false
        },
        "id": "gh3fdI0xR8Du"
      },
      "source": [
        "# 把你的 xx.zip 数据上到 work目录，【注意，解压得到为 images】参考例子数据\n",
        "upload_zip = f\"{git_dir}/datasets/classifier_datasets.zip\"# demo数据\n",
        "data_unzip = f\"{git_dir}/datasets/ts_classifier/\"\n",
        "data_unzip_last = data_unzip+\"images\" #最后解压后的目录"
      ],
      "execution_count": 56,
      "outputs": []
    },
    {
      "cell_type": "code",
      "metadata": {
        "colab": {
          "base_uri": "https://localhost:8080/"
        },
        "id": "xuswQSjpXhrv",
        "outputId": "4191be1a-1e18-4e65-c283-ac63e00aff75"
      },
      "source": [
        "## 解压过就不用再解压\n",
        "import os\n",
        "\n",
        "cmd = f\"unzip -o -d {data_unzip} {upload_zip}\"\n",
        "f=os.popen(cmd)\n",
        "print(f.read())"
      ],
      "execution_count": 57,
      "outputs": [
        {
          "output_type": "stream",
          "name": "stdout",
          "text": [
            "Archive:  ./train/k210_work/k210/datasets/classifier_datasets.zip\n",
            "  inflating: ./train/k210_work/k210/datasets/ts_classifier/images/0/0.jpg  \n",
            "  inflating: ./train/k210_work/k210/datasets/ts_classifier/images/0/1.jpg  \n",
            "  inflating: ./train/k210_work/k210/datasets/ts_classifier/images/0/10.jpg  \n",
            "  inflating: ./train/k210_work/k210/datasets/ts_classifier/images/0/100.jpg  \n",
            "  inflating: ./train/k210_work/k210/datasets/ts_classifier/images/0/101.jpg  \n",
            "  inflating: ./train/k210_work/k210/datasets/ts_classifier/images/0/102.jpg  \n",
            "  inflating: ./train/k210_work/k210/datasets/ts_classifier/images/0/103.jpg  \n",
            "  inflating: ./train/k210_work/k210/datasets/ts_classifier/images/0/104.jpg  \n",
            "  inflating: ./train/k210_work/k210/datasets/ts_classifier/images/0/105.jpg  \n",
            "  inflating: ./train/k210_work/k210/datasets/ts_classifier/images/0/106.jpg  \n",
            "  inflating: ./train/k210_work/k210/datasets/ts_classifier/images/0/107.jpg  \n",
            "  inflating: ./train/k210_work/k210/datasets/ts_classifier/images/0/108.jpg  \n",
            "  inflating: ./train/k210_work/k210/datasets/ts_classifier/images/0/109.jpg  \n",
            "  inflating: ./train/k210_work/k210/datasets/ts_classifier/images/0/11.jpg  \n",
            "  inflating: ./train/k210_work/k210/datasets/ts_classifier/images/0/110.jpg  \n",
            "  inflating: ./train/k210_work/k210/datasets/ts_classifier/images/0/111.jpg  \n",
            "  inflating: ./train/k210_work/k210/datasets/ts_classifier/images/0/112.jpg  \n",
            "  inflating: ./train/k210_work/k210/datasets/ts_classifier/images/0/113.jpg  \n",
            "  inflating: ./train/k210_work/k210/datasets/ts_classifier/images/0/114.jpg  \n",
            "  inflating: ./train/k210_work/k210/datasets/ts_classifier/images/0/115.jpg  \n",
            "  inflating: ./train/k210_work/k210/datasets/ts_classifier/images/0/116.jpg  \n",
            "  inflating: ./train/k210_work/k210/datasets/ts_classifier/images/0/117.jpg  \n",
            "  inflating: ./train/k210_work/k210/datasets/ts_classifier/images/0/118.jpg  \n",
            "  inflating: ./train/k210_work/k210/datasets/ts_classifier/images/0/119.jpg  \n",
            "  inflating: ./train/k210_work/k210/datasets/ts_classifier/images/0/12.jpg  \n",
            "  inflating: ./train/k210_work/k210/datasets/ts_classifier/images/0/120.jpg  \n",
            "  inflating: ./train/k210_work/k210/datasets/ts_classifier/images/0/198.jpg  \n",
            "  inflating: ./train/k210_work/k210/datasets/ts_classifier/images/0/199.jpg  \n",
            "  inflating: ./train/k210_work/k210/datasets/ts_classifier/images/0/2.jpg  \n",
            "  inflating: ./train/k210_work/k210/datasets/ts_classifier/images/0/20.jpg  \n",
            "  inflating: ./train/k210_work/k210/datasets/ts_classifier/images/0/200.jpg  \n",
            "  inflating: ./train/k210_work/k210/datasets/ts_classifier/images/0/201.jpg  \n",
            "  inflating: ./train/k210_work/k210/datasets/ts_classifier/images/0/202.jpg  \n",
            "  inflating: ./train/k210_work/k210/datasets/ts_classifier/images/0/203.jpg  \n",
            "  inflating: ./train/k210_work/k210/datasets/ts_classifier/images/0/204.jpg  \n",
            "  inflating: ./train/k210_work/k210/datasets/ts_classifier/images/0/205.jpg  \n",
            "  inflating: ./train/k210_work/k210/datasets/ts_classifier/images/0/206.jpg  \n",
            "  inflating: ./train/k210_work/k210/datasets/ts_classifier/images/0/207.jpg  \n",
            "  inflating: ./train/k210_work/k210/datasets/ts_classifier/images/0/208.jpg  \n",
            "  inflating: ./train/k210_work/k210/datasets/ts_classifier/images/0/209.jpg  \n",
            "  inflating: ./train/k210_work/k210/datasets/ts_classifier/images/0/21.jpg  \n",
            "  inflating: ./train/k210_work/k210/datasets/ts_classifier/images/0/210.jpg  \n",
            "  inflating: ./train/k210_work/k210/datasets/ts_classifier/images/0/211.jpg  \n",
            "  inflating: ./train/k210_work/k210/datasets/ts_classifier/images/0/212.jpg  \n",
            "  inflating: ./train/k210_work/k210/datasets/ts_classifier/images/0/213.jpg  \n",
            "  inflating: ./train/k210_work/k210/datasets/ts_classifier/images/0/214.jpg  \n",
            "  inflating: ./train/k210_work/k210/datasets/ts_classifier/images/0/215.jpg  \n",
            "  inflating: ./train/k210_work/k210/datasets/ts_classifier/images/0/216.jpg  \n",
            "  inflating: ./train/k210_work/k210/datasets/ts_classifier/images/0/217.jpg  \n",
            "  inflating: ./train/k210_work/k210/datasets/ts_classifier/images/0/218.jpg  \n",
            "  inflating: ./train/k210_work/k210/datasets/ts_classifier/images/0/219.jpg  \n",
            "  inflating: ./train/k210_work/k210/datasets/ts_classifier/images/0/22.jpg  \n",
            "  inflating: ./train/k210_work/k210/datasets/ts_classifier/images/0/220.jpg  \n",
            "  inflating: ./train/k210_work/k210/datasets/ts_classifier/images/0/221.jpg  \n",
            "  inflating: ./train/k210_work/k210/datasets/ts_classifier/images/0/222.jpg  \n",
            "  inflating: ./train/k210_work/k210/datasets/ts_classifier/images/0/223.jpg  \n",
            "  inflating: ./train/k210_work/k210/datasets/ts_classifier/images/0/224.jpg  \n",
            "  inflating: ./train/k210_work/k210/datasets/ts_classifier/images/0/225.jpg  \n",
            "  inflating: ./train/k210_work/k210/datasets/ts_classifier/images/0/226.jpg  \n",
            "  inflating: ./train/k210_work/k210/datasets/ts_classifier/images/0/227.jpg  \n",
            "  inflating: ./train/k210_work/k210/datasets/ts_classifier/images/0/228.jpg  \n",
            "  inflating: ./train/k210_work/k210/datasets/ts_classifier/images/0/229.jpg  \n",
            "  inflating: ./train/k210_work/k210/datasets/ts_classifier/images/0/23.jpg  \n",
            "  inflating: ./train/k210_work/k210/datasets/ts_classifier/images/0/230.jpg  \n",
            "  inflating: ./train/k210_work/k210/datasets/ts_classifier/images/0/231.jpg  \n",
            "  inflating: ./train/k210_work/k210/datasets/ts_classifier/images/0/232.jpg  \n",
            "  inflating: ./train/k210_work/k210/datasets/ts_classifier/images/0/275.jpg  \n",
            "  inflating: ./train/k210_work/k210/datasets/ts_classifier/images/0/276.jpg  \n",
            "  inflating: ./train/k210_work/k210/datasets/ts_classifier/images/0/277.jpg  \n",
            "  inflating: ./train/k210_work/k210/datasets/ts_classifier/images/0/278.jpg  \n",
            "  inflating: ./train/k210_work/k210/datasets/ts_classifier/images/0/279.jpg  \n",
            "  inflating: ./train/k210_work/k210/datasets/ts_classifier/images/0/28.jpg  \n",
            "  inflating: ./train/k210_work/k210/datasets/ts_classifier/images/0/280.jpg  \n",
            "  inflating: ./train/k210_work/k210/datasets/ts_classifier/images/0/281.jpg  \n",
            "  inflating: ./train/k210_work/k210/datasets/ts_classifier/images/0/282.jpg  \n",
            "  inflating: ./train/k210_work/k210/datasets/ts_classifier/images/0/283.jpg  \n",
            "  inflating: ./train/k210_work/k210/datasets/ts_classifier/images/0/284.jpg  \n",
            "  inflating: ./train/k210_work/k210/datasets/ts_classifier/images/0/285.jpg  \n",
            "  inflating: ./train/k210_work/k210/datasets/ts_classifier/images/0/286.jpg  \n",
            "  inflating: ./train/k210_work/k210/datasets/ts_classifier/images/0/287.jpg  \n",
            "  inflating: ./train/k210_work/k210/datasets/ts_classifier/images/0/288.jpg  \n",
            "  inflating: ./train/k210_work/k210/datasets/ts_classifier/images/0/289.jpg  \n",
            "  inflating: ./train/k210_work/k210/datasets/ts_classifier/images/0/29.jpg  \n",
            "  inflating: ./train/k210_work/k210/datasets/ts_classifier/images/0/290.jpg  \n",
            "  inflating: ./train/k210_work/k210/datasets/ts_classifier/images/0/291.jpg  \n",
            "  inflating: ./train/k210_work/k210/datasets/ts_classifier/images/0/292.jpg  \n",
            "  inflating: ./train/k210_work/k210/datasets/ts_classifier/images/0/293.jpg  \n",
            "  inflating: ./train/k210_work/k210/datasets/ts_classifier/images/0/294.jpg  \n",
            "  inflating: ./train/k210_work/k210/datasets/ts_classifier/images/0/295.jpg  \n",
            "  inflating: ./train/k210_work/k210/datasets/ts_classifier/images/0/296.jpg  \n",
            "  inflating: ./train/k210_work/k210/datasets/ts_classifier/images/0/297.jpg  \n",
            "  inflating: ./train/k210_work/k210/datasets/ts_classifier/images/0/150.jpg  \n",
            "  inflating: ./train/k210_work/k210/datasets/ts_classifier/images/0/151.jpg  \n",
            "  inflating: ./train/k210_work/k210/datasets/ts_classifier/images/0/152.jpg  \n",
            "  inflating: ./train/k210_work/k210/datasets/ts_classifier/images/0/153.jpg  \n",
            "  inflating: ./train/k210_work/k210/datasets/ts_classifier/images/0/154.jpg  \n",
            "  inflating: ./train/k210_work/k210/datasets/ts_classifier/images/0/155.jpg  \n",
            "  inflating: ./train/k210_work/k210/datasets/ts_classifier/images/0/156.jpg  \n",
            "  inflating: ./train/k210_work/k210/datasets/ts_classifier/images/0/157.jpg  \n",
            "  inflating: ./train/k210_work/k210/datasets/ts_classifier/images/0/158.jpg  \n",
            "  inflating: ./train/k210_work/k210/datasets/ts_classifier/images/0/159.jpg  \n",
            "  inflating: ./train/k210_work/k210/datasets/ts_classifier/images/0/16.jpg  \n",
            "  inflating: ./train/k210_work/k210/datasets/ts_classifier/images/0/160.jpg  \n",
            "  inflating: ./train/k210_work/k210/datasets/ts_classifier/images/0/161.jpg  \n",
            "  inflating: ./train/k210_work/k210/datasets/ts_classifier/images/0/162.jpg  \n",
            "  inflating: ./train/k210_work/k210/datasets/ts_classifier/images/0/163.jpg  \n",
            "  inflating: ./train/k210_work/k210/datasets/ts_classifier/images/0/164.jpg  \n",
            "  inflating: ./train/k210_work/k210/datasets/ts_classifier/images/0/165.jpg  \n",
            "  inflating: ./train/k210_work/k210/datasets/ts_classifier/images/0/166.jpg  \n",
            "  inflating: ./train/k210_work/k210/datasets/ts_classifier/images/0/167.jpg  \n",
            "  inflating: ./train/k210_work/k210/datasets/ts_classifier/images/0/168.jpg  \n",
            "  inflating: ./train/k210_work/k210/datasets/ts_classifier/images/0/169.jpg  \n",
            "  inflating: ./train/k210_work/k210/datasets/ts_classifier/images/0/17.jpg  \n",
            "  inflating: ./train/k210_work/k210/datasets/ts_classifier/images/0/170.jpg  \n",
            "  inflating: ./train/k210_work/k210/datasets/ts_classifier/images/0/171.jpg  \n",
            "  inflating: ./train/k210_work/k210/datasets/ts_classifier/images/0/51.jpg  \n",
            "  inflating: ./train/k210_work/k210/datasets/ts_classifier/images/0/52.jpg  \n",
            "  inflating: ./train/k210_work/k210/datasets/ts_classifier/images/0/53.jpg  \n",
            "  inflating: ./train/k210_work/k210/datasets/ts_classifier/images/0/54.jpg  \n",
            "  inflating: ./train/k210_work/k210/datasets/ts_classifier/images/0/55.jpg  \n",
            "  inflating: ./train/k210_work/k210/datasets/ts_classifier/images/0/56.jpg  \n",
            "  inflating: ./train/k210_work/k210/datasets/ts_classifier/images/0/57.jpg  \n",
            "  inflating: ./train/k210_work/k210/datasets/ts_classifier/images/0/58.jpg  \n",
            "  inflating: ./train/k210_work/k210/datasets/ts_classifier/images/0/59.jpg  \n",
            "  inflating: ./train/k210_work/k210/datasets/ts_classifier/images/0/6.jpg  \n",
            "  inflating: ./train/k210_work/k210/datasets/ts_classifier/images/0/60.jpg  \n",
            "  inflating: ./train/k210_work/k210/datasets/ts_classifier/images/0/61.jpg  \n",
            "  inflating: ./train/k210_work/k210/datasets/ts_classifier/images/0/62.jpg  \n",
            "  inflating: ./train/k210_work/k210/datasets/ts_classifier/images/0/63.jpg  \n",
            "  inflating: ./train/k210_work/k210/datasets/ts_classifier/images/0/64.jpg  \n",
            "  inflating: ./train/k210_work/k210/datasets/ts_classifier/images/0/65.jpg  \n",
            "  inflating: ./train/k210_work/k210/datasets/ts_classifier/images/0/66.jpg  \n",
            "  inflating: ./train/k210_work/k210/datasets/ts_classifier/images/0/67.jpg  \n",
            "  inflating: ./train/k210_work/k210/datasets/ts_classifier/images/0/68.jpg  \n",
            "  inflating: ./train/k210_work/k210/datasets/ts_classifier/images/0/69.jpg  \n",
            "  inflating: ./train/k210_work/k210/datasets/ts_classifier/images/0/7.jpg  \n",
            "  inflating: ./train/k210_work/k210/datasets/ts_classifier/images/0/70.jpg  \n",
            "  inflating: ./train/k210_work/k210/datasets/ts_classifier/images/0/71.jpg  \n",
            "  inflating: ./train/k210_work/k210/datasets/ts_classifier/images/0/72.jpg  \n",
            "  inflating: ./train/k210_work/k210/datasets/ts_classifier/images/0/73.jpg  \n",
            "  inflating: ./train/k210_work/k210/datasets/ts_classifier/images/0/74.jpg  \n",
            "  inflating: ./train/k210_work/k210/datasets/ts_classifier/images/0/75.jpg  \n",
            "  inflating: ./train/k210_work/k210/datasets/ts_classifier/images/0/121.jpg  \n",
            "  inflating: ./train/k210_work/k210/datasets/ts_classifier/images/0/15.jpg  \n",
            "  inflating: ./train/k210_work/k210/datasets/ts_classifier/images/0/172.jpg  \n",
            "  inflating: ./train/k210_work/k210/datasets/ts_classifier/images/0/197.jpg  \n",
            "  inflating: ./train/k210_work/k210/datasets/ts_classifier/images/0/233.jpg  \n",
            "  inflating: ./train/k210_work/k210/datasets/ts_classifier/images/0/253.jpg  \n",
            "  inflating: ./train/k210_work/k210/datasets/ts_classifier/images/0/274.jpg  \n",
            "  inflating: ./train/k210_work/k210/datasets/ts_classifier/images/0/298.jpg  \n",
            "  inflating: ./train/k210_work/k210/datasets/ts_classifier/images/0/50.jpg  \n",
            "  inflating: ./train/k210_work/k210/datasets/ts_classifier/images/0/76.jpg  \n",
            "  inflating: ./train/k210_work/k210/datasets/ts_classifier/images/0/234.jpg  \n",
            "  inflating: ./train/k210_work/k210/datasets/ts_classifier/images/0/235.jpg  \n",
            "  inflating: ./train/k210_work/k210/datasets/ts_classifier/images/0/236.jpg  \n",
            "  inflating: ./train/k210_work/k210/datasets/ts_classifier/images/0/237.jpg  \n",
            "  inflating: ./train/k210_work/k210/datasets/ts_classifier/images/0/238.jpg  \n",
            "  inflating: ./train/k210_work/k210/datasets/ts_classifier/images/0/239.jpg  \n",
            "  inflating: ./train/k210_work/k210/datasets/ts_classifier/images/0/24.jpg  \n",
            "  inflating: ./train/k210_work/k210/datasets/ts_classifier/images/0/240.jpg  \n",
            "  inflating: ./train/k210_work/k210/datasets/ts_classifier/images/0/241.jpg  \n",
            "  inflating: ./train/k210_work/k210/datasets/ts_classifier/images/0/242.jpg  \n",
            "  inflating: ./train/k210_work/k210/datasets/ts_classifier/images/0/243.jpg  \n",
            "  inflating: ./train/k210_work/k210/datasets/ts_classifier/images/0/244.jpg  \n",
            "  inflating: ./train/k210_work/k210/datasets/ts_classifier/images/0/245.jpg  \n",
            "  inflating: ./train/k210_work/k210/datasets/ts_classifier/images/0/246.jpg  \n",
            "  inflating: ./train/k210_work/k210/datasets/ts_classifier/images/0/247.jpg  \n",
            "  inflating: ./train/k210_work/k210/datasets/ts_classifier/images/0/248.jpg  \n",
            "  inflating: ./train/k210_work/k210/datasets/ts_classifier/images/0/249.jpg  \n",
            "  inflating: ./train/k210_work/k210/datasets/ts_classifier/images/0/25.jpg  \n",
            "  inflating: ./train/k210_work/k210/datasets/ts_classifier/images/0/250.jpg  \n",
            "  inflating: ./train/k210_work/k210/datasets/ts_classifier/images/0/251.jpg  \n",
            "  inflating: ./train/k210_work/k210/datasets/ts_classifier/images/0/252.jpg  \n",
            "  inflating: ./train/k210_work/k210/datasets/ts_classifier/images/0/77.jpg  \n",
            "  inflating: ./train/k210_work/k210/datasets/ts_classifier/images/0/78.jpg  \n",
            "  inflating: ./train/k210_work/k210/datasets/ts_classifier/images/0/79.jpg  \n",
            "  inflating: ./train/k210_work/k210/datasets/ts_classifier/images/0/8.jpg  \n",
            "  inflating: ./train/k210_work/k210/datasets/ts_classifier/images/0/80.jpg  \n",
            "  inflating: ./train/k210_work/k210/datasets/ts_classifier/images/0/81.jpg  \n",
            "  inflating: ./train/k210_work/k210/datasets/ts_classifier/images/0/82.jpg  \n",
            "  inflating: ./train/k210_work/k210/datasets/ts_classifier/images/0/83.jpg  \n",
            "  inflating: ./train/k210_work/k210/datasets/ts_classifier/images/0/84.jpg  \n",
            "  inflating: ./train/k210_work/k210/datasets/ts_classifier/images/0/85.jpg  \n",
            "  inflating: ./train/k210_work/k210/datasets/ts_classifier/images/0/86.jpg  \n",
            "  inflating: ./train/k210_work/k210/datasets/ts_classifier/images/0/87.jpg  \n",
            "  inflating: ./train/k210_work/k210/datasets/ts_classifier/images/0/88.jpg  \n",
            "  inflating: ./train/k210_work/k210/datasets/ts_classifier/images/0/89.jpg  \n",
            "  inflating: ./train/k210_work/k210/datasets/ts_classifier/images/0/9.jpg  \n",
            "  inflating: ./train/k210_work/k210/datasets/ts_classifier/images/0/90.jpg  \n",
            "  inflating: ./train/k210_work/k210/datasets/ts_classifier/images/0/91.jpg  \n",
            "  inflating: ./train/k210_work/k210/datasets/ts_classifier/images/0/92.jpg  \n",
            "  inflating: ./train/k210_work/k210/datasets/ts_classifier/images/0/93.jpg  \n",
            "  inflating: ./train/k210_work/k210/datasets/ts_classifier/images/0/94.jpg  \n",
            "  inflating: ./train/k210_work/k210/datasets/ts_classifier/images/0/95.jpg  \n",
            "  inflating: ./train/k210_work/k210/datasets/ts_classifier/images/0/96.jpg  \n",
            "  inflating: ./train/k210_work/k210/datasets/ts_classifier/images/0/97.jpg  \n",
            "  inflating: ./train/k210_work/k210/datasets/ts_classifier/images/0/98.jpg  \n",
            "  inflating: ./train/k210_work/k210/datasets/ts_classifier/images/0/99.jpg  \n",
            "  inflating: ./train/k210_work/k210/datasets/ts_classifier/images/0/122.jpg  \n",
            "  inflating: ./train/k210_work/k210/datasets/ts_classifier/images/0/123.jpg  \n",
            "  inflating: ./train/k210_work/k210/datasets/ts_classifier/images/0/124.jpg  \n",
            "  inflating: ./train/k210_work/k210/datasets/ts_classifier/images/0/125.jpg  \n",
            "  inflating: ./train/k210_work/k210/datasets/ts_classifier/images/0/126.jpg  \n",
            "  inflating: ./train/k210_work/k210/datasets/ts_classifier/images/0/127.jpg  \n",
            "  inflating: ./train/k210_work/k210/datasets/ts_classifier/images/0/128.jpg  \n",
            "  inflating: ./train/k210_work/k210/datasets/ts_classifier/images/0/129.jpg  \n",
            "  inflating: ./train/k210_work/k210/datasets/ts_classifier/images/0/13.jpg  \n",
            "  inflating: ./train/k210_work/k210/datasets/ts_classifier/images/0/130.jpg  \n",
            "  inflating: ./train/k210_work/k210/datasets/ts_classifier/images/0/131.jpg  \n",
            "  inflating: ./train/k210_work/k210/datasets/ts_classifier/images/0/132.jpg  \n",
            "  inflating: ./train/k210_work/k210/datasets/ts_classifier/images/0/133.jpg  \n",
            "  inflating: ./train/k210_work/k210/datasets/ts_classifier/images/0/134.jpg  \n",
            "  inflating: ./train/k210_work/k210/datasets/ts_classifier/images/0/135.jpg  \n",
            "  inflating: ./train/k210_work/k210/datasets/ts_classifier/images/0/136.jpg  \n",
            "  inflating: ./train/k210_work/k210/datasets/ts_classifier/images/0/137.jpg  \n",
            "  inflating: ./train/k210_work/k210/datasets/ts_classifier/images/0/138.jpg  \n",
            "  inflating: ./train/k210_work/k210/datasets/ts_classifier/images/0/139.jpg  \n",
            "  inflating: ./train/k210_work/k210/datasets/ts_classifier/images/0/14.jpg  \n",
            "  inflating: ./train/k210_work/k210/datasets/ts_classifier/images/0/140.jpg  \n",
            "  inflating: ./train/k210_work/k210/datasets/ts_classifier/images/0/141.jpg  \n",
            "  inflating: ./train/k210_work/k210/datasets/ts_classifier/images/0/142.jpg  \n",
            "  inflating: ./train/k210_work/k210/datasets/ts_classifier/images/0/143.jpg  \n",
            "  inflating: ./train/k210_work/k210/datasets/ts_classifier/images/0/144.jpg  \n",
            "  inflating: ./train/k210_work/k210/datasets/ts_classifier/images/0/145.jpg  \n",
            "  inflating: ./train/k210_work/k210/datasets/ts_classifier/images/0/146.jpg  \n",
            "  inflating: ./train/k210_work/k210/datasets/ts_classifier/images/0/147.jpg  \n",
            "  inflating: ./train/k210_work/k210/datasets/ts_classifier/images/0/148.jpg  \n",
            "  inflating: ./train/k210_work/k210/datasets/ts_classifier/images/0/149.jpg  \n",
            "  inflating: ./train/k210_work/k210/datasets/ts_classifier/images/0/173.jpg  \n",
            "  inflating: ./train/k210_work/k210/datasets/ts_classifier/images/0/174.jpg  \n",
            "  inflating: ./train/k210_work/k210/datasets/ts_classifier/images/0/175.jpg  \n",
            "  inflating: ./train/k210_work/k210/datasets/ts_classifier/images/0/176.jpg  \n",
            "  inflating: ./train/k210_work/k210/datasets/ts_classifier/images/0/177.jpg  \n",
            "  inflating: ./train/k210_work/k210/datasets/ts_classifier/images/0/178.jpg  \n",
            "  inflating: ./train/k210_work/k210/datasets/ts_classifier/images/0/179.jpg  \n",
            "  inflating: ./train/k210_work/k210/datasets/ts_classifier/images/0/18.jpg  \n",
            "  inflating: ./train/k210_work/k210/datasets/ts_classifier/images/0/180.jpg  \n",
            "  inflating: ./train/k210_work/k210/datasets/ts_classifier/images/0/181.jpg  \n",
            "  inflating: ./train/k210_work/k210/datasets/ts_classifier/images/0/182.jpg  \n",
            "  inflating: ./train/k210_work/k210/datasets/ts_classifier/images/0/183.jpg  \n",
            "  inflating: ./train/k210_work/k210/datasets/ts_classifier/images/0/184.jpg  \n",
            "  inflating: ./train/k210_work/k210/datasets/ts_classifier/images/0/185.jpg  \n",
            "  inflating: ./train/k210_work/k210/datasets/ts_classifier/images/0/186.jpg  \n",
            "  inflating: ./train/k210_work/k210/datasets/ts_classifier/images/0/187.jpg  \n",
            "  inflating: ./train/k210_work/k210/datasets/ts_classifier/images/0/188.jpg  \n",
            "  inflating: ./train/k210_work/k210/datasets/ts_classifier/images/0/189.jpg  \n",
            "  inflating: ./train/k210_work/k210/datasets/ts_classifier/images/0/19.jpg  \n",
            "  inflating: ./train/k210_work/k210/datasets/ts_classifier/images/0/190.jpg  \n",
            "  inflating: ./train/k210_work/k210/datasets/ts_classifier/images/0/191.jpg  \n",
            "  inflating: ./train/k210_work/k210/datasets/ts_classifier/images/0/192.jpg  \n",
            "  inflating: ./train/k210_work/k210/datasets/ts_classifier/images/0/193.jpg  \n",
            "  inflating: ./train/k210_work/k210/datasets/ts_classifier/images/0/194.jpg  \n",
            "  inflating: ./train/k210_work/k210/datasets/ts_classifier/images/0/195.jpg  \n",
            "  inflating: ./train/k210_work/k210/datasets/ts_classifier/images/0/196.jpg  \n",
            "  inflating: ./train/k210_work/k210/datasets/ts_classifier/images/0/299.jpg  \n",
            "  inflating: ./train/k210_work/k210/datasets/ts_classifier/images/0/3.jpg  \n",
            "  inflating: ./train/k210_work/k210/datasets/ts_classifier/images/0/30.jpg  \n",
            "  inflating: ./train/k210_work/k210/datasets/ts_classifier/images/0/31.jpg  \n",
            "  inflating: ./train/k210_work/k210/datasets/ts_classifier/images/0/32.jpg  \n",
            "  inflating: ./train/k210_work/k210/datasets/ts_classifier/images/0/33.jpg  \n",
            "  inflating: ./train/k210_work/k210/datasets/ts_classifier/images/0/34.jpg  \n",
            "  inflating: ./train/k210_work/k210/datasets/ts_classifier/images/0/35.jpg  \n",
            "  inflating: ./train/k210_work/k210/datasets/ts_classifier/images/0/36.jpg  \n",
            "  inflating: ./train/k210_work/k210/datasets/ts_classifier/images/0/37.jpg  \n",
            "  inflating: ./train/k210_work/k210/datasets/ts_classifier/images/0/38.jpg  \n",
            "  inflating: ./train/k210_work/k210/datasets/ts_classifier/images/0/39.jpg  \n",
            "  inflating: ./train/k210_work/k210/datasets/ts_classifier/images/0/4.jpg  \n",
            "  inflating: ./train/k210_work/k210/datasets/ts_classifier/images/0/40.jpg  \n",
            "  inflating: ./train/k210_work/k210/datasets/ts_classifier/images/0/41.jpg  \n",
            "  inflating: ./train/k210_work/k210/datasets/ts_classifier/images/0/42.jpg  \n",
            "  inflating: ./train/k210_work/k210/datasets/ts_classifier/images/0/43.jpg  \n",
            "  inflating: ./train/k210_work/k210/datasets/ts_classifier/images/0/44.jpg  \n",
            "  inflating: ./train/k210_work/k210/datasets/ts_classifier/images/0/45.jpg  \n",
            "  inflating: ./train/k210_work/k210/datasets/ts_classifier/images/0/46.jpg  \n",
            "  inflating: ./train/k210_work/k210/datasets/ts_classifier/images/0/47.jpg  \n",
            "  inflating: ./train/k210_work/k210/datasets/ts_classifier/images/0/48.jpg  \n",
            "  inflating: ./train/k210_work/k210/datasets/ts_classifier/images/0/49.jpg  \n",
            "  inflating: ./train/k210_work/k210/datasets/ts_classifier/images/0/5.jpg  \n",
            "  inflating: ./train/k210_work/k210/datasets/ts_classifier/images/0/254.jpg  \n",
            "  inflating: ./train/k210_work/k210/datasets/ts_classifier/images/0/255.jpg  \n",
            "  inflating: ./train/k210_work/k210/datasets/ts_classifier/images/0/256.jpg  \n",
            "  inflating: ./train/k210_work/k210/datasets/ts_classifier/images/0/257.jpg  \n",
            "  inflating: ./train/k210_work/k210/datasets/ts_classifier/images/0/258.jpg  \n",
            "  inflating: ./train/k210_work/k210/datasets/ts_classifier/images/0/259.jpg  \n",
            "  inflating: ./train/k210_work/k210/datasets/ts_classifier/images/0/26.jpg  \n",
            "  inflating: ./train/k210_work/k210/datasets/ts_classifier/images/0/260.jpg  \n",
            "  inflating: ./train/k210_work/k210/datasets/ts_classifier/images/0/261.jpg  \n",
            "  inflating: ./train/k210_work/k210/datasets/ts_classifier/images/0/262.jpg  \n",
            "  inflating: ./train/k210_work/k210/datasets/ts_classifier/images/0/263.jpg  \n",
            "  inflating: ./train/k210_work/k210/datasets/ts_classifier/images/0/264.jpg  \n",
            "  inflating: ./train/k210_work/k210/datasets/ts_classifier/images/0/265.jpg  \n",
            "  inflating: ./train/k210_work/k210/datasets/ts_classifier/images/0/266.jpg  \n",
            "  inflating: ./train/k210_work/k210/datasets/ts_classifier/images/0/267.jpg  \n",
            "  inflating: ./train/k210_work/k210/datasets/ts_classifier/images/0/268.jpg  \n",
            "  inflating: ./train/k210_work/k210/datasets/ts_classifier/images/0/269.jpg  \n",
            "  inflating: ./train/k210_work/k210/datasets/ts_classifier/images/0/27.jpg  \n",
            "  inflating: ./train/k210_work/k210/datasets/ts_classifier/images/0/270.jpg  \n",
            "  inflating: ./train/k210_work/k210/datasets/ts_classifier/images/0/271.jpg  \n",
            "  inflating: ./train/k210_work/k210/datasets/ts_classifier/images/0/272.jpg  \n",
            "  inflating: ./train/k210_work/k210/datasets/ts_classifier/images/0/273.jpg  \n",
            "  inflating: ./train/k210_work/k210/datasets/ts_classifier/images/1/0.jpg  \n",
            "  inflating: ./train/k210_work/k210/datasets/ts_classifier/images/1/1.jpg  \n",
            "  inflating: ./train/k210_work/k210/datasets/ts_classifier/images/1/10.jpg  \n",
            "  inflating: ./train/k210_work/k210/datasets/ts_classifier/images/1/100.jpg  \n",
            "  inflating: ./train/k210_work/k210/datasets/ts_classifier/images/1/101.jpg  \n",
            "  inflating: ./train/k210_work/k210/datasets/ts_classifier/images/1/102.jpg  \n",
            "  inflating: ./train/k210_work/k210/datasets/ts_classifier/images/1/103.jpg  \n",
            "  inflating: ./train/k210_work/k210/datasets/ts_classifier/images/1/104.jpg  \n",
            "  inflating: ./train/k210_work/k210/datasets/ts_classifier/images/1/105.jpg  \n",
            "  inflating: ./train/k210_work/k210/datasets/ts_classifier/images/1/106.jpg  \n",
            "  inflating: ./train/k210_work/k210/datasets/ts_classifier/images/1/107.jpg  \n",
            "  inflating: ./train/k210_work/k210/datasets/ts_classifier/images/1/108.jpg  \n",
            "  inflating: ./train/k210_work/k210/datasets/ts_classifier/images/1/109.jpg  \n",
            "  inflating: ./train/k210_work/k210/datasets/ts_classifier/images/1/11.jpg  \n",
            "  inflating: ./train/k210_work/k210/datasets/ts_classifier/images/1/110.jpg  \n",
            "  inflating: ./train/k210_work/k210/datasets/ts_classifier/images/1/111.jpg  \n",
            "  inflating: ./train/k210_work/k210/datasets/ts_classifier/images/1/112.jpg  \n",
            "  inflating: ./train/k210_work/k210/datasets/ts_classifier/images/1/113.jpg  \n",
            "  inflating: ./train/k210_work/k210/datasets/ts_classifier/images/1/114.jpg  \n",
            "  inflating: ./train/k210_work/k210/datasets/ts_classifier/images/1/115.jpg  \n",
            "  inflating: ./train/k210_work/k210/datasets/ts_classifier/images/1/116.jpg  \n",
            "  inflating: ./train/k210_work/k210/datasets/ts_classifier/images/1/117.jpg  \n",
            "  inflating: ./train/k210_work/k210/datasets/ts_classifier/images/1/118.jpg  \n",
            "  inflating: ./train/k210_work/k210/datasets/ts_classifier/images/1/119.jpg  \n",
            "  inflating: ./train/k210_work/k210/datasets/ts_classifier/images/1/12.jpg  \n",
            "  inflating: ./train/k210_work/k210/datasets/ts_classifier/images/1/120.jpg  \n",
            "  inflating: ./train/k210_work/k210/datasets/ts_classifier/images/1/198.jpg  \n",
            "  inflating: ./train/k210_work/k210/datasets/ts_classifier/images/1/199.jpg  \n",
            "  inflating: ./train/k210_work/k210/datasets/ts_classifier/images/1/2.jpg  \n",
            "  inflating: ./train/k210_work/k210/datasets/ts_classifier/images/1/20.jpg  \n",
            "  inflating: ./train/k210_work/k210/datasets/ts_classifier/images/1/200.jpg  \n",
            "  inflating: ./train/k210_work/k210/datasets/ts_classifier/images/1/201.jpg  \n",
            "  inflating: ./train/k210_work/k210/datasets/ts_classifier/images/1/202.jpg  \n",
            "  inflating: ./train/k210_work/k210/datasets/ts_classifier/images/1/203.jpg  \n",
            "  inflating: ./train/k210_work/k210/datasets/ts_classifier/images/1/204.jpg  \n",
            "  inflating: ./train/k210_work/k210/datasets/ts_classifier/images/1/205.jpg  \n",
            "  inflating: ./train/k210_work/k210/datasets/ts_classifier/images/1/206.jpg  \n",
            "  inflating: ./train/k210_work/k210/datasets/ts_classifier/images/1/207.jpg  \n",
            "  inflating: ./train/k210_work/k210/datasets/ts_classifier/images/1/208.jpg  \n",
            "  inflating: ./train/k210_work/k210/datasets/ts_classifier/images/1/209.jpg  \n",
            "  inflating: ./train/k210_work/k210/datasets/ts_classifier/images/1/21.jpg  \n",
            "  inflating: ./train/k210_work/k210/datasets/ts_classifier/images/1/210.jpg  \n",
            "  inflating: ./train/k210_work/k210/datasets/ts_classifier/images/1/211.jpg  \n",
            "  inflating: ./train/k210_work/k210/datasets/ts_classifier/images/1/212.jpg  \n",
            "  inflating: ./train/k210_work/k210/datasets/ts_classifier/images/1/213.jpg  \n",
            "  inflating: ./train/k210_work/k210/datasets/ts_classifier/images/1/214.jpg  \n",
            "  inflating: ./train/k210_work/k210/datasets/ts_classifier/images/1/215.jpg  \n",
            "  inflating: ./train/k210_work/k210/datasets/ts_classifier/images/1/216.jpg  \n",
            "  inflating: ./train/k210_work/k210/datasets/ts_classifier/images/1/217.jpg  \n",
            "  inflating: ./train/k210_work/k210/datasets/ts_classifier/images/1/218.jpg  \n",
            "  inflating: ./train/k210_work/k210/datasets/ts_classifier/images/1/219.jpg  \n",
            "  inflating: ./train/k210_work/k210/datasets/ts_classifier/images/1/22.jpg  \n",
            "  inflating: ./train/k210_work/k210/datasets/ts_classifier/images/1/220.jpg  \n",
            "  inflating: ./train/k210_work/k210/datasets/ts_classifier/images/1/221.jpg  \n",
            "  inflating: ./train/k210_work/k210/datasets/ts_classifier/images/1/222.jpg  \n",
            "  inflating: ./train/k210_work/k210/datasets/ts_classifier/images/1/223.jpg  \n",
            "  inflating: ./train/k210_work/k210/datasets/ts_classifier/images/1/224.jpg  \n",
            "  inflating: ./train/k210_work/k210/datasets/ts_classifier/images/1/225.jpg  \n",
            "  inflating: ./train/k210_work/k210/datasets/ts_classifier/images/1/226.jpg  \n",
            "  inflating: ./train/k210_work/k210/datasets/ts_classifier/images/1/227.jpg  \n",
            "  inflating: ./train/k210_work/k210/datasets/ts_classifier/images/1/228.jpg  \n",
            "  inflating: ./train/k210_work/k210/datasets/ts_classifier/images/1/229.jpg  \n",
            "  inflating: ./train/k210_work/k210/datasets/ts_classifier/images/1/23.jpg  \n",
            "  inflating: ./train/k210_work/k210/datasets/ts_classifier/images/1/230.jpg  \n",
            "  inflating: ./train/k210_work/k210/datasets/ts_classifier/images/1/231.jpg  \n",
            "  inflating: ./train/k210_work/k210/datasets/ts_classifier/images/1/232.jpg  \n",
            "  inflating: ./train/k210_work/k210/datasets/ts_classifier/images/1/275.jpg  \n",
            "  inflating: ./train/k210_work/k210/datasets/ts_classifier/images/1/276.jpg  \n",
            "  inflating: ./train/k210_work/k210/datasets/ts_classifier/images/1/277.jpg  \n",
            "  inflating: ./train/k210_work/k210/datasets/ts_classifier/images/1/278.jpg  \n",
            "  inflating: ./train/k210_work/k210/datasets/ts_classifier/images/1/279.jpg  \n",
            "  inflating: ./train/k210_work/k210/datasets/ts_classifier/images/1/28.jpg  \n",
            "  inflating: ./train/k210_work/k210/datasets/ts_classifier/images/1/280.jpg  \n",
            "  inflating: ./train/k210_work/k210/datasets/ts_classifier/images/1/281.jpg  \n",
            "  inflating: ./train/k210_work/k210/datasets/ts_classifier/images/1/282.jpg  \n",
            "  inflating: ./train/k210_work/k210/datasets/ts_classifier/images/1/283.jpg  \n",
            "  inflating: ./train/k210_work/k210/datasets/ts_classifier/images/1/284.jpg  \n",
            "  inflating: ./train/k210_work/k210/datasets/ts_classifier/images/1/285.jpg  \n",
            "  inflating: ./train/k210_work/k210/datasets/ts_classifier/images/1/286.jpg  \n",
            "  inflating: ./train/k210_work/k210/datasets/ts_classifier/images/1/287.jpg  \n",
            "  inflating: ./train/k210_work/k210/datasets/ts_classifier/images/1/288.jpg  \n",
            "  inflating: ./train/k210_work/k210/datasets/ts_classifier/images/1/289.jpg  \n",
            "  inflating: ./train/k210_work/k210/datasets/ts_classifier/images/1/29.jpg  \n",
            "  inflating: ./train/k210_work/k210/datasets/ts_classifier/images/1/290.jpg  \n",
            "  inflating: ./train/k210_work/k210/datasets/ts_classifier/images/1/291.jpg  \n",
            "  inflating: ./train/k210_work/k210/datasets/ts_classifier/images/1/292.jpg  \n",
            "  inflating: ./train/k210_work/k210/datasets/ts_classifier/images/1/293.jpg  \n",
            "  inflating: ./train/k210_work/k210/datasets/ts_classifier/images/1/294.jpg  \n",
            "  inflating: ./train/k210_work/k210/datasets/ts_classifier/images/1/295.jpg  \n",
            "  inflating: ./train/k210_work/k210/datasets/ts_classifier/images/1/296.jpg  \n",
            "  inflating: ./train/k210_work/k210/datasets/ts_classifier/images/1/297.jpg  \n",
            "  inflating: ./train/k210_work/k210/datasets/ts_classifier/images/1/150.jpg  \n",
            "  inflating: ./train/k210_work/k210/datasets/ts_classifier/images/1/151.jpg  \n",
            "  inflating: ./train/k210_work/k210/datasets/ts_classifier/images/1/152.jpg  \n",
            "  inflating: ./train/k210_work/k210/datasets/ts_classifier/images/1/153.jpg  \n",
            "  inflating: ./train/k210_work/k210/datasets/ts_classifier/images/1/154.jpg  \n",
            "  inflating: ./train/k210_work/k210/datasets/ts_classifier/images/1/155.jpg  \n",
            "  inflating: ./train/k210_work/k210/datasets/ts_classifier/images/1/156.jpg  \n",
            "  inflating: ./train/k210_work/k210/datasets/ts_classifier/images/1/157.jpg  \n",
            "  inflating: ./train/k210_work/k210/datasets/ts_classifier/images/1/158.jpg  \n",
            "  inflating: ./train/k210_work/k210/datasets/ts_classifier/images/1/159.jpg  \n",
            "  inflating: ./train/k210_work/k210/datasets/ts_classifier/images/1/16.jpg  \n",
            "  inflating: ./train/k210_work/k210/datasets/ts_classifier/images/1/160.jpg  \n",
            "  inflating: ./train/k210_work/k210/datasets/ts_classifier/images/1/161.jpg  \n",
            "  inflating: ./train/k210_work/k210/datasets/ts_classifier/images/1/162.jpg  \n",
            "  inflating: ./train/k210_work/k210/datasets/ts_classifier/images/1/163.jpg  \n",
            "  inflating: ./train/k210_work/k210/datasets/ts_classifier/images/1/164.jpg  \n",
            "  inflating: ./train/k210_work/k210/datasets/ts_classifier/images/1/165.jpg  \n",
            "  inflating: ./train/k210_work/k210/datasets/ts_classifier/images/1/166.jpg  \n",
            "  inflating: ./train/k210_work/k210/datasets/ts_classifier/images/1/167.jpg  \n",
            "  inflating: ./train/k210_work/k210/datasets/ts_classifier/images/1/168.jpg  \n",
            "  inflating: ./train/k210_work/k210/datasets/ts_classifier/images/1/169.jpg  \n",
            "  inflating: ./train/k210_work/k210/datasets/ts_classifier/images/1/17.jpg  \n",
            "  inflating: ./train/k210_work/k210/datasets/ts_classifier/images/1/170.jpg  \n",
            "  inflating: ./train/k210_work/k210/datasets/ts_classifier/images/1/171.jpg  \n",
            "  inflating: ./train/k210_work/k210/datasets/ts_classifier/images/1/51.jpg  \n",
            "  inflating: ./train/k210_work/k210/datasets/ts_classifier/images/1/52.jpg  \n",
            "  inflating: ./train/k210_work/k210/datasets/ts_classifier/images/1/53.jpg  \n",
            "  inflating: ./train/k210_work/k210/datasets/ts_classifier/images/1/54.jpg  \n",
            "  inflating: ./train/k210_work/k210/datasets/ts_classifier/images/1/55.jpg  \n",
            "  inflating: ./train/k210_work/k210/datasets/ts_classifier/images/1/56.jpg  \n",
            "  inflating: ./train/k210_work/k210/datasets/ts_classifier/images/1/57.jpg  \n",
            "  inflating: ./train/k210_work/k210/datasets/ts_classifier/images/1/58.jpg  \n",
            "  inflating: ./train/k210_work/k210/datasets/ts_classifier/images/1/59.jpg  \n",
            "  inflating: ./train/k210_work/k210/datasets/ts_classifier/images/1/6.jpg  \n",
            "  inflating: ./train/k210_work/k210/datasets/ts_classifier/images/1/60.jpg  \n",
            "  inflating: ./train/k210_work/k210/datasets/ts_classifier/images/1/61.jpg  \n",
            "  inflating: ./train/k210_work/k210/datasets/ts_classifier/images/1/62.jpg  \n",
            "  inflating: ./train/k210_work/k210/datasets/ts_classifier/images/1/63.jpg  \n",
            "  inflating: ./train/k210_work/k210/datasets/ts_classifier/images/1/64.jpg  \n",
            "  inflating: ./train/k210_work/k210/datasets/ts_classifier/images/1/65.jpg  \n",
            "  inflating: ./train/k210_work/k210/datasets/ts_classifier/images/1/66.jpg  \n",
            "  inflating: ./train/k210_work/k210/datasets/ts_classifier/images/1/67.jpg  \n",
            "  inflating: ./train/k210_work/k210/datasets/ts_classifier/images/1/68.jpg  \n",
            "  inflating: ./train/k210_work/k210/datasets/ts_classifier/images/1/69.jpg  \n",
            "  inflating: ./train/k210_work/k210/datasets/ts_classifier/images/1/7.jpg  \n",
            "  inflating: ./train/k210_work/k210/datasets/ts_classifier/images/1/70.jpg  \n",
            "  inflating: ./train/k210_work/k210/datasets/ts_classifier/images/1/71.jpg  \n",
            "  inflating: ./train/k210_work/k210/datasets/ts_classifier/images/1/72.jpg  \n",
            "  inflating: ./train/k210_work/k210/datasets/ts_classifier/images/1/73.jpg  \n",
            "  inflating: ./train/k210_work/k210/datasets/ts_classifier/images/1/74.jpg  \n",
            "  inflating: ./train/k210_work/k210/datasets/ts_classifier/images/1/75.jpg  \n",
            "  inflating: ./train/k210_work/k210/datasets/ts_classifier/images/1/121.jpg  \n",
            "  inflating: ./train/k210_work/k210/datasets/ts_classifier/images/1/15.jpg  \n",
            "  inflating: ./train/k210_work/k210/datasets/ts_classifier/images/1/172.jpg  \n",
            "  inflating: ./train/k210_work/k210/datasets/ts_classifier/images/1/197.jpg  \n",
            "  inflating: ./train/k210_work/k210/datasets/ts_classifier/images/1/233.jpg  \n",
            "  inflating: ./train/k210_work/k210/datasets/ts_classifier/images/1/253.jpg  \n",
            "  inflating: ./train/k210_work/k210/datasets/ts_classifier/images/1/274.jpg  \n",
            "  inflating: ./train/k210_work/k210/datasets/ts_classifier/images/1/298.jpg  \n",
            "  inflating: ./train/k210_work/k210/datasets/ts_classifier/images/1/50.jpg  \n",
            "  inflating: ./train/k210_work/k210/datasets/ts_classifier/images/1/76.jpg  \n",
            "  inflating: ./train/k210_work/k210/datasets/ts_classifier/images/1/234.jpg  \n",
            "  inflating: ./train/k210_work/k210/datasets/ts_classifier/images/1/235.jpg  \n",
            "  inflating: ./train/k210_work/k210/datasets/ts_classifier/images/1/236.jpg  \n",
            "  inflating: ./train/k210_work/k210/datasets/ts_classifier/images/1/237.jpg  \n",
            "  inflating: ./train/k210_work/k210/datasets/ts_classifier/images/1/238.jpg  \n",
            "  inflating: ./train/k210_work/k210/datasets/ts_classifier/images/1/239.jpg  \n",
            "  inflating: ./train/k210_work/k210/datasets/ts_classifier/images/1/24.jpg  \n",
            "  inflating: ./train/k210_work/k210/datasets/ts_classifier/images/1/240.jpg  \n",
            "  inflating: ./train/k210_work/k210/datasets/ts_classifier/images/1/241.jpg  \n",
            "  inflating: ./train/k210_work/k210/datasets/ts_classifier/images/1/242.jpg  \n",
            "  inflating: ./train/k210_work/k210/datasets/ts_classifier/images/1/243.jpg  \n",
            "  inflating: ./train/k210_work/k210/datasets/ts_classifier/images/1/244.jpg  \n",
            "  inflating: ./train/k210_work/k210/datasets/ts_classifier/images/1/245.jpg  \n",
            "  inflating: ./train/k210_work/k210/datasets/ts_classifier/images/1/246.jpg  \n",
            "  inflating: ./train/k210_work/k210/datasets/ts_classifier/images/1/247.jpg  \n",
            "  inflating: ./train/k210_work/k210/datasets/ts_classifier/images/1/248.jpg  \n",
            "  inflating: ./train/k210_work/k210/datasets/ts_classifier/images/1/249.jpg  \n",
            "  inflating: ./train/k210_work/k210/datasets/ts_classifier/images/1/25.jpg  \n",
            "  inflating: ./train/k210_work/k210/datasets/ts_classifier/images/1/250.jpg  \n",
            "  inflating: ./train/k210_work/k210/datasets/ts_classifier/images/1/251.jpg  \n",
            "  inflating: ./train/k210_work/k210/datasets/ts_classifier/images/1/252.jpg  \n",
            "  inflating: ./train/k210_work/k210/datasets/ts_classifier/images/1/77.jpg  \n",
            "  inflating: ./train/k210_work/k210/datasets/ts_classifier/images/1/78.jpg  \n",
            "  inflating: ./train/k210_work/k210/datasets/ts_classifier/images/1/79.jpg  \n",
            "  inflating: ./train/k210_work/k210/datasets/ts_classifier/images/1/8.jpg  \n",
            "  inflating: ./train/k210_work/k210/datasets/ts_classifier/images/1/80.jpg  \n",
            "  inflating: ./train/k210_work/k210/datasets/ts_classifier/images/1/81.jpg  \n",
            "  inflating: ./train/k210_work/k210/datasets/ts_classifier/images/1/82.jpg  \n",
            "  inflating: ./train/k210_work/k210/datasets/ts_classifier/images/1/83.jpg  \n",
            "  inflating: ./train/k210_work/k210/datasets/ts_classifier/images/1/84.jpg  \n",
            "  inflating: ./train/k210_work/k210/datasets/ts_classifier/images/1/85.jpg  \n",
            "  inflating: ./train/k210_work/k210/datasets/ts_classifier/images/1/86.jpg  \n",
            "  inflating: ./train/k210_work/k210/datasets/ts_classifier/images/1/87.jpg  \n",
            "  inflating: ./train/k210_work/k210/datasets/ts_classifier/images/1/88.jpg  \n",
            "  inflating: ./train/k210_work/k210/datasets/ts_classifier/images/1/89.jpg  \n",
            "  inflating: ./train/k210_work/k210/datasets/ts_classifier/images/1/9.jpg  \n",
            "  inflating: ./train/k210_work/k210/datasets/ts_classifier/images/1/90.jpg  \n",
            "  inflating: ./train/k210_work/k210/datasets/ts_classifier/images/1/91.jpg  \n",
            "  inflating: ./train/k210_work/k210/datasets/ts_classifier/images/1/92.jpg  \n",
            "  inflating: ./train/k210_work/k210/datasets/ts_classifier/images/1/93.jpg  \n",
            "  inflating: ./train/k210_work/k210/datasets/ts_classifier/images/1/94.jpg  \n",
            "  inflating: ./train/k210_work/k210/datasets/ts_classifier/images/1/95.jpg  \n",
            "  inflating: ./train/k210_work/k210/datasets/ts_classifier/images/1/96.jpg  \n",
            "  inflating: ./train/k210_work/k210/datasets/ts_classifier/images/1/97.jpg  \n",
            "  inflating: ./train/k210_work/k210/datasets/ts_classifier/images/1/98.jpg  \n",
            "  inflating: ./train/k210_work/k210/datasets/ts_classifier/images/1/99.jpg  \n",
            "  inflating: ./train/k210_work/k210/datasets/ts_classifier/images/1/122.jpg  \n",
            "  inflating: ./train/k210_work/k210/datasets/ts_classifier/images/1/123.jpg  \n",
            "  inflating: ./train/k210_work/k210/datasets/ts_classifier/images/1/124.jpg  \n",
            "  inflating: ./train/k210_work/k210/datasets/ts_classifier/images/1/125.jpg  \n",
            "  inflating: ./train/k210_work/k210/datasets/ts_classifier/images/1/126.jpg  \n",
            "  inflating: ./train/k210_work/k210/datasets/ts_classifier/images/1/127.jpg  \n",
            "  inflating: ./train/k210_work/k210/datasets/ts_classifier/images/1/128.jpg  \n",
            "  inflating: ./train/k210_work/k210/datasets/ts_classifier/images/1/129.jpg  \n",
            "  inflating: ./train/k210_work/k210/datasets/ts_classifier/images/1/13.jpg  \n",
            "  inflating: ./train/k210_work/k210/datasets/ts_classifier/images/1/130.jpg  \n",
            "  inflating: ./train/k210_work/k210/datasets/ts_classifier/images/1/131.jpg  \n",
            "  inflating: ./train/k210_work/k210/datasets/ts_classifier/images/1/132.jpg  \n",
            "  inflating: ./train/k210_work/k210/datasets/ts_classifier/images/1/133.jpg  \n",
            "  inflating: ./train/k210_work/k210/datasets/ts_classifier/images/1/134.jpg  \n",
            "  inflating: ./train/k210_work/k210/datasets/ts_classifier/images/1/135.jpg  \n",
            "  inflating: ./train/k210_work/k210/datasets/ts_classifier/images/1/136.jpg  \n",
            "  inflating: ./train/k210_work/k210/datasets/ts_classifier/images/1/137.jpg  \n",
            "  inflating: ./train/k210_work/k210/datasets/ts_classifier/images/1/138.jpg  \n",
            "  inflating: ./train/k210_work/k210/datasets/ts_classifier/images/1/139.jpg  \n",
            "  inflating: ./train/k210_work/k210/datasets/ts_classifier/images/1/14.jpg  \n",
            "  inflating: ./train/k210_work/k210/datasets/ts_classifier/images/1/140.jpg  \n",
            "  inflating: ./train/k210_work/k210/datasets/ts_classifier/images/1/141.jpg  \n",
            "  inflating: ./train/k210_work/k210/datasets/ts_classifier/images/1/142.jpg  \n",
            "  inflating: ./train/k210_work/k210/datasets/ts_classifier/images/1/143.jpg  \n",
            "  inflating: ./train/k210_work/k210/datasets/ts_classifier/images/1/144.jpg  \n",
            "  inflating: ./train/k210_work/k210/datasets/ts_classifier/images/1/145.jpg  \n",
            "  inflating: ./train/k210_work/k210/datasets/ts_classifier/images/1/146.jpg  \n",
            "  inflating: ./train/k210_work/k210/datasets/ts_classifier/images/1/147.jpg  \n",
            "  inflating: ./train/k210_work/k210/datasets/ts_classifier/images/1/148.jpg  \n",
            "  inflating: ./train/k210_work/k210/datasets/ts_classifier/images/1/149.jpg  \n",
            "  inflating: ./train/k210_work/k210/datasets/ts_classifier/images/1/173.jpg  \n",
            "  inflating: ./train/k210_work/k210/datasets/ts_classifier/images/1/174.jpg  \n",
            "  inflating: ./train/k210_work/k210/datasets/ts_classifier/images/1/175.jpg  \n",
            "  inflating: ./train/k210_work/k210/datasets/ts_classifier/images/1/176.jpg  \n",
            "  inflating: ./train/k210_work/k210/datasets/ts_classifier/images/1/177.jpg  \n",
            "  inflating: ./train/k210_work/k210/datasets/ts_classifier/images/1/178.jpg  \n",
            "  inflating: ./train/k210_work/k210/datasets/ts_classifier/images/1/179.jpg  \n",
            "  inflating: ./train/k210_work/k210/datasets/ts_classifier/images/1/18.jpg  \n",
            "  inflating: ./train/k210_work/k210/datasets/ts_classifier/images/1/180.jpg  \n",
            "  inflating: ./train/k210_work/k210/datasets/ts_classifier/images/1/181.jpg  \n",
            "  inflating: ./train/k210_work/k210/datasets/ts_classifier/images/1/182.jpg  \n",
            "  inflating: ./train/k210_work/k210/datasets/ts_classifier/images/1/183.jpg  \n",
            "  inflating: ./train/k210_work/k210/datasets/ts_classifier/images/1/184.jpg  \n",
            "  inflating: ./train/k210_work/k210/datasets/ts_classifier/images/1/185.jpg  \n",
            "  inflating: ./train/k210_work/k210/datasets/ts_classifier/images/1/186.jpg  \n",
            "  inflating: ./train/k210_work/k210/datasets/ts_classifier/images/1/187.jpg  \n",
            "  inflating: ./train/k210_work/k210/datasets/ts_classifier/images/1/188.jpg  \n",
            "  inflating: ./train/k210_work/k210/datasets/ts_classifier/images/1/189.jpg  \n",
            "  inflating: ./train/k210_work/k210/datasets/ts_classifier/images/1/19.jpg  \n",
            "  inflating: ./train/k210_work/k210/datasets/ts_classifier/images/1/190.jpg  \n",
            "  inflating: ./train/k210_work/k210/datasets/ts_classifier/images/1/191.jpg  \n",
            "  inflating: ./train/k210_work/k210/datasets/ts_classifier/images/1/192.jpg  \n",
            "  inflating: ./train/k210_work/k210/datasets/ts_classifier/images/1/193.jpg  \n",
            "  inflating: ./train/k210_work/k210/datasets/ts_classifier/images/1/194.jpg  \n",
            "  inflating: ./train/k210_work/k210/datasets/ts_classifier/images/1/195.jpg  \n",
            "  inflating: ./train/k210_work/k210/datasets/ts_classifier/images/1/196.jpg  \n",
            "  inflating: ./train/k210_work/k210/datasets/ts_classifier/images/1/299.jpg  \n",
            "  inflating: ./train/k210_work/k210/datasets/ts_classifier/images/1/3.jpg  \n",
            "  inflating: ./train/k210_work/k210/datasets/ts_classifier/images/1/30.jpg  \n",
            "  inflating: ./train/k210_work/k210/datasets/ts_classifier/images/1/31.jpg  \n",
            "  inflating: ./train/k210_work/k210/datasets/ts_classifier/images/1/32.jpg  \n",
            "  inflating: ./train/k210_work/k210/datasets/ts_classifier/images/1/33.jpg  \n",
            "  inflating: ./train/k210_work/k210/datasets/ts_classifier/images/1/34.jpg  \n",
            "  inflating: ./train/k210_work/k210/datasets/ts_classifier/images/1/35.jpg  \n",
            "  inflating: ./train/k210_work/k210/datasets/ts_classifier/images/1/36.jpg  \n",
            "  inflating: ./train/k210_work/k210/datasets/ts_classifier/images/1/37.jpg  \n",
            "  inflating: ./train/k210_work/k210/datasets/ts_classifier/images/1/38.jpg  \n",
            "  inflating: ./train/k210_work/k210/datasets/ts_classifier/images/1/39.jpg  \n",
            "  inflating: ./train/k210_work/k210/datasets/ts_classifier/images/1/4.jpg  \n",
            "  inflating: ./train/k210_work/k210/datasets/ts_classifier/images/1/40.jpg  \n",
            "  inflating: ./train/k210_work/k210/datasets/ts_classifier/images/1/41.jpg  \n",
            "  inflating: ./train/k210_work/k210/datasets/ts_classifier/images/1/42.jpg  \n",
            "  inflating: ./train/k210_work/k210/datasets/ts_classifier/images/1/43.jpg  \n",
            "  inflating: ./train/k210_work/k210/datasets/ts_classifier/images/1/44.jpg  \n",
            "  inflating: ./train/k210_work/k210/datasets/ts_classifier/images/1/45.jpg  \n",
            "  inflating: ./train/k210_work/k210/datasets/ts_classifier/images/1/46.jpg  \n",
            "  inflating: ./train/k210_work/k210/datasets/ts_classifier/images/1/47.jpg  \n",
            "  inflating: ./train/k210_work/k210/datasets/ts_classifier/images/1/48.jpg  \n",
            "  inflating: ./train/k210_work/k210/datasets/ts_classifier/images/1/49.jpg  \n",
            "  inflating: ./train/k210_work/k210/datasets/ts_classifier/images/1/5.jpg  \n",
            "  inflating: ./train/k210_work/k210/datasets/ts_classifier/images/1/254.jpg  \n",
            "  inflating: ./train/k210_work/k210/datasets/ts_classifier/images/1/255.jpg  \n",
            "  inflating: ./train/k210_work/k210/datasets/ts_classifier/images/1/256.jpg  \n",
            "  inflating: ./train/k210_work/k210/datasets/ts_classifier/images/1/257.jpg  \n",
            "  inflating: ./train/k210_work/k210/datasets/ts_classifier/images/1/258.jpg  \n",
            "  inflating: ./train/k210_work/k210/datasets/ts_classifier/images/1/259.jpg  \n",
            "  inflating: ./train/k210_work/k210/datasets/ts_classifier/images/1/26.jpg  \n",
            "  inflating: ./train/k210_work/k210/datasets/ts_classifier/images/1/260.jpg  \n",
            "  inflating: ./train/k210_work/k210/datasets/ts_classifier/images/1/261.jpg  \n",
            "  inflating: ./train/k210_work/k210/datasets/ts_classifier/images/1/262.jpg  \n",
            "  inflating: ./train/k210_work/k210/datasets/ts_classifier/images/1/263.jpg  \n",
            "  inflating: ./train/k210_work/k210/datasets/ts_classifier/images/1/264.jpg  \n",
            "  inflating: ./train/k210_work/k210/datasets/ts_classifier/images/1/265.jpg  \n",
            "  inflating: ./train/k210_work/k210/datasets/ts_classifier/images/1/266.jpg  \n",
            "  inflating: ./train/k210_work/k210/datasets/ts_classifier/images/1/267.jpg  \n",
            "  inflating: ./train/k210_work/k210/datasets/ts_classifier/images/1/268.jpg  \n",
            "  inflating: ./train/k210_work/k210/datasets/ts_classifier/images/1/269.jpg  \n",
            "  inflating: ./train/k210_work/k210/datasets/ts_classifier/images/1/27.jpg  \n",
            "  inflating: ./train/k210_work/k210/datasets/ts_classifier/images/1/270.jpg  \n",
            "  inflating: ./train/k210_work/k210/datasets/ts_classifier/images/1/271.jpg  \n",
            "  inflating: ./train/k210_work/k210/datasets/ts_classifier/images/1/272.jpg  \n",
            "  inflating: ./train/k210_work/k210/datasets/ts_classifier/images/1/273.jpg  \n",
            "\n"
          ]
        }
      ]
    },
    {
      "cell_type": "markdown",
      "metadata": {
        "id": "E8KrdDuWR8Du"
      },
      "source": [
        "## 开始训练"
      ]
    },
    {
      "cell_type": "code",
      "metadata": {
        "jupyter": {
          "outputs_hidden": false
        },
        "colab": {
          "base_uri": "https://localhost:8080/"
        },
        "id": "Esqo26jYR8Du",
        "outputId": "372df8a3-3445-4225-ecae-2a843816ba29"
      },
      "source": [
        "import sys \n",
        "sys.path.append(f'{work_dir}/external-libraries')\n",
        "sys.path.append(f'{git_dir}/k210_train')\n",
        "\n",
        "!ls"
      ],
      "execution_count": 58,
      "outputs": [
        {
          "output_type": "stream",
          "name": "stdout",
          "text": [
            "data  models  share  train  ts_save  Untitled0.ipynb\n"
          ]
        }
      ]
    },
    {
      "cell_type": "code",
      "metadata": {
        "jupyter": {
          "outputs_hidden": false
        },
        "id": "NNWmx9VDR8Dv"
      },
      "source": [
        "import os, sys\n",
        "import time\n"
      ],
      "execution_count": 59,
      "outputs": []
    },
    {
      "cell_type": "code",
      "metadata": {
        "jupyter": {
          "outputs_hidden": false
        },
        "id": "at81wJUBR8Dw"
      },
      "source": [
        "from train.classifier_v1 import classifier_train\n",
        "from train.classifier.instance import config\n",
        "\n",
        "config.classifier_train_epochs = 1 # 修改训练轮数 40"
      ],
      "execution_count": 60,
      "outputs": []
    },
    {
      "cell_type": "code",
      "metadata": {
        "jupyter": {
          "outputs_hidden": false
        },
        "colab": {
          "base_uri": "https://localhost:8080/"
        },
        "id": "y1M0XIudR8Dw",
        "outputId": "f6e02d40-afb2-4ff9-ba30-4b21bda143fa"
      },
      "source": [
        "cur_time = time.strftime(\"%Y-%m-%d_%H_%M\", time.localtime())\n",
        "print(cur_time)"
      ],
      "execution_count": 61,
      "outputs": [
        {
          "output_type": "stream",
          "name": "stdout",
          "text": [
            "2021-09-27_04_47\n"
          ]
        }
      ]
    },
    {
      "cell_type": "code",
      "metadata": {
        "jupyter": {
          "outputs_hidden": false
        },
        "colab": {
          "base_uri": "https://localhost:8080/"
        },
        "id": "HgflF84KR8Dx",
        "outputId": "c08eb61e-a386-458e-c6d9-24f18f074af9"
      },
      "source": [
        "#root_dir = './train/k210_work/k210' # os.path.abspath('./train/k210_work')\n",
        "ubuntu_path = f\"out/imgn_{cur_time}\" #用来mac中生成kmodel\n",
        "temp_saves_dir = f\"{git_dir}/ubuntu/{ubuntu_path}/\" #保存文件目录\n",
        "datasets_dir =  data_unzip_last #数据源\n",
        "\n",
        "print(\"git_dir:\",git_dir)\n",
        "print(\"temp_saves_dir:\",temp_saves_dir)\n",
        "print(\"datasets_dir:\",datasets_dir)"
      ],
      "execution_count": 62,
      "outputs": [
        {
          "output_type": "stream",
          "name": "stdout",
          "text": [
            "git_dir: ./train/k210_work/k210\n",
            "temp_saves_dir: ./train/k210_work/k210/ubuntu/out/imgn_2021-09-27_04_47/\n",
            "datasets_dir: ./train/k210_work/k210/datasets/ts_classifier/images\n"
          ]
        }
      ]
    },
    {
      "cell_type": "code",
      "metadata": {
        "colab": {
          "base_uri": "https://localhost:8080/"
        },
        "id": "UvJ4y0U8aWiC",
        "outputId": "f14ffb17-b992-4b6b-fbda-a1eee7268972"
      },
      "source": [
        "## 清理隐藏文件\n",
        "cmd1 = f\"rm -f {datasets_dir}/.DS_Store\"\n",
        "os.popen(cmd1)\n",
        "cmd = f\"rm -f {datasets_dir}/*/.DS_Store\"\n",
        "f = os.popen(cmd)\n",
        "print(f)"
      ],
      "execution_count": 63,
      "outputs": [
        {
          "output_type": "stream",
          "name": "stdout",
          "text": [
            "<os._wrap_close object at 0x7fc794713d90>\n"
          ]
        }
      ]
    },
    {
      "cell_type": "code",
      "metadata": {
        "jupyter": {
          "outputs_hidden": false
        },
        "colab": {
          "base_uri": "https://localhost:8080/"
        },
        "id": "6eKSaTxXR8Dx",
        "outputId": "5aac09a1-f029-4431-f8c5-71ea4bf27215"
      },
      "source": [
        "# 配置文件：train.classifier.instance\n",
        "result,_,model_path ,labels = classifier_train(datasets_dir=datasets_dir,temp_datasets_dir=temp_saves_dir,config=config)\n",
        "\n",
        "#result,_,model_path ,labels = classifier_train(datasets_zip_path=datasets_dir,temp_datasets_dir=temp_saves_dir,config=config)"
      ],
      "execution_count": 64,
      "outputs": [
        {
          "output_type": "stream",
          "name": "stdout",
          "text": [
            "select gpu fail:Driver Not Loaded\n"
          ]
        },
        {
          "output_type": "stream",
          "name": "stderr",
          "text": [
            "2021-09-27 04:47:58,168 - [INFO]:  no GPU, will use [CPU]\n",
            "2021-09-27 04:47:58,168 - [INFO]:  no GPU, will use [CPU]\n",
            "2021-09-27 04:47:58,168 - [INFO]:  no GPU, will use [CPU]\n",
            "INFO:logger: no GPU, will use [CPU]\n",
            "2021-09-27 04:47:58,226 - [INFO]:  train, labels:['0', '1']\n",
            "2021-09-27 04:47:58,226 - [INFO]:  train, labels:['0', '1']\n",
            "2021-09-27 04:47:58,226 - [INFO]:  train, labels:['0', '1']\n",
            "INFO:logger: train, labels:['0', '1']\n",
            "2021-09-27 04:47:58,235 - [DEBUG]:  train, datasets dir:./train/k210_work/k210/datasets/ts_classifier/images\n",
            "2021-09-27 04:47:58,235 - [DEBUG]:  train, datasets dir:./train/k210_work/k210/datasets/ts_classifier/images\n",
            "2021-09-27 04:47:58,235 - [DEBUG]:  train, datasets dir:./train/k210_work/k210/datasets/ts_classifier/images\n",
            "DEBUG:logger: train, datasets dir:./train/k210_work/k210/datasets/ts_classifier/images\n",
            "/usr/local/lib/python3.7/dist-packages/keras/optimizer_v2/optimizer_v2.py:356: UserWarning: The `lr` argument is deprecated, use `learning_rate` instead.\n",
            "  \"The `lr` argument is deprecated, use `learning_rate` instead.\")\n"
          ]
        },
        {
          "output_type": "stream",
          "name": "stdout",
          "text": [
            "Model: \"model_1\"\n",
            "_________________________________________________________________\n",
            "Layer (type)                 Output Shape              Param #   \n",
            "=================================================================\n",
            "input_2 (InputLayer)         [(None, 224, 224, 3)]     0         \n",
            "_________________________________________________________________\n",
            "conv1_pad (ZeroPadding2D)    (None, 226, 226, 3)       0         \n",
            "_________________________________________________________________\n",
            "conv1 (Conv2D)               (None, 112, 112, 24)      648       \n",
            "_________________________________________________________________\n",
            "conv1_bn (BatchNormalization (None, 112, 112, 24)      96        \n",
            "_________________________________________________________________\n",
            "conv1_relu (ReLU)            (None, 112, 112, 24)      0         \n",
            "_________________________________________________________________\n",
            "conv_dw_1 (DepthwiseConv2D)  (None, 112, 112, 24)      216       \n",
            "_________________________________________________________________\n",
            "conv_dw_1_bn (BatchNormaliza (None, 112, 112, 24)      96        \n",
            "_________________________________________________________________\n",
            "conv_dw_1_relu (ReLU)        (None, 112, 112, 24)      0         \n",
            "_________________________________________________________________\n",
            "conv_pw_1 (Conv2D)           (None, 112, 112, 48)      1152      \n",
            "_________________________________________________________________\n",
            "conv_pw_1_bn (BatchNormaliza (None, 112, 112, 48)      192       \n",
            "_________________________________________________________________\n",
            "conv_pw_1_relu (ReLU)        (None, 112, 112, 48)      0         \n",
            "_________________________________________________________________\n",
            "conv_pad_2 (ZeroPadding2D)   (None, 114, 114, 48)      0         \n",
            "_________________________________________________________________\n",
            "conv_dw_2 (DepthwiseConv2D)  (None, 56, 56, 48)        432       \n",
            "_________________________________________________________________\n",
            "conv_dw_2_bn (BatchNormaliza (None, 56, 56, 48)        192       \n",
            "_________________________________________________________________\n",
            "conv_dw_2_relu (ReLU)        (None, 56, 56, 48)        0         \n",
            "_________________________________________________________________\n",
            "conv_pw_2 (Conv2D)           (None, 56, 56, 96)        4608      \n",
            "_________________________________________________________________\n",
            "conv_pw_2_bn (BatchNormaliza (None, 56, 56, 96)        384       \n",
            "_________________________________________________________________\n",
            "conv_pw_2_relu (ReLU)        (None, 56, 56, 96)        0         \n",
            "_________________________________________________________________\n",
            "conv_dw_3 (DepthwiseConv2D)  (None, 56, 56, 96)        864       \n",
            "_________________________________________________________________\n",
            "conv_dw_3_bn (BatchNormaliza (None, 56, 56, 96)        384       \n",
            "_________________________________________________________________\n",
            "conv_dw_3_relu (ReLU)        (None, 56, 56, 96)        0         \n",
            "_________________________________________________________________\n",
            "conv_pw_3 (Conv2D)           (None, 56, 56, 96)        9216      \n",
            "_________________________________________________________________\n",
            "conv_pw_3_bn (BatchNormaliza (None, 56, 56, 96)        384       \n",
            "_________________________________________________________________\n",
            "conv_pw_3_relu (ReLU)        (None, 56, 56, 96)        0         \n",
            "_________________________________________________________________\n",
            "conv_pad_4 (ZeroPadding2D)   (None, 58, 58, 96)        0         \n",
            "_________________________________________________________________\n",
            "conv_dw_4 (DepthwiseConv2D)  (None, 28, 28, 96)        864       \n",
            "_________________________________________________________________\n",
            "conv_dw_4_bn (BatchNormaliza (None, 28, 28, 96)        384       \n",
            "_________________________________________________________________\n",
            "conv_dw_4_relu (ReLU)        (None, 28, 28, 96)        0         \n",
            "_________________________________________________________________\n",
            "conv_pw_4 (Conv2D)           (None, 28, 28, 192)       18432     \n",
            "_________________________________________________________________\n",
            "conv_pw_4_bn (BatchNormaliza (None, 28, 28, 192)       768       \n",
            "_________________________________________________________________\n",
            "conv_pw_4_relu (ReLU)        (None, 28, 28, 192)       0         \n",
            "_________________________________________________________________\n",
            "conv_dw_5 (DepthwiseConv2D)  (None, 28, 28, 192)       1728      \n",
            "_________________________________________________________________\n",
            "conv_dw_5_bn (BatchNormaliza (None, 28, 28, 192)       768       \n",
            "_________________________________________________________________\n",
            "conv_dw_5_relu (ReLU)        (None, 28, 28, 192)       0         \n",
            "_________________________________________________________________\n",
            "conv_pw_5 (Conv2D)           (None, 28, 28, 192)       36864     \n",
            "_________________________________________________________________\n",
            "conv_pw_5_bn (BatchNormaliza (None, 28, 28, 192)       768       \n",
            "_________________________________________________________________\n",
            "conv_pw_5_relu (ReLU)        (None, 28, 28, 192)       0         \n",
            "_________________________________________________________________\n",
            "conv_pad_6 (ZeroPadding2D)   (None, 30, 30, 192)       0         \n",
            "_________________________________________________________________\n",
            "conv_dw_6 (DepthwiseConv2D)  (None, 14, 14, 192)       1728      \n",
            "_________________________________________________________________\n",
            "conv_dw_6_bn (BatchNormaliza (None, 14, 14, 192)       768       \n",
            "_________________________________________________________________\n",
            "conv_dw_6_relu (ReLU)        (None, 14, 14, 192)       0         \n",
            "_________________________________________________________________\n",
            "conv_pw_6 (Conv2D)           (None, 14, 14, 384)       73728     \n",
            "_________________________________________________________________\n",
            "conv_pw_6_bn (BatchNormaliza (None, 14, 14, 384)       1536      \n",
            "_________________________________________________________________\n",
            "conv_pw_6_relu (ReLU)        (None, 14, 14, 384)       0         \n",
            "_________________________________________________________________\n",
            "conv_dw_7 (DepthwiseConv2D)  (None, 14, 14, 384)       3456      \n",
            "_________________________________________________________________\n",
            "conv_dw_7_bn (BatchNormaliza (None, 14, 14, 384)       1536      \n",
            "_________________________________________________________________\n",
            "conv_dw_7_relu (ReLU)        (None, 14, 14, 384)       0         \n",
            "_________________________________________________________________\n",
            "conv_pw_7 (Conv2D)           (None, 14, 14, 384)       147456    \n",
            "_________________________________________________________________\n",
            "conv_pw_7_bn (BatchNormaliza (None, 14, 14, 384)       1536      \n",
            "_________________________________________________________________\n",
            "conv_pw_7_relu (ReLU)        (None, 14, 14, 384)       0         \n",
            "_________________________________________________________________\n",
            "conv_dw_8 (DepthwiseConv2D)  (None, 14, 14, 384)       3456      \n",
            "_________________________________________________________________\n",
            "conv_dw_8_bn (BatchNormaliza (None, 14, 14, 384)       1536      \n",
            "_________________________________________________________________\n",
            "conv_dw_8_relu (ReLU)        (None, 14, 14, 384)       0         \n",
            "_________________________________________________________________\n",
            "conv_pw_8 (Conv2D)           (None, 14, 14, 384)       147456    \n",
            "_________________________________________________________________\n",
            "conv_pw_8_bn (BatchNormaliza (None, 14, 14, 384)       1536      \n",
            "_________________________________________________________________\n",
            "conv_pw_8_relu (ReLU)        (None, 14, 14, 384)       0         \n",
            "_________________________________________________________________\n",
            "conv_dw_9 (DepthwiseConv2D)  (None, 14, 14, 384)       3456      \n",
            "_________________________________________________________________\n",
            "conv_dw_9_bn (BatchNormaliza (None, 14, 14, 384)       1536      \n",
            "_________________________________________________________________\n",
            "conv_dw_9_relu (ReLU)        (None, 14, 14, 384)       0         \n",
            "_________________________________________________________________\n",
            "conv_pw_9 (Conv2D)           (None, 14, 14, 384)       147456    \n",
            "_________________________________________________________________\n",
            "conv_pw_9_bn (BatchNormaliza (None, 14, 14, 384)       1536      \n",
            "_________________________________________________________________\n",
            "conv_pw_9_relu (ReLU)        (None, 14, 14, 384)       0         \n",
            "_________________________________________________________________\n",
            "conv_dw_10 (DepthwiseConv2D) (None, 14, 14, 384)       3456      \n",
            "_________________________________________________________________\n",
            "conv_dw_10_bn (BatchNormaliz (None, 14, 14, 384)       1536      \n",
            "_________________________________________________________________\n",
            "conv_dw_10_relu (ReLU)       (None, 14, 14, 384)       0         \n",
            "_________________________________________________________________\n",
            "conv_pw_10 (Conv2D)          (None, 14, 14, 384)       147456    \n",
            "_________________________________________________________________\n",
            "conv_pw_10_bn (BatchNormaliz (None, 14, 14, 384)       1536      \n",
            "_________________________________________________________________\n",
            "conv_pw_10_relu (ReLU)       (None, 14, 14, 384)       0         \n",
            "_________________________________________________________________\n",
            "conv_dw_11 (DepthwiseConv2D) (None, 14, 14, 384)       3456      \n",
            "_________________________________________________________________\n",
            "conv_dw_11_bn (BatchNormaliz (None, 14, 14, 384)       1536      \n",
            "_________________________________________________________________\n",
            "conv_dw_11_relu (ReLU)       (None, 14, 14, 384)       0         \n",
            "_________________________________________________________________\n",
            "conv_pw_11 (Conv2D)          (None, 14, 14, 384)       147456    \n",
            "_________________________________________________________________\n",
            "conv_pw_11_bn (BatchNormaliz (None, 14, 14, 384)       1536      \n",
            "_________________________________________________________________\n",
            "conv_pw_11_relu (ReLU)       (None, 14, 14, 384)       0         \n",
            "_________________________________________________________________\n",
            "conv_dw_12 (DepthwiseConv2D) (None, 14, 14, 384)       3456      \n",
            "_________________________________________________________________\n",
            "conv_dw_12_bn (BatchNormaliz (None, 14, 14, 384)       1536      \n",
            "_________________________________________________________________\n",
            "conv_dw_12_relu (ReLU)       (None, 14, 14, 384)       0         \n",
            "_________________________________________________________________\n",
            "conv_pw_12 (Conv2D)          (None, 14, 14, 768)       294912    \n",
            "_________________________________________________________________\n",
            "conv_pw_12_bn (BatchNormaliz (None, 14, 14, 768)       3072      \n",
            "_________________________________________________________________\n",
            "conv_pw_12_relu (ReLU)       (None, 14, 14, 768)       0         \n",
            "_________________________________________________________________\n",
            "conv_dw_13 (DepthwiseConv2D) (None, 14, 14, 768)       6912      \n",
            "_________________________________________________________________\n",
            "conv_dw_13_bn (BatchNormaliz (None, 14, 14, 768)       3072      \n",
            "_________________________________________________________________\n",
            "conv_dw_13_relu (ReLU)       (None, 14, 14, 768)       0         \n",
            "_________________________________________________________________\n",
            "conv_pw_13 (Conv2D)          (None, 14, 14, 768)       589824    \n",
            "_________________________________________________________________\n",
            "conv_pw_13_bn (BatchNormaliz (None, 14, 14, 768)       3072      \n",
            "_________________________________________________________________\n",
            "conv_pw_13_relu (ReLU)       (None, 14, 14, 768)       0         \n",
            "_________________________________________________________________\n",
            "global_average_pooling2d_1 ( (None, 768)               0         \n",
            "_________________________________________________________________\n",
            "dropout (Dropout)            (None, 768)               0         \n",
            "_________________________________________________________________\n",
            "dense_1 (Dense)              (None, 2)                 1538      \n",
            "=================================================================\n",
            "Total params: 1,834,514\n",
            "Trainable params: 1,538\n",
            "Non-trainable params: 1,832,976\n",
            "_________________________________________________________________\n",
            "Found 480 images belonging to 2 classes.\n",
            "self.labels:::: dict_keys(['0', '1'])\n",
            "Found 120 images belonging to 2 classes.\n"
          ]
        },
        {
          "output_type": "stream",
          "name": "stderr",
          "text": [
            "2021-09-27 04:47:59,341 - [INFO]:  train data:480, valid data:120\n",
            "2021-09-27 04:47:59,341 - [INFO]:  train data:480, valid data:120\n",
            "2021-09-27 04:47:59,341 - [INFO]:  train data:480, valid data:120\n",
            "INFO:logger: train data:480, valid data:120\n",
            "/usr/local/lib/python3.7/dist-packages/keras/engine/training.py:1972: UserWarning: `Model.fit_generator` is deprecated and will be removed in a future version. Please use `Model.fit`, which supports generators.\n",
            "  warnings.warn('`Model.fit_generator` is deprecated and '\n",
            "2021-09-27 04:47:59,469 - [INFO]:  train start\n",
            "2021-09-27 04:47:59,469 - [INFO]:  train start\n",
            "2021-09-27 04:47:59,469 - [INFO]:  train start\n",
            "INFO:logger: train start\n",
            "2021-09-27 04:47:59,481 - [INFO]:  progress: 1.0%, train start\n",
            "2021-09-27 04:47:59,481 - [INFO]:  progress: 1.0%, train start\n",
            "2021-09-27 04:47:59,481 - [INFO]:  progress: 1.0%, train start\n",
            "INFO:logger: progress: 1.0%, train start\n",
            "2021-09-27 04:47:59,546 - [INFO]:  epoch 0 start\n",
            "2021-09-27 04:47:59,546 - [INFO]:  epoch 0 start\n",
            "2021-09-27 04:47:59,546 - [INFO]:  epoch 0 start\n",
            "INFO:logger: epoch 0 start\n"
          ]
        },
        {
          "output_type": "stream",
          "name": "stdout",
          "text": [
            "96/96 [==============================] - 26s 251ms/step - loss: 0.6589 - accuracy: 0.6125 - val_loss: 0.5927 - val_accuracy: 0.6917\n"
          ]
        },
        {
          "output_type": "stream",
          "name": "stderr",
          "text": [
            "2021-09-27 04:48:25,330 - [INFO]:  epoch 0 end: {'loss': 0.6589146852493286, 'accuracy': 0.612500011920929, 'val_loss': 0.5926658511161804, 'val_accuracy': 0.6916666626930237}\n",
            "2021-09-27 04:48:25,330 - [INFO]:  epoch 0 end: {'loss': 0.6589146852493286, 'accuracy': 0.612500011920929, 'val_loss': 0.5926658511161804, 'val_accuracy': 0.6916666626930237}\n",
            "2021-09-27 04:48:25,330 - [INFO]:  epoch 0 end: {'loss': 0.6589146852493286, 'accuracy': 0.612500011920929, 'val_loss': 0.5926658511161804, 'val_accuracy': 0.6916666626930237}\n",
            "INFO:logger: epoch 0 end: {'loss': 0.6589146852493286, 'accuracy': 0.612500011920929, 'val_loss': 0.5926658511161804, 'val_accuracy': 0.6916666626930237}\n",
            "2021-09-27 04:48:25,345 - [INFO]:  progress: 98.0%, train epoch end\n",
            "2021-09-27 04:48:25,345 - [INFO]:  progress: 98.0%, train epoch end\n",
            "2021-09-27 04:48:25,345 - [INFO]:  progress: 98.0%, train epoch end\n",
            "INFO:logger: progress: 98.0%, train epoch end\n",
            "2021-09-27 04:48:25,351 - [INFO]:  train end\n",
            "2021-09-27 04:48:25,351 - [INFO]:  train end\n",
            "2021-09-27 04:48:25,351 - [INFO]:  train end\n",
            "INFO:logger: train end\n",
            "2021-09-27 04:48:25,357 - [INFO]:  progress: 98.0%, train end\n",
            "2021-09-27 04:48:25,357 - [INFO]:  progress: 98.0%, train end\n",
            "2021-09-27 04:48:25,357 - [INFO]:  progress: 98.0%, train end\n",
            "INFO:logger: progress: 98.0%, train end\n",
            "2021-09-27 04:48:26,439 - [INFO]:  save model as .h5 file\n",
            "2021-09-27 04:48:26,439 - [INFO]:  save model as .h5 file\n",
            "2021-09-27 04:48:26,439 - [INFO]:  save model as .h5 file\n",
            "INFO:logger: save model as .h5 file\n",
            "2021-09-27 04:48:26,685 - [INFO]:  save model as .tflite file\n",
            "2021-09-27 04:48:26,685 - [INFO]:  save model as .tflite file\n",
            "2021-09-27 04:48:26,685 - [INFO]:  save model as .tflite file\n",
            "INFO:logger: save model as .tflite file\n"
          ]
        },
        {
          "output_type": "stream",
          "name": "stdout",
          "text": [
            "INFO:tensorflow:Assets written to: /tmp/tmpok1v3uod/assets\n"
          ]
        },
        {
          "output_type": "stream",
          "name": "stderr",
          "text": [
            "INFO:tensorflow:Assets written to: /tmp/tmpok1v3uod/assets\n",
            "2021-09-27 04:48:42,738 - [INFO]:  train ok, now generate report\n",
            "2021-09-27 04:48:42,738 - [INFO]:  train ok, now generate report\n",
            "2021-09-27 04:48:42,738 - [INFO]:  train ok, now generate report\n",
            "INFO:logger: train ok, now generate report\n",
            "2021-09-27 04:48:42,753 - [INFO]:  generate report image\n",
            "2021-09-27 04:48:42,753 - [INFO]:  generate report image\n",
            "2021-09-27 04:48:42,753 - [INFO]:  generate report image\n",
            "INFO:logger: generate report image\n",
            "/usr/local/lib/python3.7/dist-packages/keras/engine/training.py:2035: UserWarning: `Model.predict_generator` is deprecated and will be removed in a future version. Please use `Model.predict`, which supports generators.\n",
            "  warnings.warn('`Model.predict_generator` is deprecated and '\n"
          ]
        },
        {
          "output_type": "stream",
          "name": "stdout",
          "text": [
            "Found 600 images belonging to 2 classes.\n",
            "120/120 [==============================] - 18s 145ms/step\n"
          ]
        },
        {
          "output_type": "stream",
          "name": "stderr",
          "text": [
            "2021-09-27 04:49:01,245 - [INFO]:  generate report image end\n",
            "2021-09-27 04:49:01,245 - [INFO]:  generate report image end\n",
            "2021-09-27 04:49:01,245 - [INFO]:  generate report image end\n",
            "INFO:logger: generate report image end\n"
          ]
        }
      ]
    },
    {
      "cell_type": "code",
      "metadata": {
        "jupyter": {
          "outputs_hidden": false
        },
        "colab": {
          "base_uri": "https://localhost:8080/"
        },
        "id": "qH5kq63eR8Dy",
        "outputId": "374f189a-6d85-4adf-883e-08902f7285d1"
      },
      "source": [
        "print(\"model_path:\",model_path)\n",
        "print(\"labels:\",labels)"
      ],
      "execution_count": 65,
      "outputs": [
        {
          "output_type": "stream",
          "name": "stdout",
          "text": [
            "model_path: ./train/k210_work/k210/ubuntu/out/imgn_2021-09-27_04_47/m.h5\n",
            "labels: dict_keys(['0', '1'])\n"
          ]
        }
      ]
    },
    {
      "cell_type": "markdown",
      "metadata": {
        "id": "r0PjjlCpR8Dy"
      },
      "source": [
        "## 生成k210专用模型 kmodel"
      ]
    },
    {
      "cell_type": "code",
      "metadata": {
        "jupyter": {
          "outputs_hidden": false
        },
        "colab": {
          "base_uri": "https://localhost:8080/",
          "height": 52
        },
        "id": "zYzjaJpoR8Dy",
        "outputId": "60133463-467e-4dd2-ede5-f410d731dee8"
      },
      "source": [
        "'''\n",
        "上传 ncc文件\n",
        "下载：https://github.com/kendryte/nncase/releases/tag/v0.1.0-rc5\n",
        "\n",
        "unzip -o -d /home/aistudio/work/ /home/aistudio/work/ncc-linux-x86_64.zip\n",
        "目录为：\n",
        "~/work$ ls\n",
        "ncc-linux-x86_64  ncc-linux-x86_64.zip\n",
        "'''"
      ],
      "execution_count": 66,
      "outputs": [
        {
          "output_type": "execute_result",
          "data": {
            "application/vnd.google.colaboratory.intrinsic+json": {
              "type": "string"
            },
            "text/plain": [
              "'\\n上传 ncc文件\\n下载：https://github.com/kendryte/nncase/releases/tag/v0.1.0-rc5\\n\\nunzip -o -d /home/aistudio/work/ /home/aistudio/work/ncc-linux-x86_64.zip\\n目录为：\\n~/work$ ls\\nncc-linux-x86_64  ncc-linux-x86_64.zip\\n'"
            ]
          },
          "metadata": {},
          "execution_count": 66
        }
      ]
    },
    {
      "cell_type": "code",
      "metadata": {
        "id": "_nUE0UJ0YA4-"
      },
      "source": [
        "import os\n",
        "# 只处理1次\n",
        "cmd2 = f\"unzip -o -d {work_dir}/ {work_dir}/ncc-linux-x86_64.zip\"\n",
        "# f=os.popen(cmd2)\n",
        "# print(f.read())"
      ],
      "execution_count": 67,
      "outputs": []
    },
    {
      "cell_type": "code",
      "metadata": {
        "jupyter": {
          "outputs_hidden": false
        },
        "colab": {
          "base_uri": "https://localhost:8080/"
        },
        "id": "8k7ssLloR8Dy",
        "outputId": "46db892a-5137-4f45-d567-0beaf7d78e27"
      },
      "source": [
        "import os\n",
        "\n",
        "ncc_path = f\"{work_dir}/ncc-linux-x86_64/ncc\" # ncc\n",
        "cmd_linux = f\"{ncc_path} -i tflite -o k210model --dataset {temp_saves_dir}sample_images {temp_saves_dir}m.tflite {temp_saves_dir}result/m.kmodel\"\n",
        "print(cmd_linux)\n",
        "\n",
        "# -i tflite -o k210model --dataset ./$1/sample_images ./$1/m.tflite ./$1/result/m.kmodel"
      ],
      "execution_count": 68,
      "outputs": [
        {
          "output_type": "stream",
          "name": "stdout",
          "text": [
            "./train/k210_work/ncc-linux-x86_64/ncc -i tflite -o k210model --dataset ./train/k210_work/k210/ubuntu/out/imgn_2021-09-27_04_47/sample_images ./train/k210_work/k210/ubuntu/out/imgn_2021-09-27_04_47/m.tflite ./train/k210_work/k210/ubuntu/out/imgn_2021-09-27_04_47/result/m.kmodel\n"
          ]
        }
      ]
    },
    {
      "cell_type": "code",
      "metadata": {
        "jupyter": {
          "outputs_hidden": false
        },
        "colab": {
          "base_uri": "https://localhost:8080/"
        },
        "id": "4hjKOCe1R8Dz",
        "outputId": "0d5c3b05-9025-4c59-c74a-a63da67c1093"
      },
      "source": [
        "f=os.popen(cmd_linux)\n",
        "print(f.read())"
      ],
      "execution_count": 69,
      "outputs": [
        {
          "output_type": "stream",
          "name": "stdout",
          "text": [
            "0: InputLayer -> 1x3x224x224\n",
            "1: K210Conv2d 1x3x224x224 -> 1x24x112x112\n",
            "2: K210Conv2d 1x24x112x112 -> 1x24x112x112\n",
            "3: K210Conv2d 1x24x112x112 -> 1x48x112x112\n",
            "4: K210Conv2d 1x48x112x112 -> 1x48x112x112\n",
            "5: K210Conv2d 1x48x112x112 -> 1x96x56x56\n",
            "6: K210Conv2d 1x96x56x56 -> 1x96x56x56\n",
            "7: K210Conv2d 1x96x56x56 -> 1x96x56x56\n",
            "8: K210Conv2d 1x96x56x56 -> 1x96x56x56\n",
            "9: K210Conv2d 1x96x56x56 -> 1x192x28x28\n",
            "10: K210Conv2d 1x192x28x28 -> 1x192x28x28\n",
            "11: K210Conv2d 1x192x28x28 -> 1x192x28x28\n",
            "12: K210Conv2d 1x192x28x28 -> 1x192x28x28\n",
            "13: K210Conv2d 1x192x28x28 -> 1x384x14x14\n",
            "14: K210Conv2d 1x384x14x14 -> 1x384x14x14\n",
            "15: K210Conv2d 1x384x14x14 -> 1x384x14x14\n",
            "16: K210Conv2d 1x384x14x14 -> 1x384x14x14\n",
            "17: K210Conv2d 1x384x14x14 -> 1x384x14x14\n",
            "18: K210Conv2d 1x384x14x14 -> 1x384x14x14\n",
            "19: K210Conv2d 1x384x14x14 -> 1x384x14x14\n",
            "20: K210Conv2d 1x384x14x14 -> 1x384x14x14\n",
            "21: K210Conv2d 1x384x14x14 -> 1x384x14x14\n",
            "22: K210Conv2d 1x384x14x14 -> 1x384x14x14\n",
            "23: K210Conv2d 1x384x14x14 -> 1x384x14x14\n",
            "24: K210Conv2d 1x384x14x14 -> 1x384x14x14\n",
            "25: K210Conv2d 1x384x14x14 -> 1x768x14x14\n",
            "26: K210Conv2d 1x768x14x14 -> 1x768x14x14\n",
            "27: K210Conv2d 1x768x14x14 -> 1x768x14x14\n",
            "28: Dequantize 1x768x14x14 -> 1x768x14x14\n",
            "29: GlobalAveragePool 1x768x14x14 -> 1x768x1x1\n",
            "30: Reshape 1x768x1x1 -> 1x768\n",
            "31: Quantize 1x768 -> 1x768\n",
            "32: K210AddPadding 1x768 -> 1x768x4x4\n",
            "33: K210Conv2d 1x768x4x4 -> 1x2x4x4\n",
            "34: K210RemovePadding 1x2x4x4 -> 1x2\n",
            "35: Dequantize 1x2 -> 1x2\n",
            "36: Softmax 1x2 -> 1x2\n",
            "37: OutputLayer 1x2\n",
            "KPU memory usage: 2097152 B\n",
            "Main memory usage: 752640 B\n",
            "\n"
          ]
        }
      ]
    },
    {
      "cell_type": "code",
      "metadata": {
        "jupyter": {
          "outputs_hidden": false
        },
        "colab": {
          "base_uri": "https://localhost:8080/"
        },
        "id": "Rj5xcxFHR8Dz",
        "outputId": "1f049dc9-27c0-44db-a3d9-92245eba601f"
      },
      "source": [
        "# 生成的文件\n",
        "cmd = f\"ls {temp_saves_dir}result\"\n",
        "print(\"cmd:\",cmd)\n",
        "f=os.popen(cmd)\n",
        "print(f.read())"
      ],
      "execution_count": 70,
      "outputs": [
        {
          "output_type": "stream",
          "name": "stdout",
          "text": [
            "cmd: ls ./train/k210_work/k210/ubuntu/out/imgn_2021-09-27_04_47/result\n",
            "m.kmodel\n",
            "report.jpg\n",
            "\n"
          ]
        }
      ]
    },
    {
      "cell_type": "markdown",
      "metadata": {
        "id": "ndaYzQt-R8Dz"
      },
      "source": [
        "## 生成k210程序boot.py"
      ]
    },
    {
      "cell_type": "code",
      "metadata": {
        "jupyter": {
          "outputs_hidden": false
        },
        "colab": {
          "base_uri": "https://localhost:8080/"
        },
        "id": "4c-xSzJ1R8D0",
        "outputId": "ced71e67-8de3-4f71-84ae-c0f055f5a4b4"
      },
      "source": [
        "target_file = f\"{temp_saves_dir}result/boot.py\"\n",
        "copy_file1 = f\"cp -f {git_dir}/k210_train/data/template/imgn_boot.py {target_file}\"\n",
        "print(copy_file1)"
      ],
      "execution_count": 71,
      "outputs": [
        {
          "output_type": "stream",
          "name": "stdout",
          "text": [
            "cp -f ./train/k210_work/k210/k210_train/data/template/imgn_boot.py ./train/k210_work/k210/ubuntu/out/imgn_2021-09-27_04_47/result/boot.py\n"
          ]
        }
      ]
    },
    {
      "cell_type": "code",
      "metadata": {
        "jupyter": {
          "outputs_hidden": false
        },
        "colab": {
          "base_uri": "https://localhost:8080/"
        },
        "id": "AnfUkLauR8D0",
        "outputId": "152abbe1-f2f2-4f3c-d6b4-29cce3e9f0f2"
      },
      "source": [
        "f1=os.popen(copy_file1)\n",
        "print(f1.read())"
      ],
      "execution_count": 72,
      "outputs": [
        {
          "output_type": "stream",
          "name": "stdout",
          "text": [
            "\n"
          ]
        }
      ]
    },
    {
      "cell_type": "code",
      "metadata": {
        "jupyter": {
          "outputs_hidden": false
        },
        "id": "hY2dLO-_R8D0"
      },
      "source": [
        "# 更新 labels \n",
        "result_boot_py_path = target_file\n",
        "\n",
        "img_size = [224,224]\n",
        "#labels = [\"right\", \"left\", \"forward\"]\n",
        "replace = 'labels = [\"{}\"]'.format('\", \"'.join(labels))\n",
        "\n",
        "with open(result_boot_py_path) as f:\n",
        "            boot_py = f.read()\n",
        "with open(result_boot_py_path, \"w\") as f:\n",
        "            target = 'labels = [\"0\", \"1\"] # labels'\n",
        "            boot_py = boot_py.replace(target, replace)\n",
        "            target = 'img_size = [224,224] # img_size'\n",
        "            replace = 'img_size = [{},{}]'.format(img_size[0], img_size[1])\n",
        "            boot_py = boot_py.replace(target, replace)\n",
        "            f.write(boot_py)"
      ],
      "execution_count": 73,
      "outputs": []
    },
    {
      "cell_type": "markdown",
      "metadata": {
        "id": "_4hEFujRR8D0"
      },
      "source": [
        "## 更新到k210 的cube硬件上运行"
      ]
    },
    {
      "cell_type": "code",
      "metadata": {
        "jupyter": {
          "outputs_hidden": false
        },
        "colab": {
          "base_uri": "https://localhost:8080/"
        },
        "id": "x-E08XApR8D0",
        "outputId": "a2b6ff35-7017-4015-b1f0-bd56cf6789a5"
      },
      "source": [
        "# 生成的文件\n",
        "cmd = f\"ls {temp_saves_dir}result\"\n",
        "print(\"cmd:\",cmd)\n",
        "f=os.popen(cmd)\n",
        "print(f.read())"
      ],
      "execution_count": 74,
      "outputs": [
        {
          "output_type": "stream",
          "name": "stdout",
          "text": [
            "cmd: ls ./train/k210_work/k210/ubuntu/out/imgn_2021-09-27_04_47/result\n",
            "boot.py\n",
            "m.kmodel\n",
            "report.jpg\n",
            "\n"
          ]
        }
      ]
    },
    {
      "cell_type": "code",
      "metadata": {
        "jupyter": {
          "outputs_hidden": false
        },
        "colab": {
          "base_uri": "https://localhost:8080/",
          "height": 52
        },
        "id": "r9FbrXAcR8D1",
        "outputId": "0e5413a0-061c-455d-8de5-001616a7506b"
      },
      "source": [
        "'''\n",
        "把 \n",
        "├── result\n",
        "│   ├── boot.py\n",
        "│   └── m.kmodel\n",
        "\n",
        "的 boot.py ，m.kmodel 复制到 sd 卡的根目录下（或者 models/m8/目录下）\n",
        "重新启动硬件，就可以运行了\n",
        "boot.py 代码中核实模型的路径是否正确\n",
        "'''"
      ],
      "execution_count": 75,
      "outputs": [
        {
          "output_type": "execute_result",
          "data": {
            "application/vnd.google.colaboratory.intrinsic+json": {
              "type": "string"
            },
            "text/plain": [
              "'\\n把 \\n├── result\\n│\\xa0\\xa0 ├── boot.py\\n│\\xa0\\xa0 └── m.kmodel\\n\\n的 boot.py ，m.kmodel 复制到 sd 卡的根目录下（或者 models/m8/目录下）\\n重新启动硬件，就可以运行了\\nboot.py 代码中核实模型的路径是否正确\\n'"
            ]
          },
          "metadata": {},
          "execution_count": 75
        }
      ]
    }
  ]
}