{
 "cells": [
  {
   "cell_type": "markdown",
   "id": "a9f54d3e-798e-46c2-8fb9-4ebeab865f55",
   "metadata": {},
   "source": [
    "# 分类模型"
   ]
  },
  {
   "cell_type": "code",
   "execution_count": null,
   "id": "60720a62-219e-4b0a-bea8-476bdaf781b5",
   "metadata": {},
   "outputs": [],
   "source": []
  },
  {
   "cell_type": "code",
   "execution_count": 1,
   "id": "f17154e9-50ee-4404-94d2-7fb4239dbc11",
   "metadata": {},
   "outputs": [],
   "source": [
    "# 基准测试通过\n",
    "# 来源：https://github.com/sipeed/maix_train"
   ]
  },
  {
   "cell_type": "markdown",
   "id": "55bc3a0d-8f35-43a3-9b15-161e0b6d531d",
   "metadata": {},
   "source": [
    "## python包"
   ]
  },
  {
   "cell_type": "code",
   "execution_count": 2,
   "id": "14b91a0a-7d8d-45fb-9925-8359cced3e8c",
   "metadata": {},
   "outputs": [],
   "source": [
    "import os, sys\n",
    "import time\n",
    "\n",
    "from train.classifier_v1 import classifier_train"
   ]
  },
  {
   "cell_type": "code",
   "execution_count": 3,
   "id": "09a17c45-2d27-4a7f-b735-6140cc6b0e0e",
   "metadata": {},
   "outputs": [],
   "source": [
    "from train.classifier.instance import config\n",
    "\n",
    "config.classifier_train_epochs = 1 # 修改训练轮数 40"
   ]
  },
  {
   "cell_type": "markdown",
   "id": "e3719f0d-b37a-4be2-98cf-c650afad18ff",
   "metadata": {},
   "source": [
    "## config setting"
   ]
  },
  {
   "cell_type": "code",
   "execution_count": 4,
   "id": "05715507-1f9a-4b67-9fd4-25686950f8c1",
   "metadata": {},
   "outputs": [
    {
     "name": "stdout",
     "output_type": "stream",
     "text": [
      "2021-09-26_12_45\n"
     ]
    }
   ],
   "source": [
    "cur_time = time.strftime(\"%Y-%m-%d_%H_%M\", time.localtime())\n",
    "print(cur_time)"
   ]
  },
  {
   "cell_type": "code",
   "execution_count": 15,
   "id": "19b14c7e-a890-423e-ad0d-f8de457c7ead",
   "metadata": {},
   "outputs": [
    {
     "name": "stdout",
     "output_type": "stream",
     "text": [
      "root_dir: ../\n",
      "temp_saves_dir: ../ubuntu/out/imgn_2021-09-26_12_45/\n",
      "datasets_dir: ../datasets/ts_test_classifier_datasets\n"
     ]
    }
   ],
   "source": [
    "root_dir = os.path.join(\"../\")\n",
    "ubuntu_path = f\"out/imgn_{cur_time}\" #用来mac中生成kmodel\n",
    "temp_saves_dir = os.path.join(root_dir,f\"ubuntu/{ubuntu_path}/\") #保存文件目录\n",
    "datasets_dir = os.path.join(root_dir,\"datasets/ts_test_classifier_datasets\") #数据源\n",
    "datasets_dir_zip = os.path.join(root_dir,\"datasets/classifier_datasets.zip\") #数据源 zip (images.zip)\n",
    "\n",
    "print(\"root_dir:\",root_dir)\n",
    "print(\"temp_saves_dir:\",temp_saves_dir)\n",
    "print(\"datasets_dir:\",datasets_dir)"
   ]
  },
  {
   "cell_type": "markdown",
   "id": "c08d2070-1af8-4f41-b4b1-1d05614bfba0",
   "metadata": {},
   "source": [
    "## 训练函数"
   ]
  },
  {
   "cell_type": "code",
   "execution_count": 6,
   "id": "181fc08f-9485-4b38-8a46-d33258914e44",
   "metadata": {},
   "outputs": [
    {
     "name": "stdout",
     "output_type": "stream",
     "text": [
      "<os._wrap_close object at 0x7fb760fa8790>\n"
     ]
    }
   ],
   "source": [
    "## 清理隐藏文件\n",
    "#cmd1 = f\"rm -f {datasets_dir}/.DS_Store\"\n",
    "#os.popen(cmd1)\n",
    "# cmd = f\"rm -f {datasets_dir}/*/.DS_Store\"\n",
    "# f = os.popen(cmd)\n",
    "# print(f)"
   ]
  },
  {
   "cell_type": "markdown",
   "id": "1b01038f-6177-4415-a431-fc3928f66ff8",
   "metadata": {},
   "source": [
    "## 训练"
   ]
  },
  {
   "cell_type": "code",
   "execution_count": 7,
   "id": "a8ac7a7e-1ad1-49a8-97f0-702a21b5fd49",
   "metadata": {},
   "outputs": [
    {
     "name": "stdout",
     "output_type": "stream",
     "text": [
      "select gpu fail:NVML Shared Library Not Found\n"
     ]
    },
    {
     "name": "stderr",
     "output_type": "stream",
     "text": [
      "2021-09-26 12:45:52,393 - [INFO]:  no GPU, will use [CPU]\n",
      "2021-09-26 12:45:55,226 - [INFO]:  train, labels:['0', '1']\n",
      "2021-09-26 12:45:55,227 - [DEBUG]:  train, datasets dir:../datasets/ts_test_classifier_datasets\n",
      "2021-09-26 12:45:55.313483: I tensorflow/core/platform/cpu_feature_guard.cc:142] This TensorFlow binary is optimized with oneAPI Deep Neural Network Library (oneDNN) to use the following CPU instructions in performance-critical operations:  AVX2 FMA\n",
      "To enable them in other operations, rebuild TensorFlow with the appropriate compiler flags.\n",
      "/opt/anaconda3/envs/k210v37/lib/python3.7/site-packages/keras/optimizer_v2/optimizer_v2.py:356: UserWarning: The `lr` argument is deprecated, use `learning_rate` instead.\n",
      "  \"The `lr` argument is deprecated, use `learning_rate` instead.\")\n"
     ]
    },
    {
     "name": "stdout",
     "output_type": "stream",
     "text": [
      "Model: \"model\"\n",
      "_________________________________________________________________\n",
      "Layer (type)                 Output Shape              Param #   \n",
      "=================================================================\n",
      "input_1 (InputLayer)         [(None, 224, 224, 3)]     0         \n",
      "_________________________________________________________________\n",
      "conv1_pad (ZeroPadding2D)    (None, 226, 226, 3)       0         \n",
      "_________________________________________________________________\n",
      "conv1 (Conv2D)               (None, 112, 112, 24)      648       \n",
      "_________________________________________________________________\n",
      "conv1_bn (BatchNormalization (None, 112, 112, 24)      96        \n",
      "_________________________________________________________________\n",
      "conv1_relu (ReLU)            (None, 112, 112, 24)      0         \n",
      "_________________________________________________________________\n",
      "conv_dw_1 (DepthwiseConv2D)  (None, 112, 112, 24)      216       \n",
      "_________________________________________________________________\n",
      "conv_dw_1_bn (BatchNormaliza (None, 112, 112, 24)      96        \n",
      "_________________________________________________________________\n",
      "conv_dw_1_relu (ReLU)        (None, 112, 112, 24)      0         \n",
      "_________________________________________________________________\n",
      "conv_pw_1 (Conv2D)           (None, 112, 112, 48)      1152      \n",
      "_________________________________________________________________\n",
      "conv_pw_1_bn (BatchNormaliza (None, 112, 112, 48)      192       \n",
      "_________________________________________________________________\n",
      "conv_pw_1_relu (ReLU)        (None, 112, 112, 48)      0         \n",
      "_________________________________________________________________\n",
      "conv_pad_2 (ZeroPadding2D)   (None, 114, 114, 48)      0         \n",
      "_________________________________________________________________\n",
      "conv_dw_2 (DepthwiseConv2D)  (None, 56, 56, 48)        432       \n",
      "_________________________________________________________________\n",
      "conv_dw_2_bn (BatchNormaliza (None, 56, 56, 48)        192       \n",
      "_________________________________________________________________\n",
      "conv_dw_2_relu (ReLU)        (None, 56, 56, 48)        0         \n",
      "_________________________________________________________________\n",
      "conv_pw_2 (Conv2D)           (None, 56, 56, 96)        4608      \n",
      "_________________________________________________________________\n",
      "conv_pw_2_bn (BatchNormaliza (None, 56, 56, 96)        384       \n",
      "_________________________________________________________________\n",
      "conv_pw_2_relu (ReLU)        (None, 56, 56, 96)        0         \n",
      "_________________________________________________________________\n",
      "conv_dw_3 (DepthwiseConv2D)  (None, 56, 56, 96)        864       \n",
      "_________________________________________________________________\n",
      "conv_dw_3_bn (BatchNormaliza (None, 56, 56, 96)        384       \n",
      "_________________________________________________________________\n",
      "conv_dw_3_relu (ReLU)        (None, 56, 56, 96)        0         \n",
      "_________________________________________________________________\n",
      "conv_pw_3 (Conv2D)           (None, 56, 56, 96)        9216      \n",
      "_________________________________________________________________\n",
      "conv_pw_3_bn (BatchNormaliza (None, 56, 56, 96)        384       \n",
      "_________________________________________________________________\n",
      "conv_pw_3_relu (ReLU)        (None, 56, 56, 96)        0         \n",
      "_________________________________________________________________\n",
      "conv_pad_4 (ZeroPadding2D)   (None, 58, 58, 96)        0         \n",
      "_________________________________________________________________\n",
      "conv_dw_4 (DepthwiseConv2D)  (None, 28, 28, 96)        864       \n",
      "_________________________________________________________________\n",
      "conv_dw_4_bn (BatchNormaliza (None, 28, 28, 96)        384       \n",
      "_________________________________________________________________\n",
      "conv_dw_4_relu (ReLU)        (None, 28, 28, 96)        0         \n",
      "_________________________________________________________________\n",
      "conv_pw_4 (Conv2D)           (None, 28, 28, 192)       18432     \n",
      "_________________________________________________________________\n",
      "conv_pw_4_bn (BatchNormaliza (None, 28, 28, 192)       768       \n",
      "_________________________________________________________________\n",
      "conv_pw_4_relu (ReLU)        (None, 28, 28, 192)       0         \n",
      "_________________________________________________________________\n",
      "conv_dw_5 (DepthwiseConv2D)  (None, 28, 28, 192)       1728      \n",
      "_________________________________________________________________\n",
      "conv_dw_5_bn (BatchNormaliza (None, 28, 28, 192)       768       \n",
      "_________________________________________________________________\n",
      "conv_dw_5_relu (ReLU)        (None, 28, 28, 192)       0         \n",
      "_________________________________________________________________\n",
      "conv_pw_5 (Conv2D)           (None, 28, 28, 192)       36864     \n",
      "_________________________________________________________________\n",
      "conv_pw_5_bn (BatchNormaliza (None, 28, 28, 192)       768       \n",
      "_________________________________________________________________\n",
      "conv_pw_5_relu (ReLU)        (None, 28, 28, 192)       0         \n",
      "_________________________________________________________________\n",
      "conv_pad_6 (ZeroPadding2D)   (None, 30, 30, 192)       0         \n",
      "_________________________________________________________________\n",
      "conv_dw_6 (DepthwiseConv2D)  (None, 14, 14, 192)       1728      \n",
      "_________________________________________________________________\n",
      "conv_dw_6_bn (BatchNormaliza (None, 14, 14, 192)       768       \n",
      "_________________________________________________________________\n",
      "conv_dw_6_relu (ReLU)        (None, 14, 14, 192)       0         \n",
      "_________________________________________________________________\n",
      "conv_pw_6 (Conv2D)           (None, 14, 14, 384)       73728     \n",
      "_________________________________________________________________\n",
      "conv_pw_6_bn (BatchNormaliza (None, 14, 14, 384)       1536      \n",
      "_________________________________________________________________\n",
      "conv_pw_6_relu (ReLU)        (None, 14, 14, 384)       0         \n",
      "_________________________________________________________________\n",
      "conv_dw_7 (DepthwiseConv2D)  (None, 14, 14, 384)       3456      \n",
      "_________________________________________________________________\n",
      "conv_dw_7_bn (BatchNormaliza (None, 14, 14, 384)       1536      \n",
      "_________________________________________________________________\n",
      "conv_dw_7_relu (ReLU)        (None, 14, 14, 384)       0         \n",
      "_________________________________________________________________\n",
      "conv_pw_7 (Conv2D)           (None, 14, 14, 384)       147456    \n",
      "_________________________________________________________________\n",
      "conv_pw_7_bn (BatchNormaliza (None, 14, 14, 384)       1536      \n",
      "_________________________________________________________________\n",
      "conv_pw_7_relu (ReLU)        (None, 14, 14, 384)       0         \n",
      "_________________________________________________________________\n",
      "conv_dw_8 (DepthwiseConv2D)  (None, 14, 14, 384)       3456      \n",
      "_________________________________________________________________\n",
      "conv_dw_8_bn (BatchNormaliza (None, 14, 14, 384)       1536      \n",
      "_________________________________________________________________\n",
      "conv_dw_8_relu (ReLU)        (None, 14, 14, 384)       0         \n",
      "_________________________________________________________________\n",
      "conv_pw_8 (Conv2D)           (None, 14, 14, 384)       147456    \n",
      "_________________________________________________________________\n",
      "conv_pw_8_bn (BatchNormaliza (None, 14, 14, 384)       1536      \n",
      "_________________________________________________________________\n",
      "conv_pw_8_relu (ReLU)        (None, 14, 14, 384)       0         \n",
      "_________________________________________________________________\n",
      "conv_dw_9 (DepthwiseConv2D)  (None, 14, 14, 384)       3456      \n",
      "_________________________________________________________________\n",
      "conv_dw_9_bn (BatchNormaliza (None, 14, 14, 384)       1536      \n",
      "_________________________________________________________________\n",
      "conv_dw_9_relu (ReLU)        (None, 14, 14, 384)       0         \n",
      "_________________________________________________________________\n",
      "conv_pw_9 (Conv2D)           (None, 14, 14, 384)       147456    \n",
      "_________________________________________________________________\n",
      "conv_pw_9_bn (BatchNormaliza (None, 14, 14, 384)       1536      \n",
      "_________________________________________________________________\n",
      "conv_pw_9_relu (ReLU)        (None, 14, 14, 384)       0         \n",
      "_________________________________________________________________\n",
      "conv_dw_10 (DepthwiseConv2D) (None, 14, 14, 384)       3456      \n",
      "_________________________________________________________________\n",
      "conv_dw_10_bn (BatchNormaliz (None, 14, 14, 384)       1536      \n",
      "_________________________________________________________________\n",
      "conv_dw_10_relu (ReLU)       (None, 14, 14, 384)       0         \n",
      "_________________________________________________________________\n",
      "conv_pw_10 (Conv2D)          (None, 14, 14, 384)       147456    \n",
      "_________________________________________________________________\n",
      "conv_pw_10_bn (BatchNormaliz (None, 14, 14, 384)       1536      \n",
      "_________________________________________________________________\n",
      "conv_pw_10_relu (ReLU)       (None, 14, 14, 384)       0         \n",
      "_________________________________________________________________\n",
      "conv_dw_11 (DepthwiseConv2D) (None, 14, 14, 384)       3456      \n",
      "_________________________________________________________________\n",
      "conv_dw_11_bn (BatchNormaliz (None, 14, 14, 384)       1536      \n",
      "_________________________________________________________________\n",
      "conv_dw_11_relu (ReLU)       (None, 14, 14, 384)       0         \n",
      "_________________________________________________________________\n",
      "conv_pw_11 (Conv2D)          (None, 14, 14, 384)       147456    \n",
      "_________________________________________________________________\n",
      "conv_pw_11_bn (BatchNormaliz (None, 14, 14, 384)       1536      \n",
      "_________________________________________________________________\n",
      "conv_pw_11_relu (ReLU)       (None, 14, 14, 384)       0         \n",
      "_________________________________________________________________\n",
      "conv_dw_12 (DepthwiseConv2D) (None, 14, 14, 384)       3456      \n",
      "_________________________________________________________________\n",
      "conv_dw_12_bn (BatchNormaliz (None, 14, 14, 384)       1536      \n",
      "_________________________________________________________________\n",
      "conv_dw_12_relu (ReLU)       (None, 14, 14, 384)       0         \n",
      "_________________________________________________________________\n",
      "conv_pw_12 (Conv2D)          (None, 14, 14, 768)       294912    \n",
      "_________________________________________________________________\n",
      "conv_pw_12_bn (BatchNormaliz (None, 14, 14, 768)       3072      \n",
      "_________________________________________________________________\n",
      "conv_pw_12_relu (ReLU)       (None, 14, 14, 768)       0         \n",
      "_________________________________________________________________\n",
      "conv_dw_13 (DepthwiseConv2D) (None, 14, 14, 768)       6912      \n",
      "_________________________________________________________________\n",
      "conv_dw_13_bn (BatchNormaliz (None, 14, 14, 768)       3072      \n",
      "_________________________________________________________________\n",
      "conv_dw_13_relu (ReLU)       (None, 14, 14, 768)       0         \n",
      "_________________________________________________________________\n",
      "conv_pw_13 (Conv2D)          (None, 14, 14, 768)       589824    \n",
      "_________________________________________________________________\n",
      "conv_pw_13_bn (BatchNormaliz (None, 14, 14, 768)       3072      \n",
      "_________________________________________________________________\n",
      "conv_pw_13_relu (ReLU)       (None, 14, 14, 768)       0         \n",
      "_________________________________________________________________\n",
      "global_average_pooling2d (Gl (None, 768)               0         \n",
      "_________________________________________________________________\n",
      "dropout (Dropout)            (None, 768)               0         \n",
      "_________________________________________________________________\n",
      "dense (Dense)                (None, 2)                 1538      \n",
      "=================================================================\n",
      "Total params: 1,834,514\n",
      "Trainable params: 1,538\n",
      "Non-trainable params: 1,832,976\n",
      "_________________________________________________________________\n",
      "Found 480 images belonging to 2 classes.\n",
      "self.labels:::: dict_keys(['0', '1'])\n",
      "Found 120 images belonging to 2 classes.\n"
     ]
    },
    {
     "name": "stderr",
     "output_type": "stream",
     "text": [
      "2021-09-26 12:45:55,989 - [INFO]:  train data:480, valid data:120\n",
      "/opt/anaconda3/envs/k210v37/lib/python3.7/site-packages/keras/engine/training.py:1972: UserWarning: `Model.fit_generator` is deprecated and will be removed in a future version. Please use `Model.fit`, which supports generators.\n",
      "  warnings.warn('`Model.fit_generator` is deprecated and '\n",
      "2021-09-26 12:45:56,086 - [INFO]:  train start\n",
      "2021-09-26 12:45:56,087 - [INFO]:  progress: 1.0%, train start\n",
      "2021-09-26 12:45:56.095809: I tensorflow/compiler/mlir/mlir_graph_optimization_pass.cc:185] None of the MLIR Optimization Passes are enabled (registered 2)\n",
      "2021-09-26 12:45:56,121 - [INFO]:  epoch 0 start\n"
     ]
    },
    {
     "name": "stdout",
     "output_type": "stream",
     "text": [
      "96/96 [==============================] - 11s 98ms/step - loss: 0.6701 - accuracy: 0.6042 - val_loss: 0.6167 - val_accuracy: 0.6833\n"
     ]
    },
    {
     "name": "stderr",
     "output_type": "stream",
     "text": [
      "2021-09-26 12:46:06,702 - [INFO]:  epoch 0 end: {'loss': 0.6700758337974548, 'accuracy': 0.6041666865348816, 'val_loss': 0.6167463660240173, 'val_accuracy': 0.6833333373069763}\n",
      "2021-09-26 12:46:06,703 - [INFO]:  progress: 98.0%, train epoch end\n",
      "2021-09-26 12:46:06,704 - [INFO]:  train end\n",
      "2021-09-26 12:46:06,705 - [INFO]:  progress: 98.0%, train end\n",
      "2021-09-26 12:46:06,747 - [INFO]:  save model as .tflite file\n",
      "2021-09-26 12:46:10.718098: W tensorflow/python/util/util.cc:348] Sets are not currently considered sequences, but this may change in the future, so consider avoiding using them.\n"
     ]
    },
    {
     "name": "stdout",
     "output_type": "stream",
     "text": [
      "INFO:tensorflow:Assets written to: /var/folders/_l/dffcyljj723fg4wbqfxfqv640000gn/T/tmpz7qqr5nh/assets\n"
     ]
    },
    {
     "name": "stderr",
     "output_type": "stream",
     "text": [
      "2021-09-26 12:46:16.166658: I tensorflow/core/grappler/devices.cc:75] Number of eligible GPUs (core count >= 8, compute capability >= 0.0): 0 (Note: TensorFlow was not compiled with CUDA or ROCm support)\n",
      "2021-09-26 12:46:16.166725: I tensorflow/core/grappler/clusters/single_machine.cc:357] Starting new session\n",
      "2021-09-26 12:46:16.172756: I tensorflow/core/grappler/optimizers/meta_optimizer.cc:1137] Optimization results for grappler item: graph_to_optimize\n",
      "  function_optimizer: function_optimizer did nothing. time = 0.003ms.\n",
      "  function_optimizer: function_optimizer did nothing. time = 0.001ms.\n",
      "\n",
      "2021-09-26 12:46:16.883756: W tensorflow/compiler/mlir/lite/python/tf_tfl_flatbuffer_helpers.cc:351] Ignored output_format.\n",
      "2021-09-26 12:46:16.883773: W tensorflow/compiler/mlir/lite/python/tf_tfl_flatbuffer_helpers.cc:354] Ignored drop_control_dependency.\n",
      "2021-09-26 12:46:16.903517: I tensorflow/compiler/mlir/tensorflow/utils/dump_mlir_util.cc:210] disabling MLIR crash reproducer, set env var `MLIR_CRASH_REPRODUCER_DIRECTORY` to enable.\n",
      "2021-09-26 12:46:16,983 - [INFO]:  train ok, now generate report\n",
      "INFO:logger: train ok, now generate report\n",
      "2021-09-26 12:46:16,985 - [INFO]:  generate report image\n",
      "INFO:logger: generate report image\n",
      "/opt/anaconda3/envs/k210v37/lib/python3.7/site-packages/keras/engine/training.py:2035: UserWarning: `Model.predict_generator` is deprecated and will be removed in a future version. Please use `Model.predict`, which supports generators.\n",
      "  warnings.warn('`Model.predict_generator` is deprecated and '\n"
     ]
    },
    {
     "name": "stdout",
     "output_type": "stream",
     "text": [
      "Found 600 images belonging to 2 classes.\n",
      "120/120 [==============================] - 7s 52ms/step\n"
     ]
    },
    {
     "name": "stderr",
     "output_type": "stream",
     "text": [
      "2021-09-26 12:46:24,093 - [INFO]:  generate report image end\n",
      "INFO:logger: generate report image end\n"
     ]
    }
   ],
   "source": [
    "# 配置文件：train.classifier.instance\n",
    "result,_,model_path ,labels = classifier_train(datasets_dir=datasets_dir,temp_datasets_dir=temp_saves_dir,config=config)\n",
    "\n",
    "#result,_,model_path ,labels = classifier_train(datasets_zip_path=datasets_dir_zip,temp_datasets_dir=temp_saves_dir,config=config)"
   ]
  },
  {
   "cell_type": "code",
   "execution_count": 8,
   "id": "7a374535-3e6b-45fc-a1e9-f78d5650b4cc",
   "metadata": {},
   "outputs": [
    {
     "name": "stdout",
     "output_type": "stream",
     "text": [
      "../ubuntu/out/imgn_2021-09-26_12_45/m.h5\n"
     ]
    }
   ],
   "source": [
    "print(model_path)"
   ]
  },
  {
   "cell_type": "code",
   "execution_count": null,
   "id": "0099b74a-8dc0-438f-ba6e-3c6356315865",
   "metadata": {},
   "outputs": [],
   "source": []
  },
  {
   "cell_type": "markdown",
   "id": "5ed81877-bcad-4622-8819-9dff0ec637f2",
   "metadata": {},
   "source": [
    "## 生成kmodel"
   ]
  },
  {
   "cell_type": "code",
   "execution_count": 9,
   "id": "40a861b5-712c-40ed-90cf-0d9b3a4a66c2",
   "metadata": {},
   "outputs": [
    {
     "name": "stdout",
     "output_type": "stream",
     "text": [
      "docker run -it -v /Users/liampro/Downloads/pro/git/ai-test/k210/ubuntu:/train ubuntu /train/tokmodel.sh out/imgn_2021-09-26_12_45\n"
     ]
    }
   ],
   "source": [
    "#直接生成kmodel:Mac开发环境要弄个docker跑linux命令，\n",
    "# win,linux可以直接跑官方命令\n",
    "# tool:https://github.com/kendryte/nncase/releases/tag/v0.1.0-rc5\n",
    "\n",
    "exe_path = os.path.join(os.path.abspath('..'), \"ubuntu\")\n",
    "\n",
    "docker_cmd=f\"docker run -it -v {exe_path}:/train ubuntu /train/tokmodel.sh {ubuntu_path}\"\n",
    "print(docker_cmd)\n",
    "\n",
    "# 在shell 运行 docker命令"
   ]
  },
  {
   "cell_type": "code",
   "execution_count": 18,
   "id": "9922eebc-5532-46a2-a6e7-15715b2b80bf",
   "metadata": {},
   "outputs": [
    {
     "name": "stdout",
     "output_type": "stream",
     "text": [
      "/Users/liampro/Downloads/pro/git/ai-test/k210/k210_train/tools/kmodel/ncc-linux.sh ./ncc-linux-x86_64/ncc out/imgn_2021-09-26_12_45\n"
     ]
    }
   ],
   "source": [
    "# linux\n",
    "ncc_path = \"./ncc-linux-x86_64/ncc\"\n",
    "# ncc_path = \"../../ncc-linux-x86_64/ncc\" # 百度\n",
    "cmd_linux = f\"{os.path.abspath('.')}/tools/kmodel/ncc-linux.sh {ncc_path} {ubuntu_path}\"\n",
    "print(cmd_linux)"
   ]
  },
  {
   "cell_type": "markdown",
   "id": "6e72b835-a5e8-4a31-95d5-cb93b1131cbb",
   "metadata": {},
   "source": [
    "## 生成k210程序boot.py"
   ]
  },
  {
   "cell_type": "code",
   "execution_count": 11,
   "id": "598a871b-6fd3-43bd-bcbc-a5e99bdcbbc6",
   "metadata": {},
   "outputs": [
    {
     "name": "stdout",
     "output_type": "stream",
     "text": [
      "cp -f data/template/imgn_boot.py ../ubuntu/out/imgn_2021-09-26_12_45/result/boot.py\n"
     ]
    }
   ],
   "source": [
    "#temp_saves_dir = \"../ubuntu/out/yolo_1\"\n",
    "target_file = f\"{temp_saves_dir}result/boot.py\"\n",
    "copy_file = f\"cp -f data/template/imgn_boot.py {target_file}\"\n",
    "print(copy_file)"
   ]
  },
  {
   "cell_type": "code",
   "execution_count": 12,
   "id": "62752c83-5de8-48db-9514-af03999b05ec",
   "metadata": {},
   "outputs": [
    {
     "name": "stdout",
     "output_type": "stream",
     "text": [
      "\n"
     ]
    }
   ],
   "source": [
    "f=os.popen(copy_file)\n",
    "print(f.read()) "
   ]
  },
  {
   "cell_type": "code",
   "execution_count": 13,
   "id": "8548ead2-3932-466c-a08b-28ee057d50d7",
   "metadata": {},
   "outputs": [],
   "source": [
    "# 更新 labels \n",
    "result_boot_py_path = target_file\n",
    "\n",
    "img_size = [224,224]\n",
    "#labels = [\"s0\",\"s1\"]\n",
    "replace = 'labels = [\"{}\"]'.format('\", \"'.join(labels))\n",
    "\n",
    "with open(result_boot_py_path) as f:\n",
    "            boot_py = f.read()\n",
    "with open(result_boot_py_path, \"w\") as f:\n",
    "            target = 'labels = [\"0\", \"1\"] # labels'\n",
    "            boot_py = boot_py.replace(target, replace)\n",
    "            target = 'img_size = [224,224] # img_size'\n",
    "            replace = 'img_size = [{},{}]'.format(img_size[0], img_size[1])\n",
    "            boot_py = boot_py.replace(target, replace)\n",
    "            f.write(boot_py)"
   ]
  },
  {
   "cell_type": "code",
   "execution_count": null,
   "id": "b60293ee-67ff-4831-94ff-482b3042ded9",
   "metadata": {},
   "outputs": [],
   "source": []
  },
  {
   "cell_type": "markdown",
   "id": "b69e6718-8103-4329-9b55-e6adad3d020c",
   "metadata": {},
   "source": [
    "# 分类模型"
   ]
  },
  {
   "cell_type": "markdown",
   "id": "dd88afee-20a9-43e3-8dd2-91b0b68e5309",
   "metadata": {},
   "source": [
    "## 最后生成的文件tree"
   ]
  },
  {
   "cell_type": "raw",
   "id": "4f129882-727f-4c0b-ac9d-dedc52971dce",
   "metadata": {},
   "source": [
    "'''\n",
    "liam18@liam ~ % cd ../ubuntu/out/imgn_2021-09-17_09_13 \n",
    "liam18@liam imgn_2021-09-17_09_13 % tree\n",
    ".\n",
    "├── m.h5\n",
    "├── m.tflite\n",
    "├── result\n",
    "│   ├── boot.py\n",
    "│   └── m.kmodel\n",
    "├── sample_images\n",
    "│   ├── 0_284.jpg\n",
    "│   ├── 10_202.jpg\n",
    "│   └── 9_269.jpg\n",
    "'''"
   ]
  },
  {
   "cell_type": "markdown",
   "id": "69a2a1c5-4ff5-467e-bd81-e4a6c2fbc59e",
   "metadata": {},
   "source": [
    "## 到k210硬件运行"
   ]
  },
  {
   "cell_type": "raw",
   "id": "6799e240-0a51-44ef-8686-277f541eea3d",
   "metadata": {},
   "source": [
    "'''\n",
    "把 \n",
    "├── result\n",
    "│   ├── boot.py\n",
    "│   └── m.kmodel\n",
    "\n",
    "的 boot.py ，m.kmodel 复制到 sd 卡的根目录下 （或者 models/m8/目录下）\n",
    "重新启动硬件，就可以运行了\n",
    "boot.py 代码中核实模型的路径是否正确\n",
    "\n",
    "'''"
   ]
  }
 ],
 "metadata": {
  "kernelspec": {
   "display_name": "Python 3 (ipykernel)",
   "language": "python",
   "name": "python3"
  },
  "language_info": {
   "codemirror_mode": {
    "name": "ipython",
    "version": 3
   },
   "file_extension": ".py",
   "mimetype": "text/x-python",
   "name": "python",
   "nbconvert_exporter": "python",
   "pygments_lexer": "ipython3",
   "version": "3.7.11"
  }
 },
 "nbformat": 4,
 "nbformat_minor": 5
}
