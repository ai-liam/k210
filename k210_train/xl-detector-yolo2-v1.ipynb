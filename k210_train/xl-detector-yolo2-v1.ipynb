{
 "cells": [
  {
   "cell_type": "markdown",
   "id": "ec637c6c",
   "metadata": {},
   "source": [
    "# YOLO v2训练kmodel"
   ]
  },
  {
   "cell_type": "code",
   "execution_count": null,
   "id": "48ce86b6",
   "metadata": {},
   "outputs": [],
   "source": []
  },
  {
   "cell_type": "code",
   "execution_count": 1,
   "id": "938647fd",
   "metadata": {},
   "outputs": [],
   "source": [
    "# 把 maix_train 项目的yolo抽离出来\n",
    "# 基准测试通过\n",
    "# 来源：https://github.com/sipeed/maix_train"
   ]
  },
  {
   "cell_type": "code",
   "execution_count": 2,
   "id": "e5d90503",
   "metadata": {},
   "outputs": [],
   "source": [
    "import os, sys\n",
    "import shutil\n",
    "import time\n",
    "\n",
    "from train.detector import Detector\n",
    "from train.utils.logger import Logger, Fake_Logger\n",
    "from train.utils import gpu_utils, isascii\n"
   ]
  },
  {
   "cell_type": "code",
   "execution_count": 3,
   "id": "403f39ef-9220-4aee-ad6a-341ea376d9b5",
   "metadata": {},
   "outputs": [],
   "source": [
    "from train.detector.instance import config\n",
    "\n",
    "#config.detector_train_epochs = 40 # 修改训练轮数"
   ]
  },
  {
   "cell_type": "markdown",
   "id": "b5925150-db06-4c6f-9127-e8b46124a211",
   "metadata": {},
   "source": [
    "## config setting"
   ]
  },
  {
   "cell_type": "code",
   "execution_count": 4,
   "id": "b092b160",
   "metadata": {},
   "outputs": [
    {
     "name": "stdout",
     "output_type": "stream",
     "text": [
      "2021-09-17_15_47\n"
     ]
    }
   ],
   "source": [
    "cur_time = time.strftime(\"%Y-%m-%d_%H_%M\", time.localtime())\n",
    "print(cur_time)"
   ]
  },
  {
   "cell_type": "code",
   "execution_count": 5,
   "id": "4e6ba73d",
   "metadata": {},
   "outputs": [
    {
     "name": "stdout",
     "output_type": "stream",
     "text": [
      "../ubuntu/out/yolo_2021-09-17_15_47/\n"
     ]
    }
   ],
   "source": [
    "ubuntu_path = f\"out/yolo_{cur_time}\" #用来mac中生成kmodel\n",
    "temp_saves_dir = f\"../ubuntu/{ubuntu_path}/\" #保存文件目录\n",
    "datasets_dir = \"../datasets/ts_xml_format\"#数据源\n",
    "print(temp_saves_dir)"
   ]
  },
  {
   "cell_type": "markdown",
   "id": "1bd55a4c",
   "metadata": {},
   "source": [
    "## 训练函数"
   ]
  },
  {
   "cell_type": "code",
   "execution_count": 6,
   "id": "21e4533e",
   "metadata": {},
   "outputs": [],
   "source": [
    "def clear_save_path(temp_datasets_dir=\"\"):\n",
    "    if temp_datasets_dir ==\"\":\n",
    "        return False\n",
    "    #clear\n",
    "    if os.path.exists(temp_datasets_dir):\n",
    "        shutil.rmtree(temp_datasets_dir)\n",
    "    os.makedirs(temp_datasets_dir)\n",
    "    return True\n",
    "\n",
    "def creat_sample_images(detector,temp_datasets_dir=\"\",sample_image_num = 20):\n",
    "    dataset_sample_images_path = os.path.join(temp_datasets_dir, \"sample_images\")\n",
    "    os.makedirs(dataset_sample_images_path)\n",
    "    detector.get_sample_images(sample_image_num, dataset_sample_images_path)\n",
    "    return True\n",
    "\n",
    "def detector_train(datasets_zip_path=\"\",datasets_dir=\"\",temp_datasets_dir=\"\"):\n",
    "    \n",
    "    #clear and creat\n",
    "    clear_save_path(temp_datasets_dir)\n",
    "    log = Logger(file_path=f\"{temp_datasets_dir}train_log.log\")\n",
    "    \n",
    "    def __on_train_progress(percent, msg):  # flag: progress\n",
    "        percent = percent*0.97 + 1\n",
    "        log.i(f\"progress: {percent}%, {msg}\")\n",
    "    \n",
    "    # 检测 GPU 可用,选择一个可用的 GPU 使用\n",
    "    try:\n",
    "        gpu = gpu_utils.select_gpu(memory_require = config.detector_train_gpu_mem_require, tf_gpu_mem_growth=False)\n",
    "    except Exception:\n",
    "        gpu = None\n",
    "    if gpu is None:\n",
    "        if not config.allow_cpu:\n",
    "            log.e(\"no free GPU\")\n",
    "            raise Exception((TrainFailReason.ERROR_NODE_BUSY, \"node no enough GPU or GPU memory and not support CPU train\"))\n",
    "        log.i(\"no GPU, will use [CPU]\")\n",
    "    else:\n",
    "        log.i(\"select\", gpu)\n",
    "\n",
    "    # set value\n",
    "    best_h5_model_path  = os.path.join(temp_datasets_dir, \"m_best.h5\")\n",
    "    final_h5_model_path = os.path.join(temp_datasets_dir, \"m.h5\")\n",
    "    result_dir = os.path.join(temp_datasets_dir, \"result\")\n",
    "    os.makedirs(result_dir)\n",
    "    result_report_img_path = os.path.join(result_dir, \"report.jpg\")\n",
    "    tflite_path = os.path.join(temp_datasets_dir, \"m.tflite\")\n",
    "    \n",
    "    # 启动训练\n",
    "    try:\n",
    "        detector = Detector(input_shape=(224, 224, 3),\n",
    "                            datasets_zip=datasets_zip_path,\n",
    "                            datasets_dir=datasets_dir,\n",
    "                            unpack_dir = temp_datasets_dir,\n",
    "                            logger=log,\n",
    "                            max_classes_limit = config.detector_train_max_classes_num,\n",
    "                            one_class_min_images_num=config.detector_train_one_class_min_img_num,\n",
    "                            one_class_max_images_num=config.detector_train_one_class_max_img_num,\n",
    "                            allow_reshape = False)\n",
    "    except Exception as e:\n",
    "        log.e(\"train datasets not valid: {}\".format(e))\n",
    "        raise Exception((\"TrainFailReason.ERROR_PARAM\", \"datasets not valid: {}\".format(str(e))))\n",
    "    try:\n",
    "\n",
    "        f,anchors = detector.train(epochs=config.detector_train_epochs,\n",
    "                progress_cb= __on_train_progress,\n",
    "                save_best_weights_path = best_h5_model_path,\n",
    "                save_final_weights_path = final_h5_model_path,\n",
    "                jitter=False,\n",
    "                is_only_detect = False,\n",
    "                batch_size = config.detector_train_batch_size,\n",
    "                train_times = 5,\n",
    "                valid_times = 2,\n",
    "                learning_rate=config.detector_train_learn_rate,\n",
    "            )\n",
    "        print(\"anchors 2:\",anchors)\n",
    "    except Exception as e:\n",
    "        log.e(\"train error: {}\".format(e))\n",
    "        traceback.print_exc()\n",
    "        raise Exception((\"TrainFailReason.ERROR_INTERNAL\", \"error occurred when train, error: {}\".format(str(e)) ))\n",
    "\n",
    "    ## sample_image\n",
    "    creat_sample_images(detector,temp_datasets_dir,config.sample_image_num)\n",
    "    \n",
    "    ## creat tflite\n",
    "    detector.save(tflite_path=tflite_path)\n",
    "    \n",
    "    # 训练结束, 生成报告\n",
    "    log.i(\"train ok, now generate report\")\n",
    "    detector.report(result_report_img_path)\n",
    "    \n",
    "    return True , detector,final_h5_model_path,anchors\n"
   ]
  },
  {
   "cell_type": "code",
   "execution_count": 7,
   "id": "ce47dd91",
   "metadata": {},
   "outputs": [
    {
     "name": "stdout",
     "output_type": "stream",
     "text": [
      "<os._wrap_close object at 0x7fb06026d4d0>\n"
     ]
    }
   ],
   "source": [
    "## 清理隐藏文件\n",
    "#rm -f /Users/liampro/Downloads/pro/git/ai-test/k210/datasets/ts_xml_format/.DS_Store\n",
    "# rm -f /Users/liampro/Downloads/pro/git/ai-test/k210/datasets/ts_xml_format/*/.DS_Store\n",
    "#cmd1 = f\"rm -f {datasets_dir}/.DS_Store\"\n",
    "cmd = f\"rm -f {datasets_dir}/*/.DS_Store\"\n",
    "#os.popen(cmd1)\n",
    "f = os.popen(cmd)\n",
    "print(f)"
   ]
  },
  {
   "cell_type": "markdown",
   "id": "7a32b2b4",
   "metadata": {},
   "source": [
    "## 训练"
   ]
  },
  {
   "cell_type": "code",
   "execution_count": 8,
   "id": "f485ba74",
   "metadata": {},
   "outputs": [
    {
     "name": "stdout",
     "output_type": "stream",
     "text": [
      "select gpu fail:NVML Shared Library Not Found\n"
     ]
    },
    {
     "name": "stderr",
     "output_type": "stream",
     "text": [
      "2021-09-17 15:47:03,981 - [INFO]:  no GPU, will use [CPU]\n",
      "2021-09-17 15:47:07,462 - [INFO]:  input_shape: (224, 224, 3)\n"
     ]
    },
    {
     "name": "stdout",
     "output_type": "stream",
     "text": [
      "-- 0\n",
      "-- 1\n"
     ]
    },
    {
     "name": "stderr",
     "output_type": "stream",
     "text": [
      "2021-09-17 15:47:08,382 - [INFO]:  load datasets complete, check pass, images num:600, bboxes num:600\n",
      "2021-09-17 15:47:09,156 - [INFO]:  train, labels:['0', '1']\n",
      "2021-09-17 15:47:09,157 - [DEBUG]:  train, datasets dir:../datasets/ts_xml_format\n",
      "2021-09-17 15:47:09,158 - [INFO]:  bboxes num: 600, first bbox: [0.61160714 0.66071429]\n",
      "2021-09-17 15:47:09,467 - [INFO]:  bbox accuracy(IOU): 85.43%\n",
      "2021-09-17 15:47:09,468 - [INFO]:  bound boxes: (136.000000,131.00),(105.000000,105.00),(78.000000,77.00),(54.000000,57.00),(165.000000,165.00)\n",
      "2021-09-17 15:47:09,469 - [INFO]:  anchors: [4.25, 4.09375, 3.28125, 3.28125, 2.4375, 2.40625, 1.6875, 1.78125, 5.15625, 5.15625]\n",
      "2021-09-17 15:47:09,469 - [INFO]:  w/h ratios: [0.95, 1.0, 1.0, 1.01, 1.04]\n",
      "2021-09-17 15:47:09.489779: I tensorflow/core/platform/cpu_feature_guard.cc:142] This TensorFlow binary is optimized with oneAPI Deep Neural Network Library (oneDNN) to use the following CPU instructions in performance-critical operations:  AVX2 FMA\n",
      "To enable them in other operations, rebuild TensorFlow with the appropriate compiler flags.\n"
     ]
    },
    {
     "name": "stdout",
     "output_type": "stream",
     "text": [
      "self.anchors: [4.25, 4.09375, 3.28125, 3.28125, 2.4375, 2.40625, 1.6875, 1.78125, 5.15625, 5.15625]\n",
      "load local weight file: /Users/liampro/Downloads/pro/git/ai-test/k210/k210_train/train/detector/weights/mobilenet_7_5_224_tf_no_top.h5\n"
     ]
    },
    {
     "name": "stderr",
     "output_type": "stream",
     "text": [
      "/opt/anaconda3/envs/k210v37/lib/python3.7/site-packages/keras/optimizer_v2/optimizer_v2.py:356: UserWarning: The `lr` argument is deprecated, use `learning_rate` instead.\n",
      "  \"The `lr` argument is deprecated, use `learning_rate` instead.\")\n",
      "/opt/anaconda3/envs/k210v37/lib/python3.7/site-packages/keras/engine/training.py:1972: UserWarning: `Model.fit_generator` is deprecated and will be removed in a future version. Please use `Model.fit`, which supports generators.\n",
      "  warnings.warn('`Model.fit_generator` is deprecated and '\n",
      "2021-09-17 15:47:10,157 - [INFO]:  train start\n",
      "2021-09-17 15:47:10,158 - [INFO]:  progress: 1.0%, train start\n",
      "2021-09-17 15:47:10.166782: I tensorflow/compiler/mlir/mlir_graph_optimization_pass.cc:185] None of the MLIR Optimization Passes are enabled (registered 2)\n",
      "2021-09-17 15:47:10,190 - [INFO]:  epoch 0 start\n"
     ]
    },
    {
     "name": "stdout",
     "output_type": "stream",
     "text": [
      "Model: \"model\"\n",
      "_________________________________________________________________\n",
      "Layer (type)                 Output Shape              Param #   \n",
      "=================================================================\n",
      "input_1 (InputLayer)         [(None, 224, 224, 3)]     0         \n",
      "_________________________________________________________________\n",
      "mobilenet_0.75_224 (Function (None, 7, 7, 768)         1832976   \n",
      "=================================================================\n",
      "Total params: 1,832,976\n",
      "Trainable params: 1,816,560\n",
      "Non-trainable params: 16,416\n",
      "_________________________________________________________________\n",
      "Model: \"model_1\"\n",
      "_________________________________________________________________\n",
      "Layer (type)                 Output Shape              Param #   \n",
      "=================================================================\n",
      "input_1 (InputLayer)         [(None, 224, 224, 3)]     0         \n",
      "_________________________________________________________________\n",
      "mobilenet_0.75_224 (Function (None, 7, 7, 768)         1832976   \n",
      "_________________________________________________________________\n",
      "detection_layer_35 (Conv2D)  (None, 7, 7, 35)          26915     \n",
      "_________________________________________________________________\n",
      "reshape (Reshape)            (None, 7, 7, 5, 7)        0         \n",
      "=================================================================\n",
      "Total params: 1,859,891\n",
      "Trainable params: 1,843,475\n",
      "Non-trainable params: 16,416\n",
      "_________________________________________________________________\n",
      "Epoch 1/40\n",
      "480/480 [==============================] - 108s 218ms/step - loss: 0.3220 - val_loss: 0.2375\n"
     ]
    },
    {
     "name": "stderr",
     "output_type": "stream",
     "text": [
      "2021-09-17 15:48:58,721 - [INFO]:  epoch 0 end: {'loss': 0.322005957365036, 'val_loss': 0.23750117421150208, 'lr': 1e-04}\n",
      "2021-09-17 15:48:58,723 - [INFO]:  progress: 3.425%, train epoch end\n",
      "2021-09-17 15:48:58,869 - [INFO]:  epoch 1 start\n"
     ]
    },
    {
     "name": "stdout",
     "output_type": "stream",
     "text": [
      "\n",
      "Epoch 00001: val_loss improved from inf to 0.23750, saving model to ../ubuntu/out/yolo_2021-09-17_15_47/m_best.h5\n",
      "save .h5 weights file to : ../ubuntu/out/yolo_2021-09-17_15_47/m_best.h5\n",
      "Epoch 2/40\n",
      "480/480 [==============================] - 107s 222ms/step - loss: 0.1117 - val_loss: 0.1711\n"
     ]
    },
    {
     "name": "stderr",
     "output_type": "stream",
     "text": [
      "2021-09-17 15:50:45,560 - [INFO]:  epoch 1 end: {'loss': 0.11174802482128143, 'val_loss': 0.17112745344638824, 'lr': 1e-04}\n",
      "2021-09-17 15:50:45,561 - [INFO]:  progress: 5.85%, train epoch end\n",
      "2021-09-17 15:50:45,700 - [INFO]:  epoch 2 start\n"
     ]
    },
    {
     "name": "stdout",
     "output_type": "stream",
     "text": [
      "\n",
      "Epoch 00002: val_loss improved from 0.23750 to 0.17113, saving model to ../ubuntu/out/yolo_2021-09-17_15_47/m_best.h5\n",
      "save .h5 weights file to : ../ubuntu/out/yolo_2021-09-17_15_47/m_best.h5\n",
      "Epoch 3/40\n",
      "480/480 [==============================] - 105s 219ms/step - loss: 0.0711 - val_loss: 0.1555\n"
     ]
    },
    {
     "name": "stderr",
     "output_type": "stream",
     "text": [
      "2021-09-17 15:52:30,750 - [INFO]:  epoch 2 end: {'loss': 0.07108248770236969, 'val_loss': 0.1555483490228653, 'lr': 1e-04}\n",
      "2021-09-17 15:52:30,752 - [INFO]:  progress: 8.274999999999999%, train epoch end\n",
      "2021-09-17 15:52:30,884 - [INFO]:  epoch 3 start\n"
     ]
    },
    {
     "name": "stdout",
     "output_type": "stream",
     "text": [
      "\n",
      "Epoch 00003: val_loss improved from 0.17113 to 0.15555, saving model to ../ubuntu/out/yolo_2021-09-17_15_47/m_best.h5\n",
      "save .h5 weights file to : ../ubuntu/out/yolo_2021-09-17_15_47/m_best.h5\n",
      "Epoch 4/40\n",
      "480/480 [==============================] - 110s 229ms/step - loss: 0.0604 - val_loss: 0.1303\n"
     ]
    },
    {
     "name": "stderr",
     "output_type": "stream",
     "text": [
      "2021-09-17 15:54:21,130 - [INFO]:  epoch 3 end: {'loss': 0.060358136892318726, 'val_loss': 0.1303074210882187, 'lr': 1e-04}\n",
      "2021-09-17 15:54:21,131 - [INFO]:  progress: 10.7%, train epoch end\n",
      "2021-09-17 15:54:21,261 - [INFO]:  epoch 4 start\n"
     ]
    },
    {
     "name": "stdout",
     "output_type": "stream",
     "text": [
      "\n",
      "Epoch 00004: val_loss improved from 0.15555 to 0.13031, saving model to ../ubuntu/out/yolo_2021-09-17_15_47/m_best.h5\n",
      "save .h5 weights file to : ../ubuntu/out/yolo_2021-09-17_15_47/m_best.h5\n",
      "Epoch 5/40\n",
      "480/480 [==============================] - 110s 229ms/step - loss: 0.0425 - val_loss: 0.1219\n"
     ]
    },
    {
     "name": "stderr",
     "output_type": "stream",
     "text": [
      "2021-09-17 15:56:11,346 - [INFO]:  epoch 4 end: {'loss': 0.04252176731824875, 'val_loss': 0.12190595269203186, 'lr': 1e-04}\n",
      "2021-09-17 15:56:11,348 - [INFO]:  progress: 13.125%, train epoch end\n",
      "2021-09-17 15:56:11,485 - [INFO]:  epoch 5 start\n"
     ]
    },
    {
     "name": "stdout",
     "output_type": "stream",
     "text": [
      "\n",
      "Epoch 00005: val_loss improved from 0.13031 to 0.12191, saving model to ../ubuntu/out/yolo_2021-09-17_15_47/m_best.h5\n",
      "save .h5 weights file to : ../ubuntu/out/yolo_2021-09-17_15_47/m_best.h5\n",
      "Epoch 6/40\n",
      "480/480 [==============================] - 112s 233ms/step - loss: 0.0348 - val_loss: 0.1332\n"
     ]
    },
    {
     "name": "stderr",
     "output_type": "stream",
     "text": [
      "2021-09-17 15:58:03,452 - [INFO]:  epoch 5 end: {'loss': 0.03484204038977623, 'val_loss': 0.13320642709732056, 'lr': 1e-04}\n",
      "2021-09-17 15:58:03,453 - [INFO]:  progress: 15.549999999999999%, train epoch end\n",
      "2021-09-17 15:58:03,482 - [INFO]:  epoch 6 start\n"
     ]
    },
    {
     "name": "stdout",
     "output_type": "stream",
     "text": [
      "\n",
      "Epoch 00006: val_loss did not improve from 0.12191\n",
      "Epoch 7/40\n",
      "480/480 [==============================] - 113s 235ms/step - loss: 0.0410 - val_loss: 0.1009\n"
     ]
    },
    {
     "name": "stderr",
     "output_type": "stream",
     "text": [
      "2021-09-17 15:59:56,246 - [INFO]:  epoch 6 end: {'loss': 0.04099763184785843, 'val_loss': 0.10093841701745987, 'lr': 1e-04}\n",
      "2021-09-17 15:59:56,247 - [INFO]:  progress: 17.974999999999998%, train epoch end\n",
      "2021-09-17 15:59:56,395 - [INFO]:  epoch 7 start\n"
     ]
    },
    {
     "name": "stdout",
     "output_type": "stream",
     "text": [
      "\n",
      "Epoch 00007: val_loss improved from 0.12191 to 0.10094, saving model to ../ubuntu/out/yolo_2021-09-17_15_47/m_best.h5\n",
      "save .h5 weights file to : ../ubuntu/out/yolo_2021-09-17_15_47/m_best.h5\n",
      "Epoch 8/40\n",
      "480/480 [==============================] - 113s 235ms/step - loss: 0.0272 - val_loss: 0.1026\n"
     ]
    },
    {
     "name": "stderr",
     "output_type": "stream",
     "text": [
      "2021-09-17 16:01:49,253 - [INFO]:  epoch 7 end: {'loss': 0.027163302525877953, 'val_loss': 0.10264451056718826, 'lr': 1e-04}\n",
      "2021-09-17 16:01:49,259 - [INFO]:  progress: 20.4%, train epoch end\n",
      "2021-09-17 16:01:49,295 - [INFO]:  epoch 8 start\n"
     ]
    },
    {
     "name": "stdout",
     "output_type": "stream",
     "text": [
      "\n",
      "Epoch 00008: val_loss did not improve from 0.10094\n",
      "Epoch 9/40\n",
      "480/480 [==============================] - 123s 257ms/step - loss: 0.0238 - val_loss: 0.1031\n"
     ]
    },
    {
     "name": "stderr",
     "output_type": "stream",
     "text": [
      "2021-09-17 16:03:52,590 - [INFO]:  epoch 8 end: {'loss': 0.023781603202223778, 'val_loss': 0.10306762158870697, 'lr': 1e-04}\n",
      "2021-09-17 16:03:52,592 - [INFO]:  progress: 22.825%, train epoch end\n",
      "2021-09-17 16:03:52,619 - [INFO]:  epoch 9 start\n"
     ]
    },
    {
     "name": "stdout",
     "output_type": "stream",
     "text": [
      "\n",
      "Epoch 00009: val_loss did not improve from 0.10094\n",
      "Epoch 10/40\n",
      "480/480 [==============================] - 118s 245ms/step - loss: 0.0201 - val_loss: 0.1042\n"
     ]
    },
    {
     "name": "stderr",
     "output_type": "stream",
     "text": [
      "2021-09-17 16:05:50,403 - [INFO]:  epoch 9 end: {'loss': 0.020122434943914413, 'val_loss': 0.1041773334145546, 'lr': 1e-04}\n",
      "2021-09-17 16:05:50,404 - [INFO]:  progress: 25.25%, train epoch end\n",
      "2021-09-17 16:05:50,437 - [INFO]:  epoch 10 start\n"
     ]
    },
    {
     "name": "stdout",
     "output_type": "stream",
     "text": [
      "\n",
      "Epoch 00010: val_loss did not improve from 0.10094\n",
      "Epoch 11/40\n",
      "480/480 [==============================] - 122s 255ms/step - loss: 0.0208 - val_loss: 0.0991\n"
     ]
    },
    {
     "name": "stderr",
     "output_type": "stream",
     "text": [
      "2021-09-17 16:07:52,725 - [INFO]:  epoch 10 end: {'loss': 0.020829355344176292, 'val_loss': 0.09913567453622818, 'lr': 1e-04}\n",
      "2021-09-17 16:07:52,726 - [INFO]:  progress: 27.675000000000004%, train epoch end\n",
      "2021-09-17 16:07:52,863 - [INFO]:  epoch 11 start\n"
     ]
    },
    {
     "name": "stdout",
     "output_type": "stream",
     "text": [
      "\n",
      "Epoch 00011: val_loss improved from 0.10094 to 0.09914, saving model to ../ubuntu/out/yolo_2021-09-17_15_47/m_best.h5\n",
      "save .h5 weights file to : ../ubuntu/out/yolo_2021-09-17_15_47/m_best.h5\n",
      "Epoch 12/40\n",
      "480/480 [==============================] - 112s 233ms/step - loss: 0.0205 - val_loss: 0.0928\n"
     ]
    },
    {
     "name": "stderr",
     "output_type": "stream",
     "text": [
      "2021-09-17 16:09:45,033 - [INFO]:  epoch 11 end: {'loss': 0.020537175238132477, 'val_loss': 0.09282377362251282, 'lr': 1e-04}\n",
      "2021-09-17 16:09:45,034 - [INFO]:  progress: 30.099999999999998%, train epoch end\n",
      "2021-09-17 16:09:45,166 - [INFO]:  epoch 12 start\n"
     ]
    },
    {
     "name": "stdout",
     "output_type": "stream",
     "text": [
      "\n",
      "Epoch 00012: val_loss improved from 0.09914 to 0.09282, saving model to ../ubuntu/out/yolo_2021-09-17_15_47/m_best.h5\n",
      "save .h5 weights file to : ../ubuntu/out/yolo_2021-09-17_15_47/m_best.h5\n",
      "Epoch 13/40\n",
      "480/480 [==============================] - 116s 242ms/step - loss: 0.0187 - val_loss: 0.0992\n"
     ]
    },
    {
     "name": "stderr",
     "output_type": "stream",
     "text": [
      "2021-09-17 16:11:41,192 - [INFO]:  epoch 12 end: {'loss': 0.018744736909866333, 'val_loss': 0.09923208504915237, 'lr': 1e-04}\n",
      "2021-09-17 16:11:41,193 - [INFO]:  progress: 32.525%, train epoch end\n",
      "2021-09-17 16:11:41,237 - [INFO]:  epoch 13 start\n"
     ]
    },
    {
     "name": "stdout",
     "output_type": "stream",
     "text": [
      "\n",
      "Epoch 00013: val_loss did not improve from 0.09282\n",
      "Epoch 14/40\n",
      "480/480 [==============================] - 118s 246ms/step - loss: 0.0127 - val_loss: 0.0983\n"
     ]
    },
    {
     "name": "stderr",
     "output_type": "stream",
     "text": [
      "2021-09-17 16:13:39,253 - [INFO]:  epoch 13 end: {'loss': 0.012675979174673557, 'val_loss': 0.09825589507818222, 'lr': 1e-04}\n",
      "2021-09-17 16:13:39,254 - [INFO]:  progress: 34.949999999999996%, train epoch end\n",
      "2021-09-17 16:13:39,293 - [INFO]:  epoch 14 start\n"
     ]
    },
    {
     "name": "stdout",
     "output_type": "stream",
     "text": [
      "\n",
      "Epoch 00014: val_loss did not improve from 0.09282\n",
      "Epoch 15/40\n",
      "480/480 [==============================] - 118s 246ms/step - loss: 0.0114 - val_loss: 0.1009\n"
     ]
    },
    {
     "name": "stderr",
     "output_type": "stream",
     "text": [
      "2021-09-17 16:15:37,658 - [INFO]:  epoch 14 end: {'loss': 0.011356472037732601, 'val_loss': 0.1008552610874176, 'lr': 1e-04}\n",
      "2021-09-17 16:15:37,662 - [INFO]:  progress: 37.375%, train epoch end\n",
      "2021-09-17 16:15:37,705 - [INFO]:  epoch 15 start\n"
     ]
    },
    {
     "name": "stdout",
     "output_type": "stream",
     "text": [
      "\n",
      "Epoch 00015: val_loss did not improve from 0.09282\n",
      "Epoch 16/40\n",
      "480/480 [==============================] - 127s 263ms/step - loss: 0.0174 - val_loss: 0.1256\n"
     ]
    },
    {
     "name": "stderr",
     "output_type": "stream",
     "text": [
      "2021-09-17 16:17:44,249 - [INFO]:  epoch 15 end: {'loss': 0.017369316890835762, 'val_loss': 0.12560969591140747, 'lr': 1e-04}\n",
      "2021-09-17 16:17:44,250 - [INFO]:  progress: 39.8%, train epoch end\n",
      "2021-09-17 16:17:44,287 - [INFO]:  epoch 16 start\n"
     ]
    },
    {
     "name": "stdout",
     "output_type": "stream",
     "text": [
      "\n",
      "Epoch 00016: val_loss did not improve from 0.09282\n",
      "Epoch 17/40\n",
      "480/480 [==============================] - 123s 256ms/step - loss: 0.0314 - val_loss: 0.0996\n"
     ]
    },
    {
     "name": "stderr",
     "output_type": "stream",
     "text": [
      "2021-09-17 16:19:47,119 - [INFO]:  epoch 16 end: {'loss': 0.03140539675951004, 'val_loss': 0.09959281235933304, 'lr': 1e-04}\n",
      "2021-09-17 16:19:47,120 - [INFO]:  progress: 42.225%, train epoch end\n",
      "2021-09-17 16:19:47,150 - [INFO]:  epoch 17 start\n"
     ]
    },
    {
     "name": "stdout",
     "output_type": "stream",
     "text": [
      "\n",
      "Epoch 00017: ReduceLROnPlateau reducing learning rate to 1.9999999494757503e-05.\n",
      "\n",
      "Epoch 00017: val_loss did not improve from 0.09282\n",
      "Epoch 18/40\n",
      "480/480 [==============================] - 116s 241ms/step - loss: 0.0077 - val_loss: 0.0960\n"
     ]
    },
    {
     "name": "stderr",
     "output_type": "stream",
     "text": [
      "2021-09-17 16:21:42,986 - [INFO]:  epoch 17 end: {'loss': 0.007708106655627489, 'val_loss': 0.09600970894098282, 'lr': 2e-05}\n",
      "2021-09-17 16:21:42,987 - [INFO]:  progress: 44.65%, train epoch end\n",
      "2021-09-17 16:21:43,014 - [INFO]:  epoch 18 start\n"
     ]
    },
    {
     "name": "stdout",
     "output_type": "stream",
     "text": [
      "\n",
      "Epoch 00018: val_loss did not improve from 0.09282\n",
      "Epoch 19/40\n",
      "480/480 [==============================] - 113s 235ms/step - loss: 0.0055 - val_loss: 0.0957\n"
     ]
    },
    {
     "name": "stderr",
     "output_type": "stream",
     "text": [
      "2021-09-17 16:23:35,894 - [INFO]:  epoch 18 end: {'loss': 0.005505315028131008, 'val_loss': 0.09573257714509964, 'lr': 2e-05}\n",
      "2021-09-17 16:23:35,895 - [INFO]:  progress: 47.074999999999996%, train epoch end\n",
      "2021-09-17 16:23:35,919 - [INFO]:  epoch 19 start\n"
     ]
    },
    {
     "name": "stdout",
     "output_type": "stream",
     "text": [
      "\n",
      "Epoch 00019: val_loss did not improve from 0.09282\n",
      "Epoch 20/40\n",
      "480/480 [==============================] - 117s 245ms/step - loss: 0.0040 - val_loss: 0.0943\n"
     ]
    },
    {
     "name": "stderr",
     "output_type": "stream",
     "text": [
      "2021-09-17 16:25:33,396 - [INFO]:  epoch 19 end: {'loss': 0.003972909413278103, 'val_loss': 0.09427238255739212, 'lr': 2e-05}\n",
      "2021-09-17 16:25:33,398 - [INFO]:  progress: 49.5%, train epoch end\n",
      "2021-09-17 16:25:33,425 - [INFO]:  epoch 20 start\n"
     ]
    },
    {
     "name": "stdout",
     "output_type": "stream",
     "text": [
      "\n",
      "Epoch 00020: val_loss did not improve from 0.09282\n",
      "Epoch 21/40\n",
      "480/480 [==============================] - 116s 242ms/step - loss: 0.0038 - val_loss: 0.0949\n"
     ]
    },
    {
     "name": "stderr",
     "output_type": "stream",
     "text": [
      "2021-09-17 16:27:29,847 - [INFO]:  epoch 20 end: {'loss': 0.003824006300419569, 'val_loss': 0.09490058571100235, 'lr': 2e-05}\n",
      "2021-09-17 16:27:29,848 - [INFO]:  progress: 51.925%, train epoch end\n",
      "2021-09-17 16:27:29,877 - [INFO]:  epoch 21 start\n"
     ]
    },
    {
     "name": "stdout",
     "output_type": "stream",
     "text": [
      "\n",
      "Epoch 00021: val_loss did not improve from 0.09282\n",
      "Epoch 22/40\n",
      "480/480 [==============================] - 118s 245ms/step - loss: 0.0033 - val_loss: 0.0946\n"
     ]
    },
    {
     "name": "stderr",
     "output_type": "stream",
     "text": [
      "2021-09-17 16:29:27,664 - [INFO]:  epoch 21 end: {'loss': 0.0032795353326946497, 'val_loss': 0.0945684090256691, 'lr': 2e-05}\n",
      "2021-09-17 16:29:27,665 - [INFO]:  progress: 54.35000000000001%, train epoch end\n",
      "2021-09-17 16:29:27,710 - [INFO]:  epoch 22 start\n"
     ]
    },
    {
     "name": "stdout",
     "output_type": "stream",
     "text": [
      "\n",
      "Epoch 00022: ReduceLROnPlateau reducing learning rate to 1e-05.\n",
      "\n",
      "Epoch 00022: val_loss did not improve from 0.09282\n",
      "Epoch 23/40\n",
      "480/480 [==============================] - 117s 244ms/step - loss: 0.0036 - val_loss: 0.0938\n"
     ]
    },
    {
     "name": "stderr",
     "output_type": "stream",
     "text": [
      "2021-09-17 16:31:25,047 - [INFO]:  epoch 22 end: {'loss': 0.0035680579021573067, 'val_loss': 0.09384212642908096, 'lr': 1e-05}\n",
      "2021-09-17 16:31:25,049 - [INFO]:  progress: 56.77499999999999%, train epoch end\n",
      "2021-09-17 16:31:25,092 - [INFO]:  epoch 23 start\n"
     ]
    },
    {
     "name": "stdout",
     "output_type": "stream",
     "text": [
      "\n",
      "Epoch 00023: val_loss did not improve from 0.09282\n",
      "Epoch 24/40\n",
      "480/480 [==============================] - 115s 239ms/step - loss: 0.0030 - val_loss: 0.0959\n"
     ]
    },
    {
     "name": "stderr",
     "output_type": "stream",
     "text": [
      "2021-09-17 16:33:19,943 - [INFO]:  epoch 23 end: {'loss': 0.0030128001235425472, 'val_loss': 0.09587887674570084, 'lr': 1e-05}\n",
      "2021-09-17 16:33:19,955 - [INFO]:  progress: 59.199999999999996%, train epoch end\n",
      "2021-09-17 16:33:19,979 - [INFO]:  epoch 24 start\n"
     ]
    },
    {
     "name": "stdout",
     "output_type": "stream",
     "text": [
      "\n",
      "Epoch 00024: val_loss did not improve from 0.09282\n",
      "Epoch 25/40\n",
      "480/480 [==============================] - 113s 235ms/step - loss: 0.0027 - val_loss: 0.0996\n"
     ]
    },
    {
     "name": "stderr",
     "output_type": "stream",
     "text": [
      "2021-09-17 16:35:12,915 - [INFO]:  epoch 24 end: {'loss': 0.0026526818983256817, 'val_loss': 0.09957070648670197, 'lr': 1e-05}\n",
      "2021-09-17 16:35:12,918 - [INFO]:  progress: 61.625%, train epoch end\n",
      "2021-09-17 16:35:12,949 - [INFO]:  epoch 25 start\n"
     ]
    },
    {
     "name": "stdout",
     "output_type": "stream",
     "text": [
      "\n",
      "Epoch 00025: val_loss did not improve from 0.09282\n",
      "Epoch 26/40\n",
      "480/480 [==============================] - 113s 234ms/step - loss: 0.0026 - val_loss: 0.0976\n"
     ]
    },
    {
     "name": "stderr",
     "output_type": "stream",
     "text": [
      "2021-09-17 16:37:05,551 - [INFO]:  epoch 25 end: {'loss': 0.0025691501796245575, 'val_loss': 0.09764222800731659, 'lr': 1e-05}\n",
      "2021-09-17 16:37:05,551 - [INFO]:  progress: 64.05%, train epoch end\n",
      "2021-09-17 16:37:05,575 - [INFO]:  epoch 26 start\n"
     ]
    },
    {
     "name": "stdout",
     "output_type": "stream",
     "text": [
      "\n",
      "Epoch 00026: val_loss did not improve from 0.09282\n",
      "Epoch 27/40\n",
      "480/480 [==============================] - 115s 239ms/step - loss: 0.0024 - val_loss: 0.0982\n"
     ]
    },
    {
     "name": "stderr",
     "output_type": "stream",
     "text": [
      "2021-09-17 16:39:00,460 - [INFO]:  epoch 26 end: {'loss': 0.002402511890977621, 'val_loss': 0.09818782657384872, 'lr': 1e-05}\n",
      "2021-09-17 16:39:00,462 - [INFO]:  progress: 66.475%, train epoch end\n",
      "2021-09-17 16:39:00,499 - [INFO]:  epoch 27 start\n"
     ]
    },
    {
     "name": "stdout",
     "output_type": "stream",
     "text": [
      "\n",
      "Epoch 00027: val_loss did not improve from 0.09282\n",
      "Epoch 28/40\n",
      "480/480 [==============================] - 115s 239ms/step - loss: 0.0024 - val_loss: 0.0988\n"
     ]
    },
    {
     "name": "stderr",
     "output_type": "stream",
     "text": [
      "2021-09-17 16:40:55,443 - [INFO]:  epoch 27 end: {'loss': 0.002372143091633916, 'val_loss': 0.09880910813808441, 'lr': 1e-05}\n",
      "2021-09-17 16:40:55,444 - [INFO]:  progress: 68.89999999999999%, train epoch end\n",
      "2021-09-17 16:40:55,471 - [INFO]:  epoch 28 start\n"
     ]
    },
    {
     "name": "stdout",
     "output_type": "stream",
     "text": [
      "\n",
      "Epoch 00028: val_loss did not improve from 0.09282\n",
      "Epoch 29/40\n",
      "480/480 [==============================] - 112s 234ms/step - loss: 0.0021 - val_loss: 0.0984\n"
     ]
    },
    {
     "name": "stderr",
     "output_type": "stream",
     "text": [
      "2021-09-17 16:42:47,950 - [INFO]:  epoch 28 end: {'loss': 0.0021145485807210207, 'val_loss': 0.09843628853559494, 'lr': 1e-05}\n",
      "2021-09-17 16:42:47,953 - [INFO]:  progress: 71.325%, train epoch end\n",
      "2021-09-17 16:42:47,984 - [INFO]:  epoch 29 start\n"
     ]
    },
    {
     "name": "stdout",
     "output_type": "stream",
     "text": [
      "\n",
      "Epoch 00029: val_loss did not improve from 0.09282\n",
      "Epoch 30/40\n",
      "480/480 [==============================] - 113s 235ms/step - loss: 0.0020 - val_loss: 0.1010\n"
     ]
    },
    {
     "name": "stderr",
     "output_type": "stream",
     "text": [
      "2021-09-17 16:44:41,080 - [INFO]:  epoch 29 end: {'loss': 0.002044329419732094, 'val_loss': 0.10095225274562836, 'lr': 1e-05}\n",
      "2021-09-17 16:44:41,082 - [INFO]:  progress: 73.75%, train epoch end\n",
      "2021-09-17 16:44:41,114 - [INFO]:  epoch 30 start\n"
     ]
    },
    {
     "name": "stdout",
     "output_type": "stream",
     "text": [
      "\n",
      "Epoch 00030: val_loss did not improve from 0.09282\n",
      "Epoch 31/40\n",
      "480/480 [==============================] - 113s 236ms/step - loss: 0.0019 - val_loss: 0.0993\n"
     ]
    },
    {
     "name": "stderr",
     "output_type": "stream",
     "text": [
      "2021-09-17 16:46:34,284 - [INFO]:  epoch 30 end: {'loss': 0.001899676863104105, 'val_loss': 0.09928297251462936, 'lr': 1e-05}\n",
      "2021-09-17 16:46:34,285 - [INFO]:  progress: 76.175%, train epoch end\n",
      "2021-09-17 16:46:34,309 - [INFO]:  epoch 31 start\n"
     ]
    },
    {
     "name": "stdout",
     "output_type": "stream",
     "text": [
      "\n",
      "Epoch 00031: val_loss did not improve from 0.09282\n",
      "Epoch 32/40\n",
      "480/480 [==============================] - 114s 237ms/step - loss: 0.0018 - val_loss: 0.0982\n"
     ]
    },
    {
     "name": "stderr",
     "output_type": "stream",
     "text": [
      "2021-09-17 16:48:27,998 - [INFO]:  epoch 31 end: {'loss': 0.001828754786401987, 'val_loss': 0.0981704369187355, 'lr': 1e-05}\n",
      "2021-09-17 16:48:27,999 - [INFO]:  progress: 78.6%, train epoch end\n",
      "2021-09-17 16:48:28,000 - [INFO]:  train end\n",
      "2021-09-17 16:48:28,001 - [INFO]:  progress: 98.0%, train end\n"
     ]
    },
    {
     "name": "stdout",
     "output_type": "stream",
     "text": [
      "Restoring model weights from the end of the best epoch.\n",
      "\n",
      "Epoch 00032: val_loss did not improve from 0.09282\n",
      "Epoch 00032: early stopping\n",
      "61-mins to train\n",
      "save .h5 weights file to : ../ubuntu/out/yolo_2021-09-17_15_47/m.h5\n",
      "save tfilte to : ../ubuntu/out/yolo_2021-09-17_15_47/m.tflite\n",
      "WARNING:tensorflow:From /opt/anaconda3/envs/k210v37/lib/python3.7/site-packages/keras/layers/normalization/batch_normalization.py:520: _colocate_with (from tensorflow.python.framework.ops) is deprecated and will be removed in a future version.\n",
      "Instructions for updating:\n",
      "Colocations handled automatically by placer.\n",
      "WARNING:tensorflow:No training configuration found in the save file, so the model was *not* compiled. Compile it manually.\n",
      "WARNING:tensorflow:From /opt/anaconda3/envs/k210v37/lib/python3.7/site-packages/tensorflow/lite/python/util.py:300: convert_variables_to_constants (from tensorflow.python.framework.graph_util_impl) is deprecated and will be removed in a future version.\n",
      "Instructions for updating:\n",
      "Use `tf.compat.v1.graph_util.convert_variables_to_constants`\n",
      "WARNING:tensorflow:From /opt/anaconda3/envs/k210v37/lib/python3.7/site-packages/tensorflow/python/framework/convert_to_constants.py:927: extract_sub_graph (from tensorflow.python.framework.graph_util_impl) is deprecated and will be removed in a future version.\n",
      "Instructions for updating:\n",
      "Use `tf.compat.v1.graph_util.extract_sub_graph`\n"
     ]
    },
    {
     "name": "stderr",
     "output_type": "stream",
     "text": [
      "2021-09-17 16:48:31.528800: I tensorflow/core/grappler/devices.cc:75] Number of eligible GPUs (core count >= 8, compute capability >= 0.0): 0 (Note: TensorFlow was not compiled with CUDA or ROCm support)\n",
      "2021-09-17 16:48:31.528857: I tensorflow/core/grappler/clusters/single_machine.cc:357] Starting new session\n",
      "2021-09-17 16:48:31.876098: I tensorflow/core/grappler/optimizers/meta_optimizer.cc:1137] Optimization results for grappler item: graph_to_optimize\n",
      "  function_optimizer: Graph size after: 3112 nodes (0), 3979 edges (0), time = 75.224ms.\n",
      "  function_optimizer: Graph size after: 3112 nodes (0), 3979 edges (0), time = 75.218ms.\n",
      "Optimization results for grappler item: conv_dw_8_bn_cond_false_32647\n",
      "  function_optimizer: function_optimizer did nothing. time = 0.007ms.\n",
      "  function_optimizer: function_optimizer did nothing. time = 0.001ms.\n",
      "Optimization results for grappler item: mobilenet_0.75_224_conv_dw_10_bn_cond_false_35794\n",
      "  function_optimizer: function_optimizer did nothing. time = 0.001ms.\n",
      "  function_optimizer: function_optimizer did nothing. time = 0ms.\n",
      "Optimization results for grappler item: conv_dw_2_bn_cond_false_31227\n",
      "  function_optimizer: function_optimizer did nothing. time = 0.002ms.\n",
      "  function_optimizer: function_optimizer did nothing. time = 0ms.\n",
      "Optimization results for grappler item: conv_pw_2_bn_cond_false_31344\n",
      "  function_optimizer: function_optimizer did nothing. time = 0.001ms.\n",
      "  function_optimizer: function_optimizer did nothing. time = 0ms.\n",
      "Optimization results for grappler item: conv_pw_6_bn_cond_true_32291\n",
      "  function_optimizer: function_optimizer did nothing. time = 0.001ms.\n",
      "  function_optimizer: function_optimizer did nothing. time = 0.001ms.\n",
      "Optimization results for grappler item: mobilenet_0.75_224_conv_pw_6_bn_cond_false_35149\n",
      "  function_optimizer: function_optimizer did nothing. time = 0.001ms.\n",
      "  function_optimizer: function_optimizer did nothing. time = 0.001ms.\n",
      "Optimization results for grappler item: mobilenet_0.75_224_conv_dw_5_bn_cond_false_34872\n",
      "  function_optimizer: function_optimizer did nothing. time = 0.002ms.\n",
      "  function_optimizer: function_optimizer did nothing. time = 0ms.\n",
      "Optimization results for grappler item: conv_pw_11_bn_cond_true_33471\n",
      "  function_optimizer: function_optimizer did nothing. time = 0.001ms.\n",
      "  function_optimizer: function_optimizer did nothing. time = 0.001ms.\n",
      "Optimization results for grappler item: mobilenet_0.75_224_conv_dw_5_bn_cond_true_34871\n",
      "  function_optimizer: function_optimizer did nothing. time = 0.002ms.\n",
      "  function_optimizer: function_optimizer did nothing. time = 0.001ms.\n",
      "Optimization results for grappler item: mobilenet_0.75_224_conv_dw_8_bn_cond_false_35426\n",
      "  function_optimizer: function_optimizer did nothing. time = 0.001ms.\n",
      "  function_optimizer: function_optimizer did nothing. time = 0ms.\n",
      "Optimization results for grappler item: mobilenet_0.75_224_conv_dw_13_bn_cond_true_36347\n",
      "  function_optimizer: function_optimizer did nothing. time = 0.002ms.\n",
      "  function_optimizer: function_optimizer did nothing. time = 0ms.\n",
      "Optimization results for grappler item: mobilenet_0.75_224_conv_pw_2_bn_cond_false_34409\n",
      "  function_optimizer: function_optimizer did nothing. time = 0.002ms.\n",
      "  function_optimizer: function_optimizer did nothing. time = 0ms.\n",
      "Optimization results for grappler item: mobilenet_0.75_224_conv_pw_9_bn_cond_false_35701\n",
      "  function_optimizer: function_optimizer did nothing. time = 0.001ms.\n",
      "  function_optimizer: function_optimizer did nothing. time = 0.001ms.\n",
      "Optimization results for grappler item: conv_dw_7_bn_cond_false_32411\n",
      "  function_optimizer: function_optimizer did nothing. time = 0.002ms.\n",
      "  function_optimizer: function_optimizer did nothing. time = 0.001ms.\n",
      "Optimization results for grappler item: mobilenet_0.75_224_conv_dw_2_bn_cond_true_34317\n",
      "  function_optimizer: function_optimizer did nothing. time = 0.002ms.\n",
      "  function_optimizer: function_optimizer did nothing. time = 0ms.\n",
      "Optimization results for grappler item: conv_dw_8_bn_cond_true_32646\n",
      "  function_optimizer: function_optimizer did nothing. time = 0.002ms.\n",
      "  function_optimizer: function_optimizer did nothing. time = 0.001ms.\n",
      "Optimization results for grappler item: conv_pw_6_bn_cond_false_32292\n",
      "  function_optimizer: function_optimizer did nothing. time = 0.001ms.\n",
      "  function_optimizer: function_optimizer did nothing. time = 0.001ms.\n",
      "Optimization results for grappler item: mobilenet_0.75_224_conv_pw_12_bn_cond_true_36254\n",
      "  function_optimizer: function_optimizer did nothing. time = 0.001ms.\n",
      "  function_optimizer: function_optimizer did nothing. time = 0.001ms.\n",
      "Optimization results for grappler item: mobilenet_0.75_224_conv1_bn_cond_false_34039\n",
      "  function_optimizer: function_optimizer did nothing. time = 0.002ms.\n",
      "  function_optimizer: function_optimizer did nothing. time = 0ms.\n",
      "Optimization results for grappler item: conv_pw_10_bn_cond_true_33235\n",
      "  function_optimizer: function_optimizer did nothing. time = 0.002ms.\n",
      "  function_optimizer: function_optimizer did nothing. time = 0.001ms.\n",
      "Optimization results for grappler item: mobilenet_0.75_224_conv_dw_11_bn_cond_false_35978\n",
      "  function_optimizer: function_optimizer did nothing. time = 0.001ms.\n",
      "  function_optimizer: function_optimizer did nothing. time = 0.001ms.\n",
      "Optimization results for grappler item: conv_pw_9_bn_cond_true_32999\n",
      "  function_optimizer: function_optimizer did nothing. time = 0.002ms.\n",
      "  function_optimizer: function_optimizer did nothing. time = 0ms.\n",
      "Optimization results for grappler item: conv_dw_10_bn_cond_true_33118\n",
      "  function_optimizer: function_optimizer did nothing. time = 0.001ms.\n",
      "  function_optimizer: function_optimizer did nothing. time = 0ms.\n",
      "Optimization results for grappler item: mobilenet_0.75_224_conv_pw_7_bn_cond_false_35333\n",
      "  function_optimizer: function_optimizer did nothing. time = 0.001ms.\n",
      "  function_optimizer: function_optimizer did nothing. time = 0.001ms.\n",
      "Optimization results for grappler item: conv_pw_3_bn_cond_true_31579\n",
      "  function_optimizer: function_optimizer did nothing. time = 0.002ms.\n",
      "  function_optimizer: function_optimizer did nothing. time = 0ms.\n",
      "Optimization results for grappler item: mobilenet_0.75_224_conv_pw_4_bn_cond_false_34779\n",
      "  function_optimizer: function_optimizer did nothing. time = 0.001ms.\n",
      "  function_optimizer: function_optimizer did nothing. time = 0.001ms.\n",
      "Optimization results for grappler item: conv_pw_12_bn_cond_true_33709\n",
      "  function_optimizer: function_optimizer did nothing. time = 0.001ms.\n",
      "  function_optimizer: function_optimizer did nothing. time = 0.001ms.\n",
      "Optimization results for grappler item: conv_dw_10_bn_cond_false_33119\n",
      "  function_optimizer: function_optimizer did nothing. time = 0.001ms.\n",
      "  function_optimizer: function_optimizer did nothing. time = 0.001ms.\n",
      "Optimization results for grappler item: conv_pw_3_bn_cond_false_31580\n",
      "  function_optimizer: function_optimizer did nothing. time = 0.002ms.\n",
      "  function_optimizer: function_optimizer did nothing. time = 0.001ms.\n",
      "Optimization results for grappler item: mobilenet_0.75_224_conv_dw_2_bn_cond_false_34318\n",
      "  function_optimizer: function_optimizer did nothing. time = 0.002ms.\n",
      "  function_optimizer: function_optimizer did nothing. time = 0ms.\n",
      "Optimization results for grappler item: mobilenet_0.75_224_conv_pw_4_bn_cond_true_34778\n",
      "  function_optimizer: function_optimizer did nothing. time = 0.002ms.\n",
      "  function_optimizer: function_optimizer did nothing. time = 0ms.\n",
      "Optimization results for grappler item: conv_pw_7_bn_cond_true_32527\n",
      "  function_optimizer: function_optimizer did nothing. time = 0.001ms.\n",
      "  function_optimizer: function_optimizer did nothing. time = 0.001ms.\n",
      "Optimization results for grappler item: conv_pw_12_bn_cond_false_33710\n",
      "  function_optimizer: function_optimizer did nothing. time = 0.001ms.\n",
      "  function_optimizer: function_optimizer did nothing. time = 0ms.\n",
      "Optimization results for grappler item: mobilenet_0.75_224_conv_dw_10_bn_cond_true_35793\n",
      "  function_optimizer: function_optimizer did nothing. time = 0.001ms.\n",
      "  function_optimizer: function_optimizer did nothing. time = 0ms.\n",
      "Optimization results for grappler item: mobilenet_0.75_224_conv_pw_2_bn_cond_true_34408\n",
      "  function_optimizer: function_optimizer did nothing. time = 0.001ms.\n",
      "  function_optimizer: function_optimizer did nothing. time = 0ms.\n",
      "Optimization results for grappler item: conv_pw_13_bn_cond_false_33946\n",
      "  function_optimizer: function_optimizer did nothing. time = 0.002ms.\n",
      "  function_optimizer: function_optimizer did nothing. time = 0ms.\n",
      "Optimization results for grappler item: mobilenet_0.75_224_conv_dw_4_bn_cond_false_34688\n",
      "  function_optimizer: function_optimizer did nothing. time = 0.001ms.\n",
      "  function_optimizer: function_optimizer did nothing. time = 0.001ms.\n",
      "Optimization results for grappler item: mobilenet_0.75_224_conv_dw_6_bn_cond_false_35058\n",
      "  function_optimizer: function_optimizer did nothing. time = 0.002ms.\n",
      "  function_optimizer: function_optimizer did nothing. time = 0.001ms.\n",
      "Optimization results for grappler item: mobilenet_0.75_224_conv_dw_9_bn_cond_false_35610\n",
      "  function_optimizer: function_optimizer did nothing. time = 0.001ms.\n",
      "  function_optimizer: function_optimizer did nothing. time = 0ms.\n",
      "Optimization results for grappler item: conv_dw_4_bn_cond_true_31700\n",
      "  function_optimizer: function_optimizer did nothing. time = 0.001ms.\n",
      "  function_optimizer: function_optimizer did nothing. time = 0ms.\n",
      "Optimization results for grappler item: conv_dw_6_bn_cond_true_32174\n",
      "  function_optimizer: function_optimizer did nothing. time = 0.001ms.\n",
      "  function_optimizer: function_optimizer did nothing. time = 0.001ms.\n",
      "Optimization results for grappler item: conv_dw_5_bn_cond_true_31936\n",
      "  function_optimizer: function_optimizer did nothing. time = 0.001ms.\n",
      "  function_optimizer: function_optimizer did nothing. time = 0.001ms.\n",
      "Optimization results for grappler item: mobilenet_0.75_224_conv_pw_12_bn_cond_false_36255\n",
      "  function_optimizer: function_optimizer did nothing. time = 0.001ms.\n",
      "  function_optimizer: function_optimizer did nothing. time = 0ms.\n",
      "Optimization results for grappler item: mobilenet_0.75_224_conv_dw_6_bn_cond_true_35057\n",
      "  function_optimizer: function_optimizer did nothing. time = 0.001ms.\n",
      "  function_optimizer: function_optimizer did nothing. time = 0.001ms.\n",
      "Optimization results for grappler item: conv_dw_3_bn_cond_true_31462\n",
      "  function_optimizer: function_optimizer did nothing. time = 0.002ms.\n",
      "  function_optimizer: function_optimizer did nothing. time = 0ms.\n",
      "Optimization results for grappler item: mobilenet_0.75_224_conv_dw_1_bn_cond_true_34131\n",
      "  function_optimizer: function_optimizer did nothing. time = 0.001ms.\n",
      "  function_optimizer: function_optimizer did nothing. time = 0.001ms.\n",
      "Optimization results for grappler item: conv_dw_1_bn_cond_true_30988\n",
      "  function_optimizer: function_optimizer did nothing. time = 0.002ms.\n",
      "  function_optimizer: function_optimizer did nothing. time = 0ms.\n",
      "Optimization results for grappler item: mobilenet_0.75_224_conv1_bn_cond_true_34038\n",
      "  function_optimizer: function_optimizer did nothing. time = 0.001ms.\n",
      "  function_optimizer: function_optimizer did nothing. time = 0ms.\n",
      "Optimization results for grappler item: conv1_bn_cond_false_30870\n",
      "  function_optimizer: function_optimizer did nothing. time = 0.001ms.\n",
      "  function_optimizer: function_optimizer did nothing. time = 0ms.\n",
      "Optimization results for grappler item: conv_dw_12_bn_cond_false_33593\n",
      "  function_optimizer: function_optimizer did nothing. time = 0.002ms.\n",
      "  function_optimizer: function_optimizer did nothing. time = 0ms.\n",
      "Optimization results for grappler item: mobilenet_0.75_224_conv_dw_12_bn_cond_true_36163\n",
      "  function_optimizer: function_optimizer did nothing. time = 0.001ms.\n",
      "  function_optimizer: function_optimizer did nothing. time = 0.001ms.\n",
      "Optimization results for grappler item: conv_pw_7_bn_cond_false_32528\n",
      "  function_optimizer: function_optimizer did nothing. time = 0.001ms.\n",
      "  function_optimizer: function_optimizer did nothing. time = 0.001ms.\n",
      "Optimization results for grappler item: conv_dw_12_bn_cond_true_33592\n",
      "  function_optimizer: function_optimizer did nothing. time = 0.001ms.\n",
      "  function_optimizer: function_optimizer did nothing. time = 0.001ms.\n",
      "Optimization results for grappler item: mobilenet_0.75_224_conv_dw_8_bn_cond_true_35425\n",
      "  function_optimizer: function_optimizer did nothing. time = 0.001ms.\n",
      "  function_optimizer: function_optimizer did nothing. time = 0ms.\n",
      "Optimization results for grappler item: mobilenet_0.75_224_conv_pw_8_bn_cond_true_35516\n",
      "  function_optimizer: function_optimizer did nothing. time = 0.002ms.\n",
      "  function_optimizer: function_optimizer did nothing. time = 0ms.\n",
      "Optimization results for grappler item: conv_dw_13_bn_cond_true_33828\n",
      "  function_optimizer: function_optimizer did nothing. time = 0.001ms.\n",
      "  function_optimizer: function_optimizer did nothing. time = 0.001ms.\n",
      "Optimization results for grappler item: conv_dw_1_bn_cond_false_30989\n",
      "  function_optimizer: function_optimizer did nothing. time = 0.001ms.\n",
      "  function_optimizer: function_optimizer did nothing. time = 0ms.\n",
      "Optimization results for grappler item: conv1_bn_cond_true_30869\n",
      "  function_optimizer: function_optimizer did nothing. time = 0.002ms.\n",
      "  function_optimizer: function_optimizer did nothing. time = 0ms.\n",
      "Optimization results for grappler item: mobilenet_0.75_224_conv_pw_13_bn_cond_false_36439\n",
      "  function_optimizer: function_optimizer did nothing. time = 0.002ms.\n",
      "  function_optimizer: function_optimizer did nothing. time = 0.001ms.\n",
      "Optimization results for grappler item: conv_pw_4_bn_cond_true_31817\n",
      "  function_optimizer: function_optimizer did nothing. time = 0.001ms.\n",
      "  function_optimizer: function_optimizer did nothing. time = 0ms.\n",
      "Optimization results for grappler item: mobilenet_0.75_224_conv_pw_3_bn_cond_true_34592\n",
      "  function_optimizer: function_optimizer did nothing. time = 0.002ms.\n",
      "  function_optimizer: function_optimizer did nothing. time = 0.001ms.\n",
      "Optimization results for grappler item: mobilenet_0.75_224_conv_dw_1_bn_cond_false_34132\n",
      "  function_optimizer: function_optimizer did nothing. time = 0.002ms.\n",
      "  function_optimizer: function_optimizer did nothing. time = 0ms.\n",
      "Optimization results for grappler item: mobilenet_0.75_224_conv_pw_9_bn_cond_true_35700\n",
      "  function_optimizer: function_optimizer did nothing. time = 0.001ms.\n",
      "  function_optimizer: function_optimizer did nothing. time = 0.001ms.\n",
      "Optimization results for grappler item: conv_dw_3_bn_cond_false_31463\n",
      "  function_optimizer: function_optimizer did nothing. time = 0.001ms.\n",
      "  function_optimizer: function_optimizer did nothing. time = 0.001ms.\n",
      "Optimization results for grappler item: conv_dw_9_bn_cond_false_32883\n",
      "  function_optimizer: function_optimizer did nothing. time = 0.001ms.\n",
      "  function_optimizer: function_optimizer did nothing. time = 0.001ms.\n",
      "Optimization results for grappler item: mobilenet_0.75_224_conv_pw_6_bn_cond_true_35148\n",
      "  function_optimizer: function_optimizer did nothing. time = 0.002ms.\n",
      "  function_optimizer: function_optimizer did nothing. time = 0ms.\n",
      "Optimization results for grappler item: conv_pw_4_bn_cond_false_31818\n",
      "  function_optimizer: function_optimizer did nothing. time = 0.001ms.\n",
      "  function_optimizer: function_optimizer did nothing. time = 0.001ms.\n",
      "Optimization results for grappler item: mobilenet_0.75_224_conv_pw_5_bn_cond_true_34962\n",
      "  function_optimizer: function_optimizer did nothing. time = 0.001ms.\n",
      "  function_optimizer: function_optimizer did nothing. time = 0ms.\n",
      "Optimization results for grappler item: mobilenet_0.75_224_conv_dw_7_bn_cond_false_35242\n",
      "  function_optimizer: function_optimizer did nothing. time = 0.001ms.\n",
      "  function_optimizer: function_optimizer did nothing. time = 0.001ms.\n",
      "Optimization results for grappler item: conv_pw_11_bn_cond_false_33472\n",
      "  function_optimizer: function_optimizer did nothing. time = 0.001ms.\n",
      "  function_optimizer: function_optimizer did nothing. time = 0.001ms.\n",
      "Optimization results for grappler item: mobilenet_0.75_224_conv_pw_11_bn_cond_true_36068\n",
      "  function_optimizer: function_optimizer did nothing. time = 0.001ms.\n",
      "  function_optimizer: function_optimizer did nothing. time = 0.001ms.\n",
      "Optimization results for grappler item: mobilenet_0.75_224_conv_pw_5_bn_cond_false_34963\n",
      "  function_optimizer: function_optimizer did nothing. time = 0.002ms.\n",
      "  function_optimizer: function_optimizer did nothing. time = 0ms.\n",
      "Optimization results for grappler item: conv_dw_9_bn_cond_true_32882\n",
      "  function_optimizer: function_optimizer did nothing. time = 0.002ms.\n",
      "  function_optimizer: function_optimizer did nothing. time = 0ms.\n",
      "Optimization results for grappler item: conv_pw_13_bn_cond_true_33945\n",
      "  function_optimizer: function_optimizer did nothing. time = 0.001ms.\n",
      "  function_optimizer: function_optimizer did nothing. time = 0ms.\n",
      "Optimization results for grappler item: conv_dw_11_bn_cond_true_33354\n",
      "  function_optimizer: function_optimizer did nothing. time = 0.001ms.\n",
      "  function_optimizer: function_optimizer did nothing. time = 0.001ms.\n",
      "Optimization results for grappler item: mobilenet_0.75_224_conv_pw_13_bn_cond_true_36438\n",
      "  function_optimizer: function_optimizer did nothing. time = 0.001ms.\n",
      "  function_optimizer: function_optimizer did nothing. time = 0.001ms.\n",
      "Optimization results for grappler item: conv_pw_2_bn_cond_true_31343\n",
      "  function_optimizer: function_optimizer did nothing. time = 0.002ms.\n",
      "  function_optimizer: function_optimizer did nothing. time = 0.001ms.\n",
      "Optimization results for grappler item: conv_dw_13_bn_cond_false_33829\n",
      "  function_optimizer: function_optimizer did nothing. time = 0.002ms.\n",
      "  function_optimizer: function_optimizer did nothing. time = 0ms.\n",
      "Optimization results for grappler item: mobilenet_0.75_224_conv_dw_13_bn_cond_false_36348\n",
      "  function_optimizer: function_optimizer did nothing. time = 0.001ms.\n",
      "  function_optimizer: function_optimizer did nothing. time = 0.001ms.\n",
      "Optimization results for grappler item: conv_pw_8_bn_cond_true_32763\n",
      "  function_optimizer: function_optimizer did nothing. time = 0.001ms.\n",
      "  function_optimizer: function_optimizer did nothing. time = 0ms.\n",
      "Optimization results for grappler item: mobilenet_0.75_224_conv_pw_1_bn_cond_false_34223\n",
      "  function_optimizer: function_optimizer did nothing. time = 0.001ms.\n",
      "  function_optimizer: function_optimizer did nothing. time = 0.001ms.\n",
      "Optimization results for grappler item: mobilenet_0.75_224_conv_dw_12_bn_cond_false_36164\n",
      "  function_optimizer: function_optimizer did nothing. time = 0.001ms.\n",
      "  function_optimizer: function_optimizer did nothing. time = 0.001ms.\n",
      "Optimization results for grappler item: conv_dw_7_bn_cond_true_32410\n",
      "  function_optimizer: function_optimizer did nothing. time = 0.001ms.\n",
      "  function_optimizer: function_optimizer did nothing. time = 0ms.\n",
      "Optimization results for grappler item: mobilenet_0.75_224_conv_pw_3_bn_cond_false_34593\n",
      "  function_optimizer: function_optimizer did nothing. time = 0.002ms.\n",
      "  function_optimizer: function_optimizer did nothing. time = 0ms.\n",
      "Optimization results for grappler item: conv_dw_6_bn_cond_false_32175\n",
      "  function_optimizer: function_optimizer did nothing. time = 0.002ms.\n",
      "  function_optimizer: function_optimizer did nothing. time = 0.001ms.\n",
      "Optimization results for grappler item: mobilenet_0.75_224_conv_pw_1_bn_cond_true_34222\n",
      "  function_optimizer: function_optimizer did nothing. time = 0.001ms.\n",
      "  function_optimizer: function_optimizer did nothing. time = 0.001ms.\n",
      "Optimization results for grappler item: mobilenet_0.75_224_conv_pw_7_bn_cond_true_35332\n",
      "  function_optimizer: function_optimizer did nothing. time = 0.001ms.\n",
      "  function_optimizer: function_optimizer did nothing. time = 0.001ms.\n",
      "Optimization results for grappler item: conv_pw_1_bn_cond_true_31105\n",
      "  function_optimizer: function_optimizer did nothing. time = 0.002ms.\n",
      "  function_optimizer: function_optimizer did nothing. time = 0ms.\n",
      "Optimization results for grappler item: mobilenet_0.75_224_conv_dw_4_bn_cond_true_34687\n",
      "  function_optimizer: function_optimizer did nothing. time = 0.002ms.\n",
      "  function_optimizer: function_optimizer did nothing. time = 0ms.\n",
      "Optimization results for grappler item: mobilenet_0.75_224_conv_pw_11_bn_cond_false_36069\n",
      "  function_optimizer: function_optimizer did nothing. time = 0.001ms.\n",
      "  function_optimizer: function_optimizer did nothing. time = 0.001ms.\n",
      "Optimization results for grappler item: mobilenet_0.75_224_conv_pw_8_bn_cond_false_35517\n",
      "  function_optimizer: function_optimizer did nothing. time = 0.002ms.\n",
      "  function_optimizer: function_optimizer did nothing. time = 0ms.\n",
      "Optimization results for grappler item: conv_dw_2_bn_cond_true_31226\n",
      "  function_optimizer: function_optimizer did nothing. time = 0.001ms.\n",
      "  function_optimizer: function_optimizer did nothing. time = 0ms.\n",
      "Optimization results for grappler item: conv_pw_5_bn_cond_true_32053\n",
      "  function_optimizer: function_optimizer did nothing. time = 0.002ms.\n",
      "  function_optimizer: function_optimizer did nothing. time = 0ms.\n",
      "Optimization results for grappler item: conv_pw_8_bn_cond_false_32764\n",
      "  function_optimizer: function_optimizer did nothing. time = 0.001ms.\n",
      "  function_optimizer: function_optimizer did nothing. time = 0.001ms.\n",
      "Optimization results for grappler item: conv_pw_1_bn_cond_false_31106\n",
      "  function_optimizer: function_optimizer did nothing. time = 0.001ms.\n",
      "  function_optimizer: function_optimizer did nothing. time = 0.001ms.\n",
      "Optimization results for grappler item: mobilenet_0.75_224_conv_dw_11_bn_cond_true_35977\n",
      "  function_optimizer: function_optimizer did nothing. time = 0.001ms.\n",
      "  function_optimizer: function_optimizer did nothing. time = 0ms.\n",
      "Optimization results for grappler item: conv_dw_11_bn_cond_false_33355\n",
      "  function_optimizer: function_optimizer did nothing. time = 0.002ms.\n",
      "  function_optimizer: function_optimizer did nothing. time = 0.001ms.\n",
      "Optimization results for grappler item: mobilenet_0.75_224_conv_pw_10_bn_cond_true_35884\n",
      "  function_optimizer: function_optimizer did nothing. time = 0.001ms.\n",
      "  function_optimizer: function_optimizer did nothing. time = 0.001ms.\n",
      "Optimization results for grappler item: mobilenet_0.75_224_conv_dw_9_bn_cond_true_35609\n",
      "  function_optimizer: function_optimizer did nothing. time = 0.001ms.\n",
      "  function_optimizer: function_optimizer did nothing. time = 0.001ms.\n",
      "Optimization results for grappler item: conv_pw_10_bn_cond_false_33236\n",
      "  function_optimizer: function_optimizer did nothing. time = 0.001ms.\n",
      "  function_optimizer: function_optimizer did nothing. time = 0ms.\n",
      "Optimization results for grappler item: mobilenet_0.75_224_conv_dw_3_bn_cond_false_34502\n",
      "  function_optimizer: function_optimizer did nothing. time = 0.001ms.\n",
      "  function_optimizer: function_optimizer did nothing. time = 0.001ms.\n",
      "Optimization results for grappler item: conv_dw_4_bn_cond_false_31701\n",
      "  function_optimizer: function_optimizer did nothing. time = 0.001ms.\n",
      "  function_optimizer: function_optimizer did nothing. time = 0.001ms.\n",
      "Optimization results for grappler item: mobilenet_0.75_224_conv_dw_3_bn_cond_true_34501\n",
      "  function_optimizer: function_optimizer did nothing. time = 0.001ms.\n",
      "  function_optimizer: function_optimizer did nothing. time = 0ms.\n",
      "Optimization results for grappler item: conv_dw_5_bn_cond_false_31937\n",
      "  function_optimizer: function_optimizer did nothing. time = 0.001ms.\n",
      "  function_optimizer: function_optimizer did nothing. time = 0ms.\n",
      "Optimization results for grappler item: mobilenet_0.75_224_conv_pw_10_bn_cond_false_35885\n",
      "  function_optimizer: function_optimizer did nothing. time = 0.001ms.\n",
      "  function_optimizer: function_optimizer did nothing. time = 0.001ms.\n",
      "Optimization results for grappler item: mobilenet_0.75_224_conv_dw_7_bn_cond_true_35241\n",
      "  function_optimizer: function_optimizer did nothing. time = 0.002ms.\n",
      "  function_optimizer: function_optimizer did nothing. time = 0ms.\n",
      "Optimization results for grappler item: conv_pw_9_bn_cond_false_33000\n",
      "  function_optimizer: function_optimizer did nothing. time = 0.001ms.\n",
      "  function_optimizer: function_optimizer did nothing. time = 0ms.\n",
      "Optimization results for grappler item: conv_pw_5_bn_cond_false_32054\n",
      "  function_optimizer: function_optimizer did nothing. time = 0.001ms.\n",
      "  function_optimizer: function_optimizer did nothing. time = 0ms.\n",
      "\n",
      "2021-09-17 16:48:38.760868: W tensorflow/python/util/util.cc:348] Sets are not currently considered sequences, but this may change in the future, so consider avoiding using them.\n"
     ]
    },
    {
     "name": "stdout",
     "output_type": "stream",
     "text": [
      "INFO:tensorflow:Assets written to: /var/folders/_l/dffcyljj723fg4wbqfxfqv640000gn/T/tmptbdvcts_/assets\n",
      "WARNING:tensorflow:From /opt/anaconda3/envs/k210v37/lib/python3.7/site-packages/tensorflow/lite/python/convert_saved_model.py:63: load (from tensorflow.python.saved_model.loader_impl) is deprecated and will be removed in a future version.\n",
      "Instructions for updating:\n",
      "This function will only be available through the v1 compatibility library as tf.compat.v1.saved_model.loader.load or tf.compat.v1.saved_model.load. There will be a new function for importing SavedModels in Tensorflow 2.0.\n",
      "INFO:tensorflow:Restoring parameters from /var/folders/_l/dffcyljj723fg4wbqfxfqv640000gn/T/tmptbdvcts_/variables/variables\n",
      "INFO:tensorflow:The given SavedModel MetaGraphDef contains SignatureDefs with the following keys: {'__saved_model_init_op', 'serving_default'}\n",
      "INFO:tensorflow:input tensors info: \n",
      "INFO:tensorflow:Tensor's key in saved_model's tensor_map: input_1\n",
      "INFO:tensorflow: tensor name: serving_default_input_1:0, shape: (-1, 224, 224, 3), type: DT_FLOAT\n",
      "INFO:tensorflow:output tensors info: \n",
      "INFO:tensorflow:Tensor's key in saved_model's tensor_map: reshape\n",
      "INFO:tensorflow: tensor name: StatefulPartitionedCall:0, shape: (-1, 7, 7, 5, 7), type: DT_FLOAT\n",
      "INFO:tensorflow:Restoring parameters from /var/folders/_l/dffcyljj723fg4wbqfxfqv640000gn/T/tmptbdvcts_/variables/variables\n"
     ]
    },
    {
     "name": "stderr",
     "output_type": "stream",
     "text": [
      "2021-09-17 16:48:48.436207: I tensorflow/core/grappler/devices.cc:75] Number of eligible GPUs (core count >= 8, compute capability >= 0.0): 0 (Note: TensorFlow was not compiled with CUDA or ROCm support)\n",
      "2021-09-17 16:48:48.436281: I tensorflow/core/grappler/clusters/single_machine.cc:357] Starting new session\n",
      "2021-09-17 16:48:48.756993: I tensorflow/core/grappler/optimizers/meta_optimizer.cc:1137] Optimization results for grappler item: graph_to_optimize\n",
      "  function_optimizer: Graph size after: 1411 nodes (1130), 3074 edges (2522), time = 55.139ms.\n",
      "  function_optimizer: function_optimizer did nothing. time = 2.154ms.\n",
      "\n",
      "2021-09-17 16:48:49.474395: I tensorflow/core/grappler/devices.cc:75] Number of eligible GPUs (core count >= 8, compute capability >= 0.0): 0 (Note: TensorFlow was not compiled with CUDA or ROCm support)\n",
      "2021-09-17 16:48:49.474464: I tensorflow/core/grappler/clusters/single_machine.cc:357] Starting new session\n",
      "2021-09-17 16:48:49.511525: E tensorflow/core/grappler/grappler_item_builder.cc:669] Init node conv1/kernel/Assign doesn't exist in graph\n",
      "2021-09-17 16:48:49.811284: W tensorflow/compiler/mlir/lite/python/tf_tfl_flatbuffer_helpers.cc:351] Ignored output_format.\n",
      "2021-09-17 16:48:49.811302: W tensorflow/compiler/mlir/lite/python/tf_tfl_flatbuffer_helpers.cc:354] Ignored drop_control_dependency.\n",
      "2021-09-17 16:48:49.919038: I tensorflow/compiler/mlir/tensorflow/utils/dump_mlir_util.cc:210] disabling MLIR crash reproducer, set env var `MLIR_CRASH_REPRODUCER_DIRECTORY` to enable.\n"
     ]
    },
    {
     "name": "stdout",
     "output_type": "stream",
     "text": [
      "anchors 2: [4.25, 4.09375, 3.28125, 3.28125, 2.4375, 2.40625, 1.6875, 1.78125, 5.15625, 5.15625]\n",
      "save tfilte to : ../ubuntu/out/yolo_2021-09-17_15_47/m.tflite\n",
      "WARNING:tensorflow:No training configuration found in the save file, so the model was *not* compiled. Compile it manually.\n"
     ]
    },
    {
     "name": "stderr",
     "output_type": "stream",
     "text": [
      "WARNING:tensorflow:No training configuration found in the save file, so the model was *not* compiled. Compile it manually.\n"
     ]
    },
    {
     "name": "stdout",
     "output_type": "stream",
     "text": [
      "WARNING:tensorflow:No training configuration found in the save file, so the model was *not* compiled. Compile it manually.\n"
     ]
    },
    {
     "name": "stderr",
     "output_type": "stream",
     "text": [
      "WARNING:tensorflow:No training configuration found in the save file, so the model was *not* compiled. Compile it manually.\n",
      "2021-09-17 16:48:57.518507: I tensorflow/core/grappler/devices.cc:75] Number of eligible GPUs (core count >= 8, compute capability >= 0.0): 0 (Note: TensorFlow was not compiled with CUDA or ROCm support)\n",
      "2021-09-17 16:48:57.518567: I tensorflow/core/grappler/clusters/single_machine.cc:357] Starting new session\n",
      "2021-09-17 16:48:57.813177: I tensorflow/core/grappler/optimizers/meta_optimizer.cc:1137] Optimization results for grappler item: graph_to_optimize\n",
      "  function_optimizer: Graph size after: 3112 nodes (0), 3979 edges (0), time = 56.1ms.\n",
      "  function_optimizer: Graph size after: 3112 nodes (0), 3979 edges (0), time = 67.443ms.\n",
      "Optimization results for grappler item: mobilenet_0.75_224_conv_pw_13_bn_cond_false_69274\n",
      "  function_optimizer: function_optimizer did nothing. time = 0.002ms.\n",
      "  function_optimizer: function_optimizer did nothing. time = 0.001ms.\n",
      "Optimization results for grappler item: conv_dw_3_bn_cond_false_64298\n",
      "  function_optimizer: function_optimizer did nothing. time = 0.002ms.\n",
      "  function_optimizer: function_optimizer did nothing. time = 0ms.\n",
      "Optimization results for grappler item: mobilenet_0.75_224_conv_pw_7_bn_cond_false_68168\n",
      "  function_optimizer: function_optimizer did nothing. time = 0.001ms.\n",
      "  function_optimizer: function_optimizer did nothing. time = 0ms.\n",
      "Optimization results for grappler item: mobilenet_0.75_224_conv_pw_12_bn_cond_true_69089\n",
      "  function_optimizer: function_optimizer did nothing. time = 0.002ms.\n",
      "  function_optimizer: function_optimizer did nothing. time = 0ms.\n",
      "Optimization results for grappler item: mobilenet_0.75_224_conv_pw_3_bn_cond_true_67427\n",
      "  function_optimizer: function_optimizer did nothing. time = 0.001ms.\n",
      "  function_optimizer: function_optimizer did nothing. time = 0.001ms.\n",
      "Optimization results for grappler item: mobilenet_0.75_224_conv_pw_7_bn_cond_true_68167\n",
      "  function_optimizer: function_optimizer did nothing. time = 0.001ms.\n",
      "  function_optimizer: function_optimizer did nothing. time = 0.001ms.\n",
      "Optimization results for grappler item: conv_pw_12_bn_cond_false_66545\n",
      "  function_optimizer: function_optimizer did nothing. time = 0.001ms.\n",
      "  function_optimizer: function_optimizer did nothing. time = 0ms.\n",
      "Optimization results for grappler item: conv1_bn_cond_true_63704\n",
      "  function_optimizer: function_optimizer did nothing. time = 0.001ms.\n",
      "  function_optimizer: function_optimizer did nothing. time = 0.001ms.\n",
      "Optimization results for grappler item: mobilenet_0.75_224_conv_dw_4_bn_cond_false_67523\n",
      "  function_optimizer: function_optimizer did nothing. time = 0.001ms.\n",
      "  function_optimizer: function_optimizer did nothing. time = 0ms.\n",
      "Optimization results for grappler item: conv_pw_10_bn_cond_false_66071\n",
      "  function_optimizer: function_optimizer did nothing. time = 0.001ms.\n",
      "  function_optimizer: function_optimizer did nothing. time = 0.001ms.\n",
      "Optimization results for grappler item: mobilenet_0.75_224_conv_dw_7_bn_cond_true_68076\n",
      "  function_optimizer: function_optimizer did nothing. time = 0.001ms.\n",
      "  function_optimizer: function_optimizer did nothing. time = 0ms.\n",
      "Optimization results for grappler item: mobilenet_0.75_224_conv_pw_5_bn_cond_false_67798\n",
      "  function_optimizer: function_optimizer did nothing. time = 0.001ms.\n",
      "  function_optimizer: function_optimizer did nothing. time = 0ms.\n",
      "Optimization results for grappler item: mobilenet_0.75_224_conv_pw_1_bn_cond_true_67057\n",
      "  function_optimizer: function_optimizer did nothing. time = 0.001ms.\n",
      "  function_optimizer: function_optimizer did nothing. time = 0.001ms.\n",
      "Optimization results for grappler item: conv_pw_7_bn_cond_false_65363\n",
      "  function_optimizer: function_optimizer did nothing. time = 0.001ms.\n",
      "  function_optimizer: function_optimizer did nothing. time = 0ms.\n",
      "Optimization results for grappler item: conv_dw_8_bn_cond_false_65482\n",
      "  function_optimizer: function_optimizer did nothing. time = 0.001ms.\n",
      "  function_optimizer: function_optimizer did nothing. time = 0ms.\n",
      "Optimization results for grappler item: mobilenet_0.75_224_conv_pw_4_bn_cond_true_67613\n",
      "  function_optimizer: function_optimizer did nothing. time = 0.001ms.\n",
      "  function_optimizer: function_optimizer did nothing. time = 0ms.\n",
      "Optimization results for grappler item: mobilenet_0.75_224_conv_dw_5_bn_cond_false_67707\n",
      "  function_optimizer: function_optimizer did nothing. time = 0.001ms.\n",
      "  function_optimizer: function_optimizer did nothing. time = 0.001ms.\n",
      "Optimization results for grappler item: conv_dw_6_bn_cond_true_65009\n",
      "  function_optimizer: function_optimizer did nothing. time = 0.001ms.\n",
      "  function_optimizer: function_optimizer did nothing. time = 0.001ms.\n",
      "Optimization results for grappler item: mobilenet_0.75_224_conv_dw_12_bn_cond_false_68999\n",
      "  function_optimizer: function_optimizer did nothing. time = 0.001ms.\n",
      "  function_optimizer: function_optimizer did nothing. time = 0ms.\n",
      "Optimization results for grappler item: conv_pw_10_bn_cond_true_66070\n",
      "  function_optimizer: function_optimizer did nothing. time = 0.001ms.\n",
      "  function_optimizer: function_optimizer did nothing. time = 0ms.\n",
      "Optimization results for grappler item: mobilenet_0.75_224_conv_dw_10_bn_cond_true_68628\n",
      "  function_optimizer: function_optimizer did nothing. time = 0.002ms.\n",
      "  function_optimizer: function_optimizer did nothing. time = 0ms.\n",
      "Optimization results for grappler item: mobilenet_0.75_224_conv_dw_11_bn_cond_false_68813\n",
      "  function_optimizer: function_optimizer did nothing. time = 0.002ms.\n",
      "  function_optimizer: function_optimizer did nothing. time = 0ms.\n",
      "Optimization results for grappler item: conv_dw_12_bn_cond_false_66428\n",
      "  function_optimizer: function_optimizer did nothing. time = 0.001ms.\n",
      "  function_optimizer: function_optimizer did nothing. time = 0ms.\n",
      "Optimization results for grappler item: conv_dw_5_bn_cond_true_64771\n",
      "  function_optimizer: function_optimizer did nothing. time = 0.001ms.\n",
      "  function_optimizer: function_optimizer did nothing. time = 0.001ms.\n",
      "Optimization results for grappler item: mobilenet_0.75_224_conv_dw_1_bn_cond_false_66967\n",
      "  function_optimizer: function_optimizer did nothing. time = 0.001ms.\n",
      "  function_optimizer: function_optimizer did nothing. time = 0.001ms.\n",
      "Optimization results for grappler item: conv_dw_5_bn_cond_false_64772\n",
      "  function_optimizer: function_optimizer did nothing. time = 0.002ms.\n",
      "  function_optimizer: function_optimizer did nothing. time = 0ms.\n",
      "Optimization results for grappler item: mobilenet_0.75_224_conv1_bn_cond_false_66874\n",
      "  function_optimizer: function_optimizer did nothing. time = 0.001ms.\n",
      "  function_optimizer: function_optimizer did nothing. time = 0ms.\n",
      "Optimization results for grappler item: mobilenet_0.75_224_conv_pw_9_bn_cond_false_68536\n",
      "  function_optimizer: function_optimizer did nothing. time = 0.001ms.\n",
      "  function_optimizer: function_optimizer did nothing. time = 0.001ms.\n",
      "Optimization results for grappler item: mobilenet_0.75_224_conv_pw_10_bn_cond_true_68719\n",
      "  function_optimizer: function_optimizer did nothing. time = 0.001ms.\n",
      "  function_optimizer: function_optimizer did nothing. time = 0ms.\n",
      "Optimization results for grappler item: conv_dw_1_bn_cond_false_63824\n",
      "  function_optimizer: function_optimizer did nothing. time = 0.002ms.\n",
      "  function_optimizer: function_optimizer did nothing. time = 0ms.\n",
      "Optimization results for grappler item: mobilenet_0.75_224_conv_dw_13_bn_cond_true_69182\n",
      "  function_optimizer: function_optimizer did nothing. time = 0.001ms.\n",
      "  function_optimizer: function_optimizer did nothing. time = 0ms.\n",
      "Optimization results for grappler item: conv_dw_10_bn_cond_true_65953\n",
      "  function_optimizer: function_optimizer did nothing. time = 0.001ms.\n",
      "  function_optimizer: function_optimizer did nothing. time = 0ms.\n",
      "Optimization results for grappler item: mobilenet_0.75_224_conv_dw_3_bn_cond_true_67336\n",
      "  function_optimizer: function_optimizer did nothing. time = 0.001ms.\n",
      "  function_optimizer: function_optimizer did nothing. time = 0.001ms.\n",
      "Optimization results for grappler item: conv_pw_11_bn_cond_true_66306\n",
      "  function_optimizer: function_optimizer did nothing. time = 0.001ms.\n",
      "  function_optimizer: function_optimizer did nothing. time = 0ms.\n",
      "Optimization results for grappler item: conv_dw_1_bn_cond_true_63823\n",
      "  function_optimizer: function_optimizer did nothing. time = 0.001ms.\n",
      "  function_optimizer: function_optimizer did nothing. time = 0.001ms.\n",
      "Optimization results for grappler item: mobilenet_0.75_224_conv_pw_8_bn_cond_true_68351\n",
      "  function_optimizer: function_optimizer did nothing. time = 0.001ms.\n",
      "  function_optimizer: function_optimizer did nothing. time = 0ms.\n",
      "Optimization results for grappler item: conv_pw_9_bn_cond_true_65834\n",
      "  function_optimizer: function_optimizer did nothing. time = 0.002ms.\n",
      "  function_optimizer: function_optimizer did nothing. time = 0ms.\n",
      "Optimization results for grappler item: conv_pw_3_bn_cond_false_64415\n",
      "  function_optimizer: function_optimizer did nothing. time = 0.001ms.\n",
      "  function_optimizer: function_optimizer did nothing. time = 0.001ms.\n",
      "Optimization results for grappler item: mobilenet_0.75_224_conv_dw_10_bn_cond_false_68629\n",
      "  function_optimizer: function_optimizer did nothing. time = 0.001ms.\n",
      "  function_optimizer: function_optimizer did nothing. time = 0.001ms.\n",
      "Optimization results for grappler item: mobilenet_0.75_224_conv_dw_1_bn_cond_true_66966\n",
      "  function_optimizer: function_optimizer did nothing. time = 0.002ms.\n",
      "  function_optimizer: function_optimizer did nothing. time = 0ms.\n",
      "Optimization results for grappler item: mobilenet_0.75_224_conv_dw_4_bn_cond_true_67522\n",
      "  function_optimizer: function_optimizer did nothing. time = 0.001ms.\n",
      "  function_optimizer: function_optimizer did nothing. time = 0ms.\n",
      "Optimization results for grappler item: mobilenet_0.75_224_conv_pw_1_bn_cond_false_67058\n",
      "  function_optimizer: function_optimizer did nothing. time = 0.001ms.\n",
      "  function_optimizer: function_optimizer did nothing. time = 0.001ms.\n",
      "Optimization results for grappler item: conv_dw_2_bn_cond_true_64061\n",
      "  function_optimizer: function_optimizer did nothing. time = 0.001ms.\n",
      "  function_optimizer: function_optimizer did nothing. time = 0.001ms.\n",
      "Optimization results for grappler item: mobilenet_0.75_224_conv_pw_11_bn_cond_false_68904\n",
      "  function_optimizer: function_optimizer did nothing. time = 0.001ms.\n",
      "  function_optimizer: function_optimizer did nothing. time = 0.001ms.\n",
      "Optimization results for grappler item: conv_dw_10_bn_cond_false_65954\n",
      "  function_optimizer: function_optimizer did nothing. time = 0.001ms.\n",
      "  function_optimizer: function_optimizer did nothing. time = 0ms.\n",
      "Optimization results for grappler item: conv_pw_6_bn_cond_true_65126\n",
      "  function_optimizer: function_optimizer did nothing. time = 0.001ms.\n",
      "  function_optimizer: function_optimizer did nothing. time = 0ms.\n",
      "Optimization results for grappler item: conv_pw_5_bn_cond_true_64888\n",
      "  function_optimizer: function_optimizer did nothing. time = 0.001ms.\n",
      "  function_optimizer: function_optimizer did nothing. time = 0ms.\n",
      "Optimization results for grappler item: conv_pw_6_bn_cond_false_65127\n",
      "  function_optimizer: function_optimizer did nothing. time = 0.002ms.\n",
      "  function_optimizer: function_optimizer did nothing. time = 0ms.\n",
      "Optimization results for grappler item: conv_pw_3_bn_cond_true_64414\n",
      "  function_optimizer: function_optimizer did nothing. time = 0.001ms.\n",
      "  function_optimizer: function_optimizer did nothing. time = 0ms.\n",
      "Optimization results for grappler item: mobilenet_0.75_224_conv_dw_3_bn_cond_false_67337\n",
      "  function_optimizer: function_optimizer did nothing. time = 0.001ms.\n",
      "  function_optimizer: function_optimizer did nothing. time = 0.001ms.\n",
      "Optimization results for grappler item: conv_dw_9_bn_cond_true_65717\n",
      "  function_optimizer: function_optimizer did nothing. time = 0.001ms.\n",
      "  function_optimizer: function_optimizer did nothing. time = 0ms.\n",
      "Optimization results for grappler item: mobilenet_0.75_224_conv_pw_6_bn_cond_false_67984\n",
      "  function_optimizer: function_optimizer did nothing. time = 0.001ms.\n",
      "  function_optimizer: function_optimizer did nothing. time = 0ms.\n",
      "Optimization results for grappler item: mobilenet_0.75_224_conv_dw_9_bn_cond_false_68445\n",
      "  function_optimizer: function_optimizer did nothing. time = 0.001ms.\n",
      "  function_optimizer: function_optimizer did nothing. time = 0.001ms.\n",
      "Optimization results for grappler item: conv_pw_12_bn_cond_true_66544\n",
      "  function_optimizer: function_optimizer did nothing. time = 0.001ms.\n",
      "  function_optimizer: function_optimizer did nothing. time = 0.001ms.\n",
      "Optimization results for grappler item: conv_pw_8_bn_cond_true_65598\n",
      "  function_optimizer: function_optimizer did nothing. time = 0.001ms.\n",
      "  function_optimizer: function_optimizer did nothing. time = 0ms.\n",
      "Optimization results for grappler item: mobilenet_0.75_224_conv_dw_13_bn_cond_false_69183\n",
      "  function_optimizer: function_optimizer did nothing. time = 0.002ms.\n",
      "  function_optimizer: function_optimizer did nothing. time = 0ms.\n",
      "Optimization results for grappler item: mobilenet_0.75_224_conv_dw_7_bn_cond_false_68077\n",
      "  function_optimizer: function_optimizer did nothing. time = 0.001ms.\n",
      "  function_optimizer: function_optimizer did nothing. time = 0.001ms.\n",
      "Optimization results for grappler item: mobilenet_0.75_224_conv_pw_11_bn_cond_true_68903\n",
      "  function_optimizer: function_optimizer did nothing. time = 0.001ms.\n",
      "  function_optimizer: function_optimizer did nothing. time = 0ms.\n",
      "Optimization results for grappler item: conv_dw_11_bn_cond_true_66189\n",
      "  function_optimizer: function_optimizer did nothing. time = 0.001ms.\n",
      "  function_optimizer: function_optimizer did nothing. time = 0ms.\n",
      "Optimization results for grappler item: conv_dw_4_bn_cond_false_64536\n",
      "  function_optimizer: function_optimizer did nothing. time = 0.001ms.\n",
      "  function_optimizer: function_optimizer did nothing. time = 0ms.\n",
      "Optimization results for grappler item: conv_pw_11_bn_cond_false_66307\n",
      "  function_optimizer: function_optimizer did nothing. time = 0.001ms.\n",
      "  function_optimizer: function_optimizer did nothing. time = 0.001ms.\n",
      "Optimization results for grappler item: conv_pw_2_bn_cond_false_64179\n",
      "  function_optimizer: function_optimizer did nothing. time = 0.002ms.\n",
      "  function_optimizer: function_optimizer did nothing. time = 0ms.\n",
      "Optimization results for grappler item: conv_dw_13_bn_cond_true_66663\n",
      "  function_optimizer: function_optimizer did nothing. time = 0.001ms.\n",
      "  function_optimizer: function_optimizer did nothing. time = 0.001ms.\n",
      "Optimization results for grappler item: conv_dw_8_bn_cond_true_65481\n",
      "  function_optimizer: function_optimizer did nothing. time = 0.001ms.\n",
      "  function_optimizer: function_optimizer did nothing. time = 0ms.\n",
      "Optimization results for grappler item: mobilenet_0.75_224_conv_pw_10_bn_cond_false_68720\n",
      "  function_optimizer: function_optimizer did nothing. time = 0.002ms.\n",
      "  function_optimizer: function_optimizer did nothing. time = 0ms.\n",
      "Optimization results for grappler item: conv_dw_2_bn_cond_false_64062\n",
      "  function_optimizer: function_optimizer did nothing. time = 0.001ms.\n",
      "  function_optimizer: function_optimizer did nothing. time = 0.001ms.\n",
      "Optimization results for grappler item: conv_dw_7_bn_cond_true_65245\n",
      "  function_optimizer: function_optimizer did nothing. time = 0.001ms.\n",
      "  function_optimizer: function_optimizer did nothing. time = 0.001ms.\n",
      "Optimization results for grappler item: conv_pw_1_bn_cond_true_63940\n",
      "  function_optimizer: function_optimizer did nothing. time = 0.001ms.\n",
      "  function_optimizer: function_optimizer did nothing. time = 0ms.\n",
      "Optimization results for grappler item: mobilenet_0.75_224_conv_dw_8_bn_cond_false_68261\n",
      "  function_optimizer: function_optimizer did nothing. time = 0.001ms.\n",
      "  function_optimizer: function_optimizer did nothing. time = 0ms.\n",
      "Optimization results for grappler item: conv_dw_7_bn_cond_false_65246\n",
      "  function_optimizer: function_optimizer did nothing. time = 0.001ms.\n",
      "  function_optimizer: function_optimizer did nothing. time = 0.001ms.\n",
      "Optimization results for grappler item: mobilenet_0.75_224_conv_dw_2_bn_cond_true_67152\n",
      "  function_optimizer: function_optimizer did nothing. time = 0.001ms.\n",
      "  function_optimizer: function_optimizer did nothing. time = 0ms.\n",
      "Optimization results for grappler item: mobilenet_0.75_224_conv_pw_2_bn_cond_true_67243\n",
      "  function_optimizer: function_optimizer did nothing. time = 0.002ms.\n",
      "  function_optimizer: function_optimizer did nothing. time = 0ms.\n",
      "Optimization results for grappler item: mobilenet_0.75_224_conv_dw_9_bn_cond_true_68444\n",
      "  function_optimizer: function_optimizer did nothing. time = 0.001ms.\n",
      "  function_optimizer: function_optimizer did nothing. time = 0ms.\n",
      "Optimization results for grappler item: mobilenet_0.75_224_conv1_bn_cond_true_66873\n",
      "  function_optimizer: function_optimizer did nothing. time = 0.001ms.\n",
      "  function_optimizer: function_optimizer did nothing. time = 0ms.\n",
      "Optimization results for grappler item: conv_pw_7_bn_cond_true_65362\n",
      "  function_optimizer: function_optimizer did nothing. time = 0.001ms.\n",
      "  function_optimizer: function_optimizer did nothing. time = 0.001ms.\n",
      "Optimization results for grappler item: mobilenet_0.75_224_conv_dw_2_bn_cond_false_67153\n",
      "  function_optimizer: function_optimizer did nothing. time = 0.001ms.\n",
      "  function_optimizer: function_optimizer did nothing. time = 0.001ms.\n",
      "Optimization results for grappler item: mobilenet_0.75_224_conv_dw_8_bn_cond_true_68260\n",
      "  function_optimizer: function_optimizer did nothing. time = 0.001ms.\n",
      "  function_optimizer: function_optimizer did nothing. time = 0ms.\n",
      "Optimization results for grappler item: mobilenet_0.75_224_conv_pw_5_bn_cond_true_67797\n",
      "  function_optimizer: function_optimizer did nothing. time = 0.002ms.\n",
      "  function_optimizer: function_optimizer did nothing. time = 0ms.\n",
      "Optimization results for grappler item: conv_dw_4_bn_cond_true_64535\n",
      "  function_optimizer: function_optimizer did nothing. time = 0.002ms.\n",
      "  function_optimizer: function_optimizer did nothing. time = 0.001ms.\n",
      "Optimization results for grappler item: mobilenet_0.75_224_conv_dw_6_bn_cond_true_67892\n",
      "  function_optimizer: function_optimizer did nothing. time = 0.001ms.\n",
      "  function_optimizer: function_optimizer did nothing. time = 0ms.\n",
      "Optimization results for grappler item: conv_pw_4_bn_cond_true_64652\n",
      "  function_optimizer: function_optimizer did nothing. time = 0.001ms.\n",
      "  function_optimizer: function_optimizer did nothing. time = 0ms.\n",
      "Optimization results for grappler item: conv_dw_3_bn_cond_true_64297\n",
      "  function_optimizer: function_optimizer did nothing. time = 0.002ms.\n",
      "  function_optimizer: function_optimizer did nothing. time = 0ms.\n",
      "Optimization results for grappler item: conv1_bn_cond_false_63705\n",
      "  function_optimizer: function_optimizer did nothing. time = 0.002ms.\n",
      "  function_optimizer: function_optimizer did nothing. time = 0.001ms.\n",
      "Optimization results for grappler item: conv_pw_5_bn_cond_false_64889\n",
      "  function_optimizer: function_optimizer did nothing. time = 0.001ms.\n",
      "  function_optimizer: function_optimizer did nothing. time = 0ms.\n",
      "Optimization results for grappler item: mobilenet_0.75_224_conv_pw_2_bn_cond_false_67244\n",
      "  function_optimizer: function_optimizer did nothing. time = 0.001ms.\n",
      "  function_optimizer: function_optimizer did nothing. time = 0ms.\n",
      "Optimization results for grappler item: conv_pw_13_bn_cond_false_66781\n",
      "  function_optimizer: function_optimizer did nothing. time = 0.002ms.\n",
      "  function_optimizer: function_optimizer did nothing. time = 0.001ms.\n",
      "Optimization results for grappler item: mobilenet_0.75_224_conv_pw_12_bn_cond_false_69090\n",
      "  function_optimizer: function_optimizer did nothing. time = 0.002ms.\n",
      "  function_optimizer: function_optimizer did nothing. time = 0ms.\n",
      "Optimization results for grappler item: conv_pw_4_bn_cond_false_64653\n",
      "  function_optimizer: function_optimizer did nothing. time = 0.001ms.\n",
      "  function_optimizer: function_optimizer did nothing. time = 0ms.\n",
      "Optimization results for grappler item: conv_pw_2_bn_cond_true_64178\n",
      "  function_optimizer: function_optimizer did nothing. time = 0.002ms.\n",
      "  function_optimizer: function_optimizer did nothing. time = 0ms.\n",
      "Optimization results for grappler item: mobilenet_0.75_224_conv_pw_9_bn_cond_true_68535\n",
      "  function_optimizer: function_optimizer did nothing. time = 0.002ms.\n",
      "  function_optimizer: function_optimizer did nothing. time = 0ms.\n",
      "Optimization results for grappler item: conv_dw_11_bn_cond_false_66190\n",
      "  function_optimizer: function_optimizer did nothing. time = 0.003ms.\n",
      "  function_optimizer: function_optimizer did nothing. time = 0.001ms.\n",
      "Optimization results for grappler item: conv_dw_6_bn_cond_false_65010\n",
      "  function_optimizer: function_optimizer did nothing. time = 0.002ms.\n",
      "  function_optimizer: function_optimizer did nothing. time = 0ms.\n",
      "Optimization results for grappler item: conv_dw_13_bn_cond_false_66664\n",
      "  function_optimizer: function_optimizer did nothing. time = 0.002ms.\n",
      "  function_optimizer: function_optimizer did nothing. time = 0ms.\n",
      "Optimization results for grappler item: conv_dw_12_bn_cond_true_66427\n",
      "  function_optimizer: function_optimizer did nothing. time = 0.002ms.\n",
      "  function_optimizer: function_optimizer did nothing. time = 0ms.\n",
      "Optimization results for grappler item: mobilenet_0.75_224_conv_pw_8_bn_cond_false_68352\n",
      "  function_optimizer: function_optimizer did nothing. time = 0.001ms.\n",
      "  function_optimizer: function_optimizer did nothing. time = 0ms.\n",
      "Optimization results for grappler item: conv_dw_9_bn_cond_false_65718\n",
      "  function_optimizer: function_optimizer did nothing. time = 0.001ms.\n",
      "  function_optimizer: function_optimizer did nothing. time = 0ms.\n",
      "Optimization results for grappler item: mobilenet_0.75_224_conv_dw_12_bn_cond_true_68998\n",
      "  function_optimizer: function_optimizer did nothing. time = 0.001ms.\n",
      "  function_optimizer: function_optimizer did nothing. time = 0ms.\n",
      "Optimization results for grappler item: conv_pw_9_bn_cond_false_65835\n",
      "  function_optimizer: function_optimizer did nothing. time = 0.001ms.\n",
      "  function_optimizer: function_optimizer did nothing. time = 0ms.\n",
      "Optimization results for grappler item: mobilenet_0.75_224_conv_dw_6_bn_cond_false_67893\n",
      "  function_optimizer: function_optimizer did nothing. time = 0.001ms.\n",
      "  function_optimizer: function_optimizer did nothing. time = 0.001ms.\n",
      "Optimization results for grappler item: mobilenet_0.75_224_conv_pw_6_bn_cond_true_67983\n",
      "  function_optimizer: function_optimizer did nothing. time = 0.001ms.\n",
      "  function_optimizer: function_optimizer did nothing. time = 0.036ms.\n",
      "Optimization results for grappler item: mobilenet_0.75_224_conv_dw_11_bn_cond_true_68812\n",
      "  function_optimizer: function_optimizer did nothing. time = 0.001ms.\n",
      "  function_optimizer: function_optimizer did nothing. time = 0.001ms.\n",
      "Optimization results for grappler item: mobilenet_0.75_224_conv_pw_4_bn_cond_false_67614\n",
      "  function_optimizer: function_optimizer did nothing. time = 0.001ms.\n",
      "  function_optimizer: function_optimizer did nothing. time = 0.001ms.\n",
      "Optimization results for grappler item: mobilenet_0.75_224_conv_pw_13_bn_cond_true_69273\n",
      "  function_optimizer: function_optimizer did nothing. time = 0.002ms.\n",
      "  function_optimizer: function_optimizer did nothing. time = 0ms.\n",
      "Optimization results for grappler item: conv_pw_13_bn_cond_true_66780\n",
      "  function_optimizer: function_optimizer did nothing. time = 0.003ms.\n",
      "  function_optimizer: function_optimizer did nothing. time = 0.001ms.\n",
      "Optimization results for grappler item: mobilenet_0.75_224_conv_dw_5_bn_cond_true_67706\n",
      "  function_optimizer: function_optimizer did nothing. time = 0.002ms.\n",
      "  function_optimizer: function_optimizer did nothing. time = 0.001ms.\n",
      "Optimization results for grappler item: conv_pw_8_bn_cond_false_65599\n",
      "  function_optimizer: function_optimizer did nothing. time = 0.001ms.\n",
      "  function_optimizer: function_optimizer did nothing. time = 0ms.\n",
      "Optimization results for grappler item: conv_pw_1_bn_cond_false_63941\n",
      "  function_optimizer: function_optimizer did nothing. time = 0.001ms.\n",
      "  function_optimizer: function_optimizer did nothing. time = 0.001ms.\n",
      "Optimization results for grappler item: mobilenet_0.75_224_conv_pw_3_bn_cond_false_67428\n",
      "  function_optimizer: function_optimizer did nothing. time = 0.001ms.\n",
      "  function_optimizer: function_optimizer did nothing. time = 0.001ms.\n",
      "\n"
     ]
    },
    {
     "name": "stdout",
     "output_type": "stream",
     "text": [
      "INFO:tensorflow:Assets written to: /var/folders/_l/dffcyljj723fg4wbqfxfqv640000gn/T/tmpmgehu_5u/assets\n"
     ]
    },
    {
     "name": "stderr",
     "output_type": "stream",
     "text": [
      "INFO:tensorflow:Assets written to: /var/folders/_l/dffcyljj723fg4wbqfxfqv640000gn/T/tmpmgehu_5u/assets\n"
     ]
    },
    {
     "name": "stdout",
     "output_type": "stream",
     "text": [
      "INFO:tensorflow:Restoring parameters from /var/folders/_l/dffcyljj723fg4wbqfxfqv640000gn/T/tmpmgehu_5u/variables/variables\n"
     ]
    },
    {
     "name": "stderr",
     "output_type": "stream",
     "text": [
      "INFO:tensorflow:Restoring parameters from /var/folders/_l/dffcyljj723fg4wbqfxfqv640000gn/T/tmpmgehu_5u/variables/variables\n"
     ]
    },
    {
     "name": "stdout",
     "output_type": "stream",
     "text": [
      "INFO:tensorflow:The given SavedModel MetaGraphDef contains SignatureDefs with the following keys: {'__saved_model_init_op', 'serving_default'}\n"
     ]
    },
    {
     "name": "stderr",
     "output_type": "stream",
     "text": [
      "INFO:tensorflow:The given SavedModel MetaGraphDef contains SignatureDefs with the following keys: {'__saved_model_init_op', 'serving_default'}\n"
     ]
    },
    {
     "name": "stdout",
     "output_type": "stream",
     "text": [
      "INFO:tensorflow:input tensors info: \n"
     ]
    },
    {
     "name": "stderr",
     "output_type": "stream",
     "text": [
      "INFO:tensorflow:input tensors info: \n"
     ]
    },
    {
     "name": "stdout",
     "output_type": "stream",
     "text": [
      "INFO:tensorflow:Tensor's key in saved_model's tensor_map: input_1\n"
     ]
    },
    {
     "name": "stderr",
     "output_type": "stream",
     "text": [
      "INFO:tensorflow:Tensor's key in saved_model's tensor_map: input_1\n"
     ]
    },
    {
     "name": "stdout",
     "output_type": "stream",
     "text": [
      "INFO:tensorflow: tensor name: serving_default_input_1:0, shape: (-1, 224, 224, 3), type: DT_FLOAT\n"
     ]
    },
    {
     "name": "stderr",
     "output_type": "stream",
     "text": [
      "INFO:tensorflow: tensor name: serving_default_input_1:0, shape: (-1, 224, 224, 3), type: DT_FLOAT\n"
     ]
    },
    {
     "name": "stdout",
     "output_type": "stream",
     "text": [
      "INFO:tensorflow:output tensors info: \n"
     ]
    },
    {
     "name": "stderr",
     "output_type": "stream",
     "text": [
      "INFO:tensorflow:output tensors info: \n"
     ]
    },
    {
     "name": "stdout",
     "output_type": "stream",
     "text": [
      "INFO:tensorflow:Tensor's key in saved_model's tensor_map: reshape\n"
     ]
    },
    {
     "name": "stderr",
     "output_type": "stream",
     "text": [
      "INFO:tensorflow:Tensor's key in saved_model's tensor_map: reshape\n"
     ]
    },
    {
     "name": "stdout",
     "output_type": "stream",
     "text": [
      "INFO:tensorflow: tensor name: StatefulPartitionedCall:0, shape: (-1, 7, 7, 5, 7), type: DT_FLOAT\n"
     ]
    },
    {
     "name": "stderr",
     "output_type": "stream",
     "text": [
      "INFO:tensorflow: tensor name: StatefulPartitionedCall:0, shape: (-1, 7, 7, 5, 7), type: DT_FLOAT\n"
     ]
    },
    {
     "name": "stdout",
     "output_type": "stream",
     "text": [
      "INFO:tensorflow:Restoring parameters from /var/folders/_l/dffcyljj723fg4wbqfxfqv640000gn/T/tmpmgehu_5u/variables/variables\n"
     ]
    },
    {
     "name": "stderr",
     "output_type": "stream",
     "text": [
      "INFO:tensorflow:Restoring parameters from /var/folders/_l/dffcyljj723fg4wbqfxfqv640000gn/T/tmpmgehu_5u/variables/variables\n",
      "2021-09-17 16:49:13.645917: I tensorflow/core/grappler/devices.cc:75] Number of eligible GPUs (core count >= 8, compute capability >= 0.0): 0 (Note: TensorFlow was not compiled with CUDA or ROCm support)\n",
      "2021-09-17 16:49:13.645977: I tensorflow/core/grappler/clusters/single_machine.cc:357] Starting new session\n",
      "2021-09-17 16:49:13.961988: I tensorflow/core/grappler/optimizers/meta_optimizer.cc:1137] Optimization results for grappler item: graph_to_optimize\n",
      "  function_optimizer: Graph size after: 1411 nodes (1130), 3074 edges (2522), time = 64.044ms.\n",
      "  function_optimizer: function_optimizer did nothing. time = 2.394ms.\n",
      "\n",
      "2021-09-17 16:49:14.657651: I tensorflow/core/grappler/devices.cc:75] Number of eligible GPUs (core count >= 8, compute capability >= 0.0): 0 (Note: TensorFlow was not compiled with CUDA or ROCm support)\n",
      "2021-09-17 16:49:14.657721: I tensorflow/core/grappler/clusters/single_machine.cc:357] Starting new session\n",
      "2021-09-17 16:49:14.695551: E tensorflow/core/grappler/grappler_item_builder.cc:669] Init node conv1/kernel/Assign doesn't exist in graph\n",
      "2021-09-17 16:49:14.986564: W tensorflow/compiler/mlir/lite/python/tf_tfl_flatbuffer_helpers.cc:351] Ignored output_format.\n",
      "2021-09-17 16:49:14.986581: W tensorflow/compiler/mlir/lite/python/tf_tfl_flatbuffer_helpers.cc:354] Ignored drop_control_dependency.\n",
      "2021-09-17 16:49:15,210 - [INFO]:  train ok, now generate report\n",
      "INFO:logger: train ok, now generate report\n",
      "2021-09-17 16:49:15,211 - [INFO]:  generate report image\n",
      "INFO:logger: generate report image\n",
      "2021-09-17 16:49:15,385 - [INFO]:  generate report image end\n",
      "INFO:logger: generate report image end\n"
     ]
    },
    {
     "name": "stdout",
     "output_type": "stream",
     "text": [
      "<keras.callbacks.History object at 0x7fb0217d8bd0>\n"
     ]
    }
   ],
   "source": [
    "# 配置文件：detector.instance\n",
    "result,_,model_path,anchors = detector_train(datasets_dir=datasets_dir,temp_datasets_dir=temp_saves_dir)\n"
   ]
  },
  {
   "cell_type": "code",
   "execution_count": 9,
   "id": "f7ab0e5d",
   "metadata": {},
   "outputs": [
    {
     "name": "stdout",
     "output_type": "stream",
     "text": [
      "../ubuntu/out/yolo_2021-09-17_15_47/m.h5\n",
      "[4.25, 4.09375, 3.28125, 3.28125, 2.4375, 2.40625, 1.6875, 1.78125, 5.15625, 5.15625]\n"
     ]
    }
   ],
   "source": [
    "print(model_path)\n",
    "print(anchors)"
   ]
  },
  {
   "cell_type": "code",
   "execution_count": null,
   "id": "92068dd5",
   "metadata": {},
   "outputs": [],
   "source": []
  },
  {
   "cell_type": "code",
   "execution_count": 10,
   "id": "4ed7d535-272b-470b-9d03-0d77f8a4f710",
   "metadata": {},
   "outputs": [
    {
     "name": "stdout",
     "output_type": "stream",
     "text": [
      "/Users/liampro/Downloads/pro/git/ai-test/k210/k210_train\n"
     ]
    }
   ],
   "source": [
    "print(os.path.abspath('.'))"
   ]
  },
  {
   "cell_type": "markdown",
   "id": "ca541c61-03a4-4e8f-985f-131bf47c740f",
   "metadata": {
    "tags": []
   },
   "source": [
    "## 生成kmodel"
   ]
  },
  {
   "cell_type": "code",
   "execution_count": 11,
   "id": "456feaa4-01ce-4374-ae4f-49d3856c7b07",
   "metadata": {},
   "outputs": [
    {
     "name": "stdout",
     "output_type": "stream",
     "text": [
      "docker run -it -v /Users/liampro/Downloads/pro/git/ai-test/k210/ubuntu:/train ubuntu /train/tokmodel.sh out/yolo_2021-09-17_15_47\n"
     ]
    }
   ],
   "source": [
    "#直接生成kmodel:Mac开发环境要弄个docker跑linux命令，\n",
    "# win,linux可以直接跑官方命令\n",
    "# tool:https://github.com/kendryte/nncase/releases/tag/v0.1.0-rc5\n",
    "\n",
    "exe_path = os.path.join(os.path.abspath('..'), \"ubuntu\")\n",
    "\n",
    "docker_cmd=f\"docker run -it -v {exe_path}:/train ubuntu /train/tokmodel.sh {ubuntu_path}\"\n",
    "print(docker_cmd)\n",
    "\n",
    "# 在shell 运行 docker命令"
   ]
  },
  {
   "cell_type": "code",
   "execution_count": 12,
   "id": "0c7f1220",
   "metadata": {},
   "outputs": [
    {
     "name": "stdout",
     "output_type": "stream",
     "text": [
      "/Users/liampro/Downloads/pro/git/ai-test/k210/k210_train/tools/kmodel/ncc-mac.sh /Users/liampro/Downloads/pro/git/ai-test/k210/ubuntu out/yolo_2021-09-17_15_47\n"
     ]
    }
   ],
   "source": [
    "# 或者运行下面的shell\n",
    "cmd_sh = f\"{os.path.abspath('.')}/tools/kmodel/ncc-mac.sh {exe_path} {ubuntu_path}\"\n",
    "print(cmd_sh)\n",
    "# f=os.popen(cmd)\n",
    "# print(f.read())"
   ]
  },
  {
   "cell_type": "code",
   "execution_count": null,
   "id": "e75a3379",
   "metadata": {},
   "outputs": [],
   "source": []
  },
  {
   "cell_type": "markdown",
   "id": "943e0391",
   "metadata": {},
   "source": [
    "## 生成k210程序boot.py"
   ]
  },
  {
   "cell_type": "code",
   "execution_count": 13,
   "id": "e71f5080",
   "metadata": {},
   "outputs": [
    {
     "name": "stdout",
     "output_type": "stream",
     "text": [
      "cp -f data/template/yolo_boot.py ../ubuntu/out/yolo_2021-09-17_15_47/result/boot.py\n"
     ]
    }
   ],
   "source": [
    "#temp_saves_dir = \"../ubuntu/out/yolo_1\"\n",
    "target_file = f\"{temp_saves_dir}result/boot.py\"\n",
    "copy_file = f\"cp -f data/template/yolo_boot.py {target_file}\"\n",
    "print(copy_file)"
   ]
  },
  {
   "cell_type": "code",
   "execution_count": 14,
   "id": "def680cc",
   "metadata": {},
   "outputs": [
    {
     "name": "stdout",
     "output_type": "stream",
     "text": [
      "\n"
     ]
    }
   ],
   "source": [
    "f=os.popen(copy_file)\n",
    "print(f.read()) "
   ]
  },
  {
   "cell_type": "code",
   "execution_count": 15,
   "id": "75f855f6",
   "metadata": {},
   "outputs": [],
   "source": [
    "# 更新 labels ,anchors\n",
    "result_boot_py_path = target_file\n",
    "\n",
    "img_size = [224,224]\n",
    "labels = [\"c0\",\"c1\"]\n",
    "replace = 'labels = [\"{}\"]'.format('\", \"'.join(labels))\n",
    "\n",
    "with open(result_boot_py_path) as f:\n",
    "            boot_py = f.read()\n",
    "with open(result_boot_py_path, \"w\") as f:\n",
    "            target = 'labels = [\"0\", \"1\"] # labels'\n",
    "            boot_py = boot_py.replace(target, replace)\n",
    "            target = 'anchors = [3.28125, 3.28125] # anchors'\n",
    "            replace = 'anchors = [{}]'.format(', '.join(str(i) for i in anchors))\n",
    "            boot_py = boot_py.replace(target, replace)\n",
    "            target = 'img_size = [224,224] # img_size'\n",
    "            replace = 'img_size = [{},{}]'.format(img_size[0], img_size[1])\n",
    "            boot_py = boot_py.replace(target, replace)\n",
    "            f.write(boot_py)"
   ]
  },
  {
   "cell_type": "code",
   "execution_count": null,
   "id": "9de45392-8612-4ade-af61-d75a0045efc2",
   "metadata": {},
   "outputs": [],
   "source": []
  },
  {
   "cell_type": "markdown",
   "id": "cf554c4c-d5d4-4e1a-a792-b89ad25f56e6",
   "metadata": {},
   "source": [
    "## 最后生成的文件tree"
   ]
  },
  {
   "cell_type": "raw",
   "id": "5cd5f20c-2791-4dd4-9a85-5d7461a8d201",
   "metadata": {},
   "source": [
    "'''\n",
    "liam18@liam ~ % cd ../ubuntu/out/imgn_2021-09-17_09_13 \n",
    "liam18@liam imgn_2021-09-17_09_13 % tree\n",
    ".\n",
    "├── m.h5\n",
    "├── m.tflite\n",
    "├── result\n",
    "│   ├── boot.py\n",
    "│   └── m.kmodel\n",
    "├── sample_images\n",
    "│   ├── 0_284.jpg\n",
    "│   ├── 10_202.jpg\n",
    "...\n",
    "│   ├── 77_25.jpg\n",
    "│   ├── 78_228.jpg\n",
    "│   ├── 79_120.jpg\n",
    "│   ├── 7_50.jpg\n",
    "│   ├── 8_124.jpg\n",
    "│   └── 9_269.jpg\n",
    "└── tf\n",
    "    ├── assets\n",
    "    ├── keras_metadata.pb\n",
    "    ├── saved_model.pb\n",
    "    └── variables\n",
    "        ├── variables.data-00000-of-00001\n",
    "        └── variables.index\n",
    "'''"
   ]
  },
  {
   "cell_type": "markdown",
   "id": "e6bc3c05-f166-4292-8797-ae7329fc4d4e",
   "metadata": {},
   "source": [
    "## 到k210硬件运行"
   ]
  },
  {
   "cell_type": "raw",
   "id": "df60a82c-63dc-40f5-a1ea-e53a429b3871",
   "metadata": {},
   "source": [
    "'''\n",
    "把 \n",
    "├── result\n",
    "│   ├── boot.py\n",
    "│   └── m.kmodel\n",
    "\n",
    "的 boot.py ，m.kmodel 复制到 sd 卡的根目录下\n",
    "重新启动硬件，就可以运行了\n",
    "\n",
    "'''"
   ]
  }
 ],
 "metadata": {
  "kernelspec": {
   "display_name": "Python 3 (ipykernel)",
   "language": "python",
   "name": "python3"
  },
  "language_info": {
   "codemirror_mode": {
    "name": "ipython",
    "version": 3
   },
   "file_extension": ".py",
   "mimetype": "text/x-python",
   "name": "python",
   "nbconvert_exporter": "python",
   "pygments_lexer": "ipython3",
   "version": "3.7.11"
  }
 },
 "nbformat": 4,
 "nbformat_minor": 5
}
