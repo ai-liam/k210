{
 "cells": [
  {
   "cell_type": "markdown",
   "id": "a9f54d3e-798e-46c2-8fb9-4ebeab865f55",
   "metadata": {},
   "source": [
    "# 分类模型"
   ]
  },
  {
   "cell_type": "code",
   "execution_count": null,
   "id": "60720a62-219e-4b0a-bea8-476bdaf781b5",
   "metadata": {},
   "outputs": [],
   "source": []
  },
  {
   "cell_type": "code",
   "execution_count": 1,
   "id": "f17154e9-50ee-4404-94d2-7fb4239dbc11",
   "metadata": {},
   "outputs": [],
   "source": [
    "# 把 maix_train 项目的classifier抽离出来\n",
    "# 基准测试通过"
   ]
  },
  {
   "cell_type": "markdown",
   "id": "55bc3a0d-8f35-43a3-9b15-161e0b6d531d",
   "metadata": {},
   "source": [
    "## python包"
   ]
  },
  {
   "cell_type": "code",
   "execution_count": 2,
   "id": "14b91a0a-7d8d-45fb-9925-8359cced3e8c",
   "metadata": {},
   "outputs": [],
   "source": [
    "import os, sys\n",
    "import shutil\n",
    "import time\n",
    "import traceback\n",
    "\n",
    "from train.classifier import Classifier\n",
    "from train.utils.logger import Logger, Fake_Logger\n",
    "from train.utils import gpu_utils, isascii"
   ]
  },
  {
   "cell_type": "code",
   "execution_count": null,
   "id": "09a17c45-2d27-4a7f-b735-6140cc6b0e0e",
   "metadata": {},
   "outputs": [],
   "source": [
    "from train.classifier.instance import config\n",
    "\n",
    "#config.classifier_train_epochs = 40 # 修改训练轮数"
   ]
  },
  {
   "cell_type": "markdown",
   "id": "e3719f0d-b37a-4be2-98cf-c650afad18ff",
   "metadata": {},
   "source": [
    "## config setting"
   ]
  },
  {
   "cell_type": "code",
   "execution_count": 3,
   "id": "05715507-1f9a-4b67-9fd4-25686950f8c1",
   "metadata": {},
   "outputs": [
    {
     "name": "stdout",
     "output_type": "stream",
     "text": [
      "2021-09-17_15_17\n"
     ]
    }
   ],
   "source": [
    "cur_time = time.strftime(\"%Y-%m-%d_%H_%M\", time.localtime())\n",
    "print(cur_time)"
   ]
  },
  {
   "cell_type": "code",
   "execution_count": 4,
   "id": "19b14c7e-a890-423e-ad0d-f8de457c7ead",
   "metadata": {},
   "outputs": [
    {
     "name": "stdout",
     "output_type": "stream",
     "text": [
      "../ubuntu/out/imgn_2021-09-17_15_17/\n"
     ]
    }
   ],
   "source": [
    "ubuntu_path = f\"out/imgn_{cur_time}\" #用来mac中生成kmodel\n",
    "temp_saves_dir = f\"../ubuntu/{ubuntu_path}/\" #保存文件目录\n",
    "datasets_dir = \"../datasets/ts_test_classifier_datasets\"#数据源\n",
    "print(temp_saves_dir)"
   ]
  },
  {
   "cell_type": "markdown",
   "id": "c08d2070-1af8-4f41-b4b1-1d05614bfba0",
   "metadata": {},
   "source": [
    "## 训练函数"
   ]
  },
  {
   "cell_type": "code",
   "execution_count": 5,
   "id": "3978af95-46fb-4994-b987-6d0e3166cb28",
   "metadata": {},
   "outputs": [],
   "source": [
    "def clear_save_path(temp_datasets_dir=\"\"):\n",
    "    if temp_datasets_dir ==\"\":\n",
    "        return False\n",
    "    #clear\n",
    "    if os.path.exists(temp_datasets_dir):\n",
    "        shutil.rmtree(temp_datasets_dir)\n",
    "    os.makedirs(temp_datasets_dir)\n",
    "    return True\n",
    "\n",
    "def creat_sample_images(obj,temp_datasets_dir=\"\",sample_image_num = 20):\n",
    "    dataset_sample_images_path = os.path.join(temp_datasets_dir, \"sample_images\")\n",
    "    os.makedirs(dataset_sample_images_path)\n",
    "    obj.get_sample_images(sample_image_num, dataset_sample_images_path)\n",
    "    return True"
   ]
  },
  {
   "cell_type": "code",
   "execution_count": 6,
   "id": "f798fef0-3313-46eb-b55a-247102f894f3",
   "metadata": {},
   "outputs": [],
   "source": [
    "def classifier_train(datasets_zip_path=\"\",datasets_dir=\"\",temp_datasets_dir=\"\"):\n",
    "    from train.classifier.instance import config\n",
    "    \n",
    "    #config.classifier_train_epochs = 40 # 修改训练轮数\n",
    "    \n",
    "    #clear and creat\n",
    "    clear_save_path(temp_datasets_dir)\n",
    "    log = Logger(file_path=f\"{temp_datasets_dir}train_log.log\")\n",
    "    \n",
    "    def __on_train_progress(percent, msg):  # flag: progress\n",
    "        percent = percent*0.97 + 1\n",
    "        log.i(f\"progress: {percent}%, {msg}\")\n",
    "    \n",
    "    # 检测 GPU 可用,选择一个可用的 GPU 使用\n",
    "    try:\n",
    "        gpu = gpu_utils.select_gpu(memory_require = config.classifier_train_gpu_mem_require, tf_gpu_mem_growth=False)\n",
    "    except Exception:\n",
    "        gpu = None\n",
    "    if gpu is None:\n",
    "        if not config.allow_cpu:\n",
    "            log.e(\"no free GPU\")\n",
    "            raise Exception((TrainFailReason.ERROR_NODE_BUSY, \"node no enough GPU or GPU memory and not support CPU train\"))\n",
    "        log.i(\"no GPU, will use [CPU]\")\n",
    "    else:\n",
    "        log.i(\"select\", gpu)\n",
    "\n",
    "    # set value\n",
    "    best_h5_model_path  = os.path.join(temp_datasets_dir, \"m_best.h5\")\n",
    "    final_h5_model_path = os.path.join(temp_datasets_dir, \"m.h5\")\n",
    "    result_dir = os.path.join(temp_datasets_dir, \"result\")\n",
    "    os.makedirs(result_dir)\n",
    "    result_report_img_path = os.path.join(result_dir, \"report.jpg\")\n",
    "    tflite_path = os.path.join(temp_datasets_dir, \"m.tflite\")\n",
    "    \n",
    "    # 启动训练\n",
    "    try:\n",
    "        classifier = Classifier(datasets_zip=datasets_zip_path, datasets_dir=datasets_dir, unpack_dir =temp_datasets_dir,\n",
    "                                logger=log,\n",
    "                                max_classes_num=config.classifier_train_max_classes_num,\n",
    "                                min_images_num=config.classifier_train_one_class_min_img_num,\n",
    "                                max_images_num=config.classifier_train_one_class_max_img_num,\n",
    "                                allow_reshape=False)\n",
    "    except Exception as e:\n",
    "        log.e(\"train datasets not valid: {}\".format(e))\n",
    "        raise Exception((\"TrainFailReason.ERROR_PARAM\", \"datasets not valid: {}\".format(str(e))))\n",
    "    try:\n",
    "        classifier.train(epochs=config.classifier_train_epochs, batch_size=config.classifier_train_batch_size, \n",
    "                         progress_cb= __on_train_progress)\n",
    "    except Exception as e:\n",
    "        log.e(\"train error: {}\".format(e))\n",
    "        traceback.print_exc()\n",
    "        raise Exception((\"TrainFailReason.ERROR_INTERNAL\", \"error occurred when train, error: {}\".format(str(e)) ))\n",
    "\n",
    "    ## sample_image\n",
    "    creat_sample_images(classifier,temp_datasets_dir,config.sample_image_num)\n",
    "    \n",
    "    ## creat tflite\n",
    "    classifier.save(tflite_path=tflite_path)\n",
    "    \n",
    "    # 训练结束, 生成报告\n",
    "    log.i(\"train ok, now generate report\")\n",
    "    classifier.report(result_report_img_path)\n",
    "    \n",
    "    return True, classifier, final_h5_model_path ,classifier.get_labels()\n"
   ]
  },
  {
   "cell_type": "code",
   "execution_count": 7,
   "id": "181fc08f-9485-4b38-8a46-d33258914e44",
   "metadata": {},
   "outputs": [
    {
     "name": "stdout",
     "output_type": "stream",
     "text": [
      "<os._wrap_close object at 0x7fcb598dcf50>\n"
     ]
    }
   ],
   "source": [
    "## 清理隐藏文件\n",
    "#cmd1 = f\"rm -f {datasets_dir}/.DS_Store\"\n",
    "#os.popen(cmd1)\n",
    "cmd = f\"rm -f {datasets_dir}/*/.DS_Store\"\n",
    "f = os.popen(cmd)\n",
    "print(f)"
   ]
  },
  {
   "cell_type": "markdown",
   "id": "1b01038f-6177-4415-a431-fc3928f66ff8",
   "metadata": {},
   "source": [
    "## 训练"
   ]
  },
  {
   "cell_type": "code",
   "execution_count": 8,
   "id": "a8ac7a7e-1ad1-49a8-97f0-702a21b5fd49",
   "metadata": {},
   "outputs": [
    {
     "name": "stdout",
     "output_type": "stream",
     "text": [
      "select gpu fail:NVML Shared Library Not Found\n"
     ]
    },
    {
     "name": "stderr",
     "output_type": "stream",
     "text": [
      "2021-09-17 15:17:49,016 - [INFO]:  no GPU, will use [CPU]\n"
     ]
    },
    {
     "name": "stdout",
     "output_type": "stream",
     "text": [
      "['0', '1'] ---------\n"
     ]
    },
    {
     "name": "stderr",
     "output_type": "stream",
     "text": [
      "2021-09-17 15:17:52,826 - [INFO]:  train, labels:['0', '1']\n",
      "2021-09-17 15:17:52,827 - [DEBUG]:  train, datasets dir:../datasets/ts_test_classifier_datasets\n",
      "2021-09-17 15:17:52.896520: I tensorflow/core/platform/cpu_feature_guard.cc:142] This TensorFlow binary is optimized with oneAPI Deep Neural Network Library (oneDNN) to use the following CPU instructions in performance-critical operations:  AVX2 FMA\n",
      "To enable them in other operations, rebuild TensorFlow with the appropriate compiler flags.\n",
      "/opt/anaconda3/envs/k210v37/lib/python3.7/site-packages/keras/optimizer_v2/optimizer_v2.py:356: UserWarning: The `lr` argument is deprecated, use `learning_rate` instead.\n",
      "  \"The `lr` argument is deprecated, use `learning_rate` instead.\")\n"
     ]
    },
    {
     "name": "stdout",
     "output_type": "stream",
     "text": [
      "Model: \"model\"\n",
      "_________________________________________________________________\n",
      "Layer (type)                 Output Shape              Param #   \n",
      "=================================================================\n",
      "input_1 (InputLayer)         [(None, 224, 224, 3)]     0         \n",
      "_________________________________________________________________\n",
      "conv1_pad (ZeroPadding2D)    (None, 226, 226, 3)       0         \n",
      "_________________________________________________________________\n",
      "conv1 (Conv2D)               (None, 112, 112, 24)      648       \n",
      "_________________________________________________________________\n",
      "conv1_bn (BatchNormalization (None, 112, 112, 24)      96        \n",
      "_________________________________________________________________\n",
      "conv1_relu (ReLU)            (None, 112, 112, 24)      0         \n",
      "_________________________________________________________________\n",
      "conv_dw_1 (DepthwiseConv2D)  (None, 112, 112, 24)      216       \n",
      "_________________________________________________________________\n",
      "conv_dw_1_bn (BatchNormaliza (None, 112, 112, 24)      96        \n",
      "_________________________________________________________________\n",
      "conv_dw_1_relu (ReLU)        (None, 112, 112, 24)      0         \n",
      "_________________________________________________________________\n",
      "conv_pw_1 (Conv2D)           (None, 112, 112, 48)      1152      \n",
      "_________________________________________________________________\n",
      "conv_pw_1_bn (BatchNormaliza (None, 112, 112, 48)      192       \n",
      "_________________________________________________________________\n",
      "conv_pw_1_relu (ReLU)        (None, 112, 112, 48)      0         \n",
      "_________________________________________________________________\n",
      "conv_pad_2 (ZeroPadding2D)   (None, 114, 114, 48)      0         \n",
      "_________________________________________________________________\n",
      "conv_dw_2 (DepthwiseConv2D)  (None, 56, 56, 48)        432       \n",
      "_________________________________________________________________\n",
      "conv_dw_2_bn (BatchNormaliza (None, 56, 56, 48)        192       \n",
      "_________________________________________________________________\n",
      "conv_dw_2_relu (ReLU)        (None, 56, 56, 48)        0         \n",
      "_________________________________________________________________\n",
      "conv_pw_2 (Conv2D)           (None, 56, 56, 96)        4608      \n",
      "_________________________________________________________________\n",
      "conv_pw_2_bn (BatchNormaliza (None, 56, 56, 96)        384       \n",
      "_________________________________________________________________\n",
      "conv_pw_2_relu (ReLU)        (None, 56, 56, 96)        0         \n",
      "_________________________________________________________________\n",
      "conv_dw_3 (DepthwiseConv2D)  (None, 56, 56, 96)        864       \n",
      "_________________________________________________________________\n",
      "conv_dw_3_bn (BatchNormaliza (None, 56, 56, 96)        384       \n",
      "_________________________________________________________________\n",
      "conv_dw_3_relu (ReLU)        (None, 56, 56, 96)        0         \n",
      "_________________________________________________________________\n",
      "conv_pw_3 (Conv2D)           (None, 56, 56, 96)        9216      \n",
      "_________________________________________________________________\n",
      "conv_pw_3_bn (BatchNormaliza (None, 56, 56, 96)        384       \n",
      "_________________________________________________________________\n",
      "conv_pw_3_relu (ReLU)        (None, 56, 56, 96)        0         \n",
      "_________________________________________________________________\n",
      "conv_pad_4 (ZeroPadding2D)   (None, 58, 58, 96)        0         \n",
      "_________________________________________________________________\n",
      "conv_dw_4 (DepthwiseConv2D)  (None, 28, 28, 96)        864       \n",
      "_________________________________________________________________\n",
      "conv_dw_4_bn (BatchNormaliza (None, 28, 28, 96)        384       \n",
      "_________________________________________________________________\n",
      "conv_dw_4_relu (ReLU)        (None, 28, 28, 96)        0         \n",
      "_________________________________________________________________\n",
      "conv_pw_4 (Conv2D)           (None, 28, 28, 192)       18432     \n",
      "_________________________________________________________________\n",
      "conv_pw_4_bn (BatchNormaliza (None, 28, 28, 192)       768       \n",
      "_________________________________________________________________\n",
      "conv_pw_4_relu (ReLU)        (None, 28, 28, 192)       0         \n",
      "_________________________________________________________________\n",
      "conv_dw_5 (DepthwiseConv2D)  (None, 28, 28, 192)       1728      \n",
      "_________________________________________________________________\n",
      "conv_dw_5_bn (BatchNormaliza (None, 28, 28, 192)       768       \n",
      "_________________________________________________________________\n",
      "conv_dw_5_relu (ReLU)        (None, 28, 28, 192)       0         \n",
      "_________________________________________________________________\n",
      "conv_pw_5 (Conv2D)           (None, 28, 28, 192)       36864     \n",
      "_________________________________________________________________\n",
      "conv_pw_5_bn (BatchNormaliza (None, 28, 28, 192)       768       \n",
      "_________________________________________________________________\n",
      "conv_pw_5_relu (ReLU)        (None, 28, 28, 192)       0         \n",
      "_________________________________________________________________\n",
      "conv_pad_6 (ZeroPadding2D)   (None, 30, 30, 192)       0         \n",
      "_________________________________________________________________\n",
      "conv_dw_6 (DepthwiseConv2D)  (None, 14, 14, 192)       1728      \n",
      "_________________________________________________________________\n",
      "conv_dw_6_bn (BatchNormaliza (None, 14, 14, 192)       768       \n",
      "_________________________________________________________________\n",
      "conv_dw_6_relu (ReLU)        (None, 14, 14, 192)       0         \n",
      "_________________________________________________________________\n",
      "conv_pw_6 (Conv2D)           (None, 14, 14, 384)       73728     \n",
      "_________________________________________________________________\n",
      "conv_pw_6_bn (BatchNormaliza (None, 14, 14, 384)       1536      \n",
      "_________________________________________________________________\n",
      "conv_pw_6_relu (ReLU)        (None, 14, 14, 384)       0         \n",
      "_________________________________________________________________\n",
      "conv_dw_7 (DepthwiseConv2D)  (None, 14, 14, 384)       3456      \n",
      "_________________________________________________________________\n",
      "conv_dw_7_bn (BatchNormaliza (None, 14, 14, 384)       1536      \n",
      "_________________________________________________________________\n",
      "conv_dw_7_relu (ReLU)        (None, 14, 14, 384)       0         \n",
      "_________________________________________________________________\n",
      "conv_pw_7 (Conv2D)           (None, 14, 14, 384)       147456    \n",
      "_________________________________________________________________\n",
      "conv_pw_7_bn (BatchNormaliza (None, 14, 14, 384)       1536      \n",
      "_________________________________________________________________\n",
      "conv_pw_7_relu (ReLU)        (None, 14, 14, 384)       0         \n",
      "_________________________________________________________________\n",
      "conv_dw_8 (DepthwiseConv2D)  (None, 14, 14, 384)       3456      \n",
      "_________________________________________________________________\n",
      "conv_dw_8_bn (BatchNormaliza (None, 14, 14, 384)       1536      \n",
      "_________________________________________________________________\n",
      "conv_dw_8_relu (ReLU)        (None, 14, 14, 384)       0         \n",
      "_________________________________________________________________\n",
      "conv_pw_8 (Conv2D)           (None, 14, 14, 384)       147456    \n",
      "_________________________________________________________________\n",
      "conv_pw_8_bn (BatchNormaliza (None, 14, 14, 384)       1536      \n",
      "_________________________________________________________________\n",
      "conv_pw_8_relu (ReLU)        (None, 14, 14, 384)       0         \n",
      "_________________________________________________________________\n",
      "conv_dw_9 (DepthwiseConv2D)  (None, 14, 14, 384)       3456      \n",
      "_________________________________________________________________\n",
      "conv_dw_9_bn (BatchNormaliza (None, 14, 14, 384)       1536      \n",
      "_________________________________________________________________\n",
      "conv_dw_9_relu (ReLU)        (None, 14, 14, 384)       0         \n",
      "_________________________________________________________________\n",
      "conv_pw_9 (Conv2D)           (None, 14, 14, 384)       147456    \n",
      "_________________________________________________________________\n",
      "conv_pw_9_bn (BatchNormaliza (None, 14, 14, 384)       1536      \n",
      "_________________________________________________________________\n",
      "conv_pw_9_relu (ReLU)        (None, 14, 14, 384)       0         \n",
      "_________________________________________________________________\n",
      "conv_dw_10 (DepthwiseConv2D) (None, 14, 14, 384)       3456      \n",
      "_________________________________________________________________\n",
      "conv_dw_10_bn (BatchNormaliz (None, 14, 14, 384)       1536      \n",
      "_________________________________________________________________\n",
      "conv_dw_10_relu (ReLU)       (None, 14, 14, 384)       0         \n",
      "_________________________________________________________________\n",
      "conv_pw_10 (Conv2D)          (None, 14, 14, 384)       147456    \n",
      "_________________________________________________________________\n",
      "conv_pw_10_bn (BatchNormaliz (None, 14, 14, 384)       1536      \n",
      "_________________________________________________________________\n",
      "conv_pw_10_relu (ReLU)       (None, 14, 14, 384)       0         \n",
      "_________________________________________________________________\n",
      "conv_dw_11 (DepthwiseConv2D) (None, 14, 14, 384)       3456      \n",
      "_________________________________________________________________\n",
      "conv_dw_11_bn (BatchNormaliz (None, 14, 14, 384)       1536      \n",
      "_________________________________________________________________\n",
      "conv_dw_11_relu (ReLU)       (None, 14, 14, 384)       0         \n",
      "_________________________________________________________________\n",
      "conv_pw_11 (Conv2D)          (None, 14, 14, 384)       147456    \n",
      "_________________________________________________________________\n",
      "conv_pw_11_bn (BatchNormaliz (None, 14, 14, 384)       1536      \n",
      "_________________________________________________________________\n",
      "conv_pw_11_relu (ReLU)       (None, 14, 14, 384)       0         \n",
      "_________________________________________________________________\n",
      "conv_dw_12 (DepthwiseConv2D) (None, 14, 14, 384)       3456      \n",
      "_________________________________________________________________\n",
      "conv_dw_12_bn (BatchNormaliz (None, 14, 14, 384)       1536      \n",
      "_________________________________________________________________\n",
      "conv_dw_12_relu (ReLU)       (None, 14, 14, 384)       0         \n",
      "_________________________________________________________________\n",
      "conv_pw_12 (Conv2D)          (None, 14, 14, 768)       294912    \n",
      "_________________________________________________________________\n",
      "conv_pw_12_bn (BatchNormaliz (None, 14, 14, 768)       3072      \n",
      "_________________________________________________________________\n",
      "conv_pw_12_relu (ReLU)       (None, 14, 14, 768)       0         \n",
      "_________________________________________________________________\n",
      "conv_dw_13 (DepthwiseConv2D) (None, 14, 14, 768)       6912      \n",
      "_________________________________________________________________\n",
      "conv_dw_13_bn (BatchNormaliz (None, 14, 14, 768)       3072      \n",
      "_________________________________________________________________\n",
      "conv_dw_13_relu (ReLU)       (None, 14, 14, 768)       0         \n",
      "_________________________________________________________________\n",
      "conv_pw_13 (Conv2D)          (None, 14, 14, 768)       589824    \n",
      "_________________________________________________________________\n",
      "conv_pw_13_bn (BatchNormaliz (None, 14, 14, 768)       3072      \n",
      "_________________________________________________________________\n",
      "conv_pw_13_relu (ReLU)       (None, 14, 14, 768)       0         \n",
      "_________________________________________________________________\n",
      "global_average_pooling2d (Gl (None, 768)               0         \n",
      "_________________________________________________________________\n",
      "dropout (Dropout)            (None, 768)               0         \n",
      "_________________________________________________________________\n",
      "dense (Dense)                (None, 2)                 1538      \n",
      "=================================================================\n",
      "Total params: 1,834,514\n",
      "Trainable params: 1,538\n",
      "Non-trainable params: 1,832,976\n",
      "_________________________________________________________________\n",
      "Found 480 images belonging to 2 classes.\n",
      "Found 120 images belonging to 2 classes.\n"
     ]
    },
    {
     "name": "stderr",
     "output_type": "stream",
     "text": [
      "2021-09-17 15:17:53,518 - [INFO]:  train data:480, valid data:120\n",
      "/opt/anaconda3/envs/k210v37/lib/python3.7/site-packages/keras/engine/training.py:1972: UserWarning: `Model.fit_generator` is deprecated and will be removed in a future version. Please use `Model.fit`, which supports generators.\n",
      "  warnings.warn('`Model.fit_generator` is deprecated and '\n",
      "/opt/anaconda3/envs/k210v37/lib/python3.7/site-packages/keras_preprocessing/image/image_data_generator.py:720: UserWarning: This ImageDataGenerator specifies `featurewise_center`, but it hasn't been fit on any training data. Fit it first by calling `.fit(numpy_data)`.\n",
      "  warnings.warn('This ImageDataGenerator specifies '\n",
      "/opt/anaconda3/envs/k210v37/lib/python3.7/site-packages/keras_preprocessing/image/image_data_generator.py:728: UserWarning: This ImageDataGenerator specifies `featurewise_std_normalization`, but it hasn't been fit on any training data. Fit it first by calling `.fit(numpy_data)`.\n",
      "  warnings.warn('This ImageDataGenerator specifies '\n",
      "2021-09-17 15:17:53,608 - [INFO]:  train start\n",
      "2021-09-17 15:17:53,609 - [INFO]:  progress: 1.0%, train start\n",
      "2021-09-17 15:17:53.618269: I tensorflow/compiler/mlir/mlir_graph_optimization_pass.cc:185] None of the MLIR Optimization Passes are enabled (registered 2)\n",
      "2021-09-17 15:17:53,641 - [INFO]:  epoch 0 start\n"
     ]
    },
    {
     "name": "stdout",
     "output_type": "stream",
     "text": [
      "Epoch 1/40\n",
      "96/96 [==============================] - 11s 106ms/step - loss: 0.7373 - accuracy: 0.5562 - val_loss: 0.6580 - val_accuracy: 0.6167\n"
     ]
    },
    {
     "name": "stderr",
     "output_type": "stream",
     "text": [
      "2021-09-17 15:18:04,841 - [INFO]:  epoch 0 end: {'loss': 0.7372848987579346, 'accuracy': 0.5562499761581421, 'val_loss': 0.6580272912979126, 'val_accuracy': 0.6166666746139526}\n",
      "2021-09-17 15:18:04,842 - [INFO]:  progress: 3.425%, train epoch end\n",
      "2021-09-17 15:18:04,859 - [INFO]:  epoch 1 start\n"
     ]
    },
    {
     "name": "stdout",
     "output_type": "stream",
     "text": [
      "Epoch 2/40\n",
      "96/96 [==============================] - 10s 100ms/step - loss: 0.6084 - accuracy: 0.6854 - val_loss: 0.5728 - val_accuracy: 0.7000\n"
     ]
    },
    {
     "name": "stderr",
     "output_type": "stream",
     "text": [
      "2021-09-17 15:18:14,526 - [INFO]:  epoch 1 end: {'loss': 0.6084460020065308, 'accuracy': 0.6854166388511658, 'val_loss': 0.5727750062942505, 'val_accuracy': 0.699999988079071}\n",
      "2021-09-17 15:18:14,527 - [INFO]:  progress: 5.85%, train epoch end\n",
      "2021-09-17 15:18:14,545 - [INFO]:  epoch 2 start\n"
     ]
    },
    {
     "name": "stdout",
     "output_type": "stream",
     "text": [
      "Epoch 3/40\n",
      "96/96 [==============================] - 10s 101ms/step - loss: 0.5630 - accuracy: 0.7333 - val_loss: 0.5146 - val_accuracy: 0.7667\n"
     ]
    },
    {
     "name": "stderr",
     "output_type": "stream",
     "text": [
      "2021-09-17 15:18:24,315 - [INFO]:  epoch 2 end: {'loss': 0.5629674792289734, 'accuracy': 0.7333333492279053, 'val_loss': 0.5146294236183167, 'val_accuracy': 0.7666666507720947}\n",
      "2021-09-17 15:18:24,316 - [INFO]:  progress: 8.274999999999999%, train epoch end\n",
      "2021-09-17 15:18:24,334 - [INFO]:  epoch 3 start\n"
     ]
    },
    {
     "name": "stdout",
     "output_type": "stream",
     "text": [
      "Epoch 4/40\n",
      "96/96 [==============================] - 10s 102ms/step - loss: 0.4977 - accuracy: 0.8104 - val_loss: 0.4919 - val_accuracy: 0.7917\n"
     ]
    },
    {
     "name": "stderr",
     "output_type": "stream",
     "text": [
      "2021-09-17 15:18:34,193 - [INFO]:  epoch 3 end: {'loss': 0.49774011969566345, 'accuracy': 0.8104166388511658, 'val_loss': 0.49188271164894104, 'val_accuracy': 0.7916666865348816}\n",
      "2021-09-17 15:18:34,194 - [INFO]:  progress: 10.7%, train epoch end\n",
      "2021-09-17 15:18:34,212 - [INFO]:  epoch 4 start\n"
     ]
    },
    {
     "name": "stdout",
     "output_type": "stream",
     "text": [
      "Epoch 5/40\n",
      "96/96 [==============================] - 10s 103ms/step - loss: 0.4414 - accuracy: 0.8604 - val_loss: 0.4119 - val_accuracy: 0.8500\n"
     ]
    },
    {
     "name": "stderr",
     "output_type": "stream",
     "text": [
      "2021-09-17 15:18:44,087 - [INFO]:  epoch 4 end: {'loss': 0.44135671854019165, 'accuracy': 0.8604166507720947, 'val_loss': 0.4119475185871124, 'val_accuracy': 0.8500000238418579}\n",
      "2021-09-17 15:18:44,088 - [INFO]:  progress: 13.125%, train epoch end\n",
      "2021-09-17 15:18:44,105 - [INFO]:  epoch 5 start\n"
     ]
    },
    {
     "name": "stdout",
     "output_type": "stream",
     "text": [
      "Epoch 6/40\n",
      "96/96 [==============================] - 10s 100ms/step - loss: 0.3964 - accuracy: 0.8729 - val_loss: 0.3950 - val_accuracy: 0.8750\n"
     ]
    },
    {
     "name": "stderr",
     "output_type": "stream",
     "text": [
      "2021-09-17 15:18:53,761 - [INFO]:  epoch 5 end: {'loss': 0.3964363634586334, 'accuracy': 0.8729166388511658, 'val_loss': 0.3950146734714508, 'val_accuracy': 0.875}\n",
      "2021-09-17 15:18:53,762 - [INFO]:  progress: 15.549999999999999%, train epoch end\n",
      "2021-09-17 15:18:53,783 - [INFO]:  epoch 6 start\n"
     ]
    },
    {
     "name": "stdout",
     "output_type": "stream",
     "text": [
      "Epoch 7/40\n",
      "96/96 [==============================] - 10s 104ms/step - loss: 0.3832 - accuracy: 0.8750 - val_loss: 0.3906 - val_accuracy: 0.8750\n"
     ]
    },
    {
     "name": "stderr",
     "output_type": "stream",
     "text": [
      "2021-09-17 15:19:03,821 - [INFO]:  epoch 6 end: {'loss': 0.3832071125507355, 'accuracy': 0.875, 'val_loss': 0.3905850648880005, 'val_accuracy': 0.875}\n",
      "2021-09-17 15:19:03,821 - [INFO]:  progress: 17.974999999999998%, train epoch end\n",
      "2021-09-17 15:19:03,840 - [INFO]:  epoch 7 start\n"
     ]
    },
    {
     "name": "stdout",
     "output_type": "stream",
     "text": [
      "Epoch 8/40\n",
      "96/96 [==============================] - 10s 104ms/step - loss: 0.3550 - accuracy: 0.9021 - val_loss: 0.4018 - val_accuracy: 0.8667\n"
     ]
    },
    {
     "name": "stderr",
     "output_type": "stream",
     "text": [
      "2021-09-17 15:19:13,904 - [INFO]:  epoch 7 end: {'loss': 0.3550301194190979, 'accuracy': 0.9020833373069763, 'val_loss': 0.4018350839614868, 'val_accuracy': 0.8666666746139526}\n",
      "2021-09-17 15:19:13,904 - [INFO]:  progress: 20.4%, train epoch end\n",
      "2021-09-17 15:19:13,923 - [INFO]:  epoch 8 start\n"
     ]
    },
    {
     "name": "stdout",
     "output_type": "stream",
     "text": [
      "Epoch 9/40\n",
      "96/96 [==============================] - 10s 103ms/step - loss: 0.3412 - accuracy: 0.9208 - val_loss: 0.4003 - val_accuracy: 0.8250\n"
     ]
    },
    {
     "name": "stderr",
     "output_type": "stream",
     "text": [
      "2021-09-17 15:19:23,844 - [INFO]:  epoch 8 end: {'loss': 0.34123292565345764, 'accuracy': 0.9208333492279053, 'val_loss': 0.40031638741493225, 'val_accuracy': 0.824999988079071}\n",
      "2021-09-17 15:19:23,844 - [INFO]:  progress: 22.825%, train epoch end\n",
      "2021-09-17 15:19:23,864 - [INFO]:  epoch 9 start\n"
     ]
    },
    {
     "name": "stdout",
     "output_type": "stream",
     "text": [
      "Epoch 10/40\n",
      "96/96 [==============================] - 10s 108ms/step - loss: 0.3118 - accuracy: 0.9292 - val_loss: 0.3495 - val_accuracy: 0.9083\n"
     ]
    },
    {
     "name": "stderr",
     "output_type": "stream",
     "text": [
      "2021-09-17 15:19:34,307 - [INFO]:  epoch 9 end: {'loss': 0.3117819130420685, 'accuracy': 0.9291666746139526, 'val_loss': 0.34949108958244324, 'val_accuracy': 0.9083333611488342}\n",
      "2021-09-17 15:19:34,307 - [INFO]:  progress: 25.25%, train epoch end\n",
      "2021-09-17 15:19:34,325 - [INFO]:  epoch 10 start\n"
     ]
    },
    {
     "name": "stdout",
     "output_type": "stream",
     "text": [
      "Epoch 11/40\n",
      "96/96 [==============================] - 10s 106ms/step - loss: 0.2925 - accuracy: 0.9458 - val_loss: 0.3366 - val_accuracy: 0.8750\n"
     ]
    },
    {
     "name": "stderr",
     "output_type": "stream",
     "text": [
      "2021-09-17 15:19:44,546 - [INFO]:  epoch 10 end: {'loss': 0.29249632358551025, 'accuracy': 0.9458333253860474, 'val_loss': 0.336593896150589, 'val_accuracy': 0.875}\n",
      "2021-09-17 15:19:44,546 - [INFO]:  progress: 27.675000000000004%, train epoch end\n",
      "2021-09-17 15:19:44,565 - [INFO]:  epoch 11 start\n"
     ]
    },
    {
     "name": "stdout",
     "output_type": "stream",
     "text": [
      "Epoch 12/40\n",
      "96/96 [==============================] - 11s 111ms/step - loss: 0.2837 - accuracy: 0.9292 - val_loss: 0.3253 - val_accuracy: 0.9167\n"
     ]
    },
    {
     "name": "stderr",
     "output_type": "stream",
     "text": [
      "2021-09-17 15:19:55,289 - [INFO]:  epoch 11 end: {'loss': 0.2837304174900055, 'accuracy': 0.9291666746139526, 'val_loss': 0.32527145743370056, 'val_accuracy': 0.9166666865348816}\n",
      "2021-09-17 15:19:55,289 - [INFO]:  progress: 30.099999999999998%, train epoch end\n",
      "2021-09-17 15:19:55,310 - [INFO]:  epoch 12 start\n"
     ]
    },
    {
     "name": "stdout",
     "output_type": "stream",
     "text": [
      "Epoch 13/40\n",
      "96/96 [==============================] - 11s 113ms/step - loss: 0.2820 - accuracy: 0.9312 - val_loss: 0.3314 - val_accuracy: 0.8833\n"
     ]
    },
    {
     "name": "stderr",
     "output_type": "stream",
     "text": [
      "2021-09-17 15:20:06,187 - [INFO]:  epoch 12 end: {'loss': 0.2819961607456207, 'accuracy': 0.9312499761581421, 'val_loss': 0.33144038915634155, 'val_accuracy': 0.8833333253860474}\n",
      "2021-09-17 15:20:06,187 - [INFO]:  progress: 32.525%, train epoch end\n",
      "2021-09-17 15:20:06,207 - [INFO]:  epoch 13 start\n"
     ]
    },
    {
     "name": "stdout",
     "output_type": "stream",
     "text": [
      "Epoch 14/40\n",
      "96/96 [==============================] - 11s 118ms/step - loss: 0.2779 - accuracy: 0.9375 - val_loss: 0.3167 - val_accuracy: 0.8833\n"
     ]
    },
    {
     "name": "stderr",
     "output_type": "stream",
     "text": [
      "2021-09-17 15:20:17,631 - [INFO]:  epoch 13 end: {'loss': 0.27794429659843445, 'accuracy': 0.9375, 'val_loss': 0.3167019486427307, 'val_accuracy': 0.8833333253860474}\n",
      "2021-09-17 15:20:17,632 - [INFO]:  progress: 34.949999999999996%, train epoch end\n",
      "2021-09-17 15:20:17,650 - [INFO]:  epoch 14 start\n"
     ]
    },
    {
     "name": "stdout",
     "output_type": "stream",
     "text": [
      "Epoch 15/40\n",
      "96/96 [==============================] - 12s 122ms/step - loss: 0.2657 - accuracy: 0.9417 - val_loss: 0.3072 - val_accuracy: 0.8833\n"
     ]
    },
    {
     "name": "stderr",
     "output_type": "stream",
     "text": [
      "2021-09-17 15:20:29,406 - [INFO]:  epoch 14 end: {'loss': 0.2657057046890259, 'accuracy': 0.9416666626930237, 'val_loss': 0.307193785905838, 'val_accuracy': 0.8833333253860474}\n",
      "2021-09-17 15:20:29,407 - [INFO]:  progress: 37.375%, train epoch end\n",
      "2021-09-17 15:20:29,426 - [INFO]:  epoch 15 start\n"
     ]
    },
    {
     "name": "stdout",
     "output_type": "stream",
     "text": [
      "Epoch 16/40\n",
      "96/96 [==============================] - 12s 125ms/step - loss: 0.2498 - accuracy: 0.9375 - val_loss: 0.2935 - val_accuracy: 0.8917\n"
     ]
    },
    {
     "name": "stderr",
     "output_type": "stream",
     "text": [
      "2021-09-17 15:20:41,423 - [INFO]:  epoch 15 end: {'loss': 0.2498035877943039, 'accuracy': 0.9375, 'val_loss': 0.29350486397743225, 'val_accuracy': 0.8916666507720947}\n",
      "2021-09-17 15:20:41,423 - [INFO]:  progress: 39.8%, train epoch end\n",
      "2021-09-17 15:20:41,443 - [INFO]:  epoch 16 start\n"
     ]
    },
    {
     "name": "stdout",
     "output_type": "stream",
     "text": [
      "Epoch 17/40\n",
      "96/96 [==============================] - 12s 122ms/step - loss: 0.2455 - accuracy: 0.9354 - val_loss: 0.2761 - val_accuracy: 0.8917\n"
     ]
    },
    {
     "name": "stderr",
     "output_type": "stream",
     "text": [
      "2021-09-17 15:20:53,179 - [INFO]:  epoch 16 end: {'loss': 0.24554558098316193, 'accuracy': 0.9354166388511658, 'val_loss': 0.27608177065849304, 'val_accuracy': 0.8916666507720947}\n",
      "2021-09-17 15:20:53,180 - [INFO]:  progress: 42.225%, train epoch end\n",
      "2021-09-17 15:20:53,198 - [INFO]:  epoch 17 start\n"
     ]
    },
    {
     "name": "stdout",
     "output_type": "stream",
     "text": [
      "Epoch 18/40\n",
      "96/96 [==============================] - 12s 124ms/step - loss: 0.2392 - accuracy: 0.9375 - val_loss: 0.2506 - val_accuracy: 0.9333\n"
     ]
    },
    {
     "name": "stderr",
     "output_type": "stream",
     "text": [
      "2021-09-17 15:21:05,122 - [INFO]:  epoch 17 end: {'loss': 0.23923468589782715, 'accuracy': 0.9375, 'val_loss': 0.250642329454422, 'val_accuracy': 0.9333333373069763}\n",
      "2021-09-17 15:21:05,122 - [INFO]:  progress: 44.65%, train epoch end\n",
      "2021-09-17 15:21:05,141 - [INFO]:  epoch 18 start\n"
     ]
    },
    {
     "name": "stdout",
     "output_type": "stream",
     "text": [
      "Epoch 19/40\n",
      "96/96 [==============================] - 12s 126ms/step - loss: 0.2312 - accuracy: 0.9479 - val_loss: 0.2663 - val_accuracy: 0.9083\n"
     ]
    },
    {
     "name": "stderr",
     "output_type": "stream",
     "text": [
      "2021-09-17 15:21:17,315 - [INFO]:  epoch 18 end: {'loss': 0.23122526705265045, 'accuracy': 0.9479166865348816, 'val_loss': 0.26629072427749634, 'val_accuracy': 0.9083333611488342}\n",
      "2021-09-17 15:21:17,316 - [INFO]:  progress: 47.074999999999996%, train epoch end\n",
      "2021-09-17 15:21:17,339 - [INFO]:  epoch 19 start\n"
     ]
    },
    {
     "name": "stdout",
     "output_type": "stream",
     "text": [
      "Epoch 20/40\n",
      "96/96 [==============================] - 13s 133ms/step - loss: 0.2073 - accuracy: 0.9604 - val_loss: 0.2760 - val_accuracy: 0.9000\n"
     ]
    },
    {
     "name": "stderr",
     "output_type": "stream",
     "text": [
      "2021-09-17 15:21:30,182 - [INFO]:  epoch 19 end: {'loss': 0.207275390625, 'accuracy': 0.9604166746139526, 'val_loss': 0.276022344827652, 'val_accuracy': 0.8999999761581421}\n",
      "2021-09-17 15:21:30,183 - [INFO]:  progress: 49.5%, train epoch end\n",
      "2021-09-17 15:21:30,202 - [INFO]:  epoch 20 start\n"
     ]
    },
    {
     "name": "stdout",
     "output_type": "stream",
     "text": [
      "Epoch 21/40\n",
      "96/96 [==============================] - 12s 129ms/step - loss: 0.2181 - accuracy: 0.9354 - val_loss: 0.2613 - val_accuracy: 0.9250\n"
     ]
    },
    {
     "name": "stderr",
     "output_type": "stream",
     "text": [
      "2021-09-17 15:21:42,660 - [INFO]:  epoch 20 end: {'loss': 0.2180992066860199, 'accuracy': 0.9354166388511658, 'val_loss': 0.26130983233451843, 'val_accuracy': 0.925000011920929}\n",
      "2021-09-17 15:21:42,660 - [INFO]:  progress: 51.925%, train epoch end\n",
      "2021-09-17 15:21:42,684 - [INFO]:  epoch 21 start\n"
     ]
    },
    {
     "name": "stdout",
     "output_type": "stream",
     "text": [
      "Epoch 22/40\n",
      "96/96 [==============================] - 13s 133ms/step - loss: 0.2029 - accuracy: 0.9625 - val_loss: 0.2626 - val_accuracy: 0.9250\n"
     ]
    },
    {
     "name": "stderr",
     "output_type": "stream",
     "text": [
      "2021-09-17 15:21:55,516 - [INFO]:  epoch 21 end: {'loss': 0.20294824242591858, 'accuracy': 0.9624999761581421, 'val_loss': 0.2626262605190277, 'val_accuracy': 0.925000011920929}\n",
      "2021-09-17 15:21:55,517 - [INFO]:  progress: 54.35000000000001%, train epoch end\n",
      "2021-09-17 15:21:55,536 - [INFO]:  epoch 22 start\n"
     ]
    },
    {
     "name": "stdout",
     "output_type": "stream",
     "text": [
      "Epoch 23/40\n",
      "96/96 [==============================] - 13s 136ms/step - loss: 0.2037 - accuracy: 0.9500 - val_loss: 0.2527 - val_accuracy: 0.9167\n"
     ]
    },
    {
     "name": "stderr",
     "output_type": "stream",
     "text": [
      "2021-09-17 15:22:08,594 - [INFO]:  epoch 22 end: {'loss': 0.20365561544895172, 'accuracy': 0.949999988079071, 'val_loss': 0.25269395112991333, 'val_accuracy': 0.9166666865348816}\n",
      "2021-09-17 15:22:08,595 - [INFO]:  progress: 56.77499999999999%, train epoch end\n",
      "2021-09-17 15:22:08,616 - [INFO]:  epoch 23 start\n"
     ]
    },
    {
     "name": "stdout",
     "output_type": "stream",
     "text": [
      "Epoch 24/40\n",
      "96/96 [==============================] - 14s 140ms/step - loss: 0.1907 - accuracy: 0.9750 - val_loss: 0.2585 - val_accuracy: 0.9083\n"
     ]
    },
    {
     "name": "stderr",
     "output_type": "stream",
     "text": [
      "2021-09-17 15:22:22,129 - [INFO]:  epoch 23 end: {'loss': 0.1906963288784027, 'accuracy': 0.9750000238418579, 'val_loss': 0.25850850343704224, 'val_accuracy': 0.9083333611488342}\n",
      "2021-09-17 15:22:22,130 - [INFO]:  progress: 59.199999999999996%, train epoch end\n",
      "2021-09-17 15:22:22,148 - [INFO]:  epoch 24 start\n"
     ]
    },
    {
     "name": "stdout",
     "output_type": "stream",
     "text": [
      "Epoch 25/40\n",
      "96/96 [==============================] - 13s 139ms/step - loss: 0.1887 - accuracy: 0.9583 - val_loss: 0.2745 - val_accuracy: 0.8917\n"
     ]
    },
    {
     "name": "stderr",
     "output_type": "stream",
     "text": [
      "2021-09-17 15:22:35,558 - [INFO]:  epoch 24 end: {'loss': 0.18869251012802124, 'accuracy': 0.9583333134651184, 'val_loss': 0.2745364010334015, 'val_accuracy': 0.8916666507720947}\n",
      "2021-09-17 15:22:35,559 - [INFO]:  progress: 61.625%, train epoch end\n",
      "2021-09-17 15:22:35,578 - [INFO]:  epoch 25 start\n"
     ]
    },
    {
     "name": "stdout",
     "output_type": "stream",
     "text": [
      "Epoch 26/40\n",
      "96/96 [==============================] - 14s 145ms/step - loss: 0.1929 - accuracy: 0.9417 - val_loss: 0.2639 - val_accuracy: 0.9000\n"
     ]
    },
    {
     "name": "stderr",
     "output_type": "stream",
     "text": [
      "2021-09-17 15:22:49,519 - [INFO]:  epoch 25 end: {'loss': 0.19291824102401733, 'accuracy': 0.9416666626930237, 'val_loss': 0.2639297842979431, 'val_accuracy': 0.8999999761581421}\n",
      "2021-09-17 15:22:49,520 - [INFO]:  progress: 64.05%, train epoch end\n",
      "2021-09-17 15:22:49,538 - [INFO]:  epoch 26 start\n"
     ]
    },
    {
     "name": "stdout",
     "output_type": "stream",
     "text": [
      "Epoch 27/40\n",
      "96/96 [==============================] - 14s 146ms/step - loss: 0.2033 - accuracy: 0.9375 - val_loss: 0.2154 - val_accuracy: 0.9250\n"
     ]
    },
    {
     "name": "stderr",
     "output_type": "stream",
     "text": [
      "2021-09-17 15:23:03,623 - [INFO]:  epoch 26 end: {'loss': 0.20333653688430786, 'accuracy': 0.9375, 'val_loss': 0.21543201804161072, 'val_accuracy': 0.925000011920929}\n",
      "2021-09-17 15:23:03,624 - [INFO]:  progress: 66.475%, train epoch end\n",
      "2021-09-17 15:23:03,648 - [INFO]:  epoch 27 start\n"
     ]
    },
    {
     "name": "stdout",
     "output_type": "stream",
     "text": [
      "Epoch 28/40\n",
      "96/96 [==============================] - 14s 145ms/step - loss: 0.1822 - accuracy: 0.9521 - val_loss: 0.2602 - val_accuracy: 0.9083\n"
     ]
    },
    {
     "name": "stderr",
     "output_type": "stream",
     "text": [
      "2021-09-17 15:23:17,585 - [INFO]:  epoch 27 end: {'loss': 0.1822168380022049, 'accuracy': 0.9520833492279053, 'val_loss': 0.2601751983165741, 'val_accuracy': 0.9083333611488342}\n",
      "2021-09-17 15:23:17,585 - [INFO]:  progress: 68.89999999999999%, train epoch end\n",
      "2021-09-17 15:23:17,604 - [INFO]:  epoch 28 start\n"
     ]
    },
    {
     "name": "stdout",
     "output_type": "stream",
     "text": [
      "Epoch 29/40\n",
      "96/96 [==============================] - 14s 141ms/step - loss: 0.1865 - accuracy: 0.9521 - val_loss: 0.2648 - val_accuracy: 0.9167\n"
     ]
    },
    {
     "name": "stderr",
     "output_type": "stream",
     "text": [
      "2021-09-17 15:23:31,205 - [INFO]:  epoch 28 end: {'loss': 0.1865050345659256, 'accuracy': 0.9520833492279053, 'val_loss': 0.26483893394470215, 'val_accuracy': 0.9166666865348816}\n",
      "2021-09-17 15:23:31,207 - [INFO]:  progress: 71.325%, train epoch end\n",
      "2021-09-17 15:23:31,231 - [INFO]:  epoch 29 start\n"
     ]
    },
    {
     "name": "stdout",
     "output_type": "stream",
     "text": [
      "Epoch 30/40\n",
      "96/96 [==============================] - 14s 142ms/step - loss: 0.1735 - accuracy: 0.9583 - val_loss: 0.2346 - val_accuracy: 0.9333\n"
     ]
    },
    {
     "name": "stderr",
     "output_type": "stream",
     "text": [
      "2021-09-17 15:23:44,930 - [INFO]:  epoch 29 end: {'loss': 0.17349550127983093, 'accuracy': 0.9583333134651184, 'val_loss': 0.23458074033260345, 'val_accuracy': 0.9333333373069763}\n",
      "2021-09-17 15:23:44,931 - [INFO]:  progress: 73.75%, train epoch end\n",
      "2021-09-17 15:23:44,949 - [INFO]:  epoch 30 start\n"
     ]
    },
    {
     "name": "stdout",
     "output_type": "stream",
     "text": [
      "Epoch 31/40\n",
      "96/96 [==============================] - 13s 134ms/step - loss: 0.1919 - accuracy: 0.9375 - val_loss: 0.2256 - val_accuracy: 0.9250\n"
     ]
    },
    {
     "name": "stderr",
     "output_type": "stream",
     "text": [
      "2021-09-17 15:23:57,878 - [INFO]:  epoch 30 end: {'loss': 0.1919282078742981, 'accuracy': 0.9375, 'val_loss': 0.22558698058128357, 'val_accuracy': 0.925000011920929}\n",
      "2021-09-17 15:23:57,879 - [INFO]:  progress: 76.175%, train epoch end\n",
      "2021-09-17 15:23:57,902 - [INFO]:  epoch 31 start\n"
     ]
    },
    {
     "name": "stdout",
     "output_type": "stream",
     "text": [
      "Epoch 32/40\n",
      "96/96 [==============================] - 13s 140ms/step - loss: 0.1797 - accuracy: 0.9521 - val_loss: 0.1968 - val_accuracy: 0.9583\n"
     ]
    },
    {
     "name": "stderr",
     "output_type": "stream",
     "text": [
      "2021-09-17 15:24:11,322 - [INFO]:  epoch 31 end: {'loss': 0.17969128489494324, 'accuracy': 0.9520833492279053, 'val_loss': 0.19677813351154327, 'val_accuracy': 0.9583333134651184}\n",
      "2021-09-17 15:24:11,323 - [INFO]:  progress: 78.6%, train epoch end\n",
      "2021-09-17 15:24:11,341 - [INFO]:  epoch 32 start\n"
     ]
    },
    {
     "name": "stdout",
     "output_type": "stream",
     "text": [
      "Epoch 33/40\n",
      "96/96 [==============================] - 14s 145ms/step - loss: 0.1845 - accuracy: 0.9438 - val_loss: 0.2127 - val_accuracy: 0.9250\n"
     ]
    },
    {
     "name": "stderr",
     "output_type": "stream",
     "text": [
      "2021-09-17 15:24:25,322 - [INFO]:  epoch 32 end: {'loss': 0.18449823558330536, 'accuracy': 0.9437500238418579, 'val_loss': 0.21266235411167145, 'val_accuracy': 0.925000011920929}\n",
      "2021-09-17 15:24:25,323 - [INFO]:  progress: 81.02499999999999%, train epoch end\n",
      "2021-09-17 15:24:25,341 - [INFO]:  epoch 33 start\n"
     ]
    },
    {
     "name": "stdout",
     "output_type": "stream",
     "text": [
      "Epoch 34/40\n",
      "96/96 [==============================] - 14s 146ms/step - loss: 0.1850 - accuracy: 0.9479 - val_loss: 0.2258 - val_accuracy: 0.9000\n"
     ]
    },
    {
     "name": "stderr",
     "output_type": "stream",
     "text": [
      "2021-09-17 15:24:39,343 - [INFO]:  epoch 33 end: {'loss': 0.18496592342853546, 'accuracy': 0.9479166865348816, 'val_loss': 0.2258472740650177, 'val_accuracy': 0.8999999761581421}\n",
      "2021-09-17 15:24:39,345 - [INFO]:  progress: 83.45%, train epoch end\n",
      "2021-09-17 15:24:39,363 - [INFO]:  epoch 34 start\n"
     ]
    },
    {
     "name": "stdout",
     "output_type": "stream",
     "text": [
      "Epoch 35/40\n",
      "96/96 [==============================] - 13s 140ms/step - loss: 0.1748 - accuracy: 0.9521 - val_loss: 0.1959 - val_accuracy: 0.9500\n"
     ]
    },
    {
     "name": "stderr",
     "output_type": "stream",
     "text": [
      "2021-09-17 15:24:52,794 - [INFO]:  epoch 34 end: {'loss': 0.17480513453483582, 'accuracy': 0.9520833492279053, 'val_loss': 0.1958790421485901, 'val_accuracy': 0.949999988079071}\n",
      "2021-09-17 15:24:52,795 - [INFO]:  progress: 85.875%, train epoch end\n",
      "2021-09-17 15:24:52,813 - [INFO]:  epoch 35 start\n"
     ]
    },
    {
     "name": "stdout",
     "output_type": "stream",
     "text": [
      "Epoch 36/40\n",
      "96/96 [==============================] - 13s 140ms/step - loss: 0.1691 - accuracy: 0.9604 - val_loss: 0.2150 - val_accuracy: 0.9333\n"
     ]
    },
    {
     "name": "stderr",
     "output_type": "stream",
     "text": [
      "2021-09-17 15:25:06,297 - [INFO]:  epoch 35 end: {'loss': 0.16907893121242523, 'accuracy': 0.9604166746139526, 'val_loss': 0.2150430679321289, 'val_accuracy': 0.9333333373069763}\n",
      "2021-09-17 15:25:06,298 - [INFO]:  progress: 88.3%, train epoch end\n",
      "2021-09-17 15:25:06,317 - [INFO]:  epoch 36 start\n"
     ]
    },
    {
     "name": "stdout",
     "output_type": "stream",
     "text": [
      "Epoch 37/40\n",
      "96/96 [==============================] - 14s 146ms/step - loss: 0.1629 - accuracy: 0.9604 - val_loss: 0.2134 - val_accuracy: 0.9167\n"
     ]
    },
    {
     "name": "stderr",
     "output_type": "stream",
     "text": [
      "2021-09-17 15:25:20,403 - [INFO]:  epoch 36 end: {'loss': 0.16293692588806152, 'accuracy': 0.9604166746139526, 'val_loss': 0.21343256533145905, 'val_accuracy': 0.9166666865348816}\n",
      "2021-09-17 15:25:20,404 - [INFO]:  progress: 90.725%, train epoch end\n",
      "2021-09-17 15:25:20,428 - [INFO]:  epoch 37 start\n"
     ]
    },
    {
     "name": "stdout",
     "output_type": "stream",
     "text": [
      "Epoch 38/40\n",
      "96/96 [==============================] - 13s 135ms/step - loss: 0.1620 - accuracy: 0.9583 - val_loss: 0.1999 - val_accuracy: 0.9417\n"
     ]
    },
    {
     "name": "stderr",
     "output_type": "stream",
     "text": [
      "2021-09-17 15:25:33,479 - [INFO]:  epoch 37 end: {'loss': 0.16197800636291504, 'accuracy': 0.9583333134651184, 'val_loss': 0.19990700483322144, 'val_accuracy': 0.9416666626930237}\n",
      "2021-09-17 15:25:33,479 - [INFO]:  progress: 93.14999999999999%, train epoch end\n",
      "2021-09-17 15:25:33,498 - [INFO]:  epoch 38 start\n"
     ]
    },
    {
     "name": "stdout",
     "output_type": "stream",
     "text": [
      "Epoch 39/40\n",
      "96/96 [==============================] - 14s 141ms/step - loss: 0.1645 - accuracy: 0.9521 - val_loss: 0.2314 - val_accuracy: 0.9083\n"
     ]
    },
    {
     "name": "stderr",
     "output_type": "stream",
     "text": [
      "2021-09-17 15:25:47,051 - [INFO]:  epoch 38 end: {'loss': 0.16454178094863892, 'accuracy': 0.9520833492279053, 'val_loss': 0.23142245411872864, 'val_accuracy': 0.9083333611488342}\n",
      "2021-09-17 15:25:47,052 - [INFO]:  progress: 95.575%, train epoch end\n",
      "2021-09-17 15:25:47,070 - [INFO]:  epoch 39 start\n"
     ]
    },
    {
     "name": "stdout",
     "output_type": "stream",
     "text": [
      "Epoch 40/40\n",
      "96/96 [==============================] - 14s 142ms/step - loss: 0.1797 - accuracy: 0.9521 - val_loss: 0.2223 - val_accuracy: 0.9083\n"
     ]
    },
    {
     "name": "stderr",
     "output_type": "stream",
     "text": [
      "2021-09-17 15:26:00,761 - [INFO]:  epoch 39 end: {'loss': 0.17972315847873688, 'accuracy': 0.9520833492279053, 'val_loss': 0.22229084372520447, 'val_accuracy': 0.9083333611488342}\n",
      "2021-09-17 15:26:00,762 - [INFO]:  progress: 98.0%, train epoch end\n",
      "2021-09-17 15:26:00,763 - [INFO]:  train end\n",
      "2021-09-17 15:26:00,763 - [INFO]:  progress: 98.0%, train end\n",
      "2021-09-17 15:26:00,778 - [INFO]:  save model as .tflite file\n",
      "2021-09-17 15:26:05.395647: W tensorflow/python/util/util.cc:348] Sets are not currently considered sequences, but this may change in the future, so consider avoiding using them.\n"
     ]
    },
    {
     "name": "stdout",
     "output_type": "stream",
     "text": [
      "INFO:tensorflow:Assets written to: /var/folders/_l/dffcyljj723fg4wbqfxfqv640000gn/T/tmptf60lqh9/assets\n"
     ]
    },
    {
     "name": "stderr",
     "output_type": "stream",
     "text": [
      "2021-09-17 15:26:11.737064: I tensorflow/core/grappler/devices.cc:75] Number of eligible GPUs (core count >= 8, compute capability >= 0.0): 0 (Note: TensorFlow was not compiled with CUDA or ROCm support)\n",
      "2021-09-17 15:26:11.737132: I tensorflow/core/grappler/clusters/single_machine.cc:357] Starting new session\n",
      "2021-09-17 15:26:11.742269: I tensorflow/core/grappler/optimizers/meta_optimizer.cc:1137] Optimization results for grappler item: graph_to_optimize\n",
      "  function_optimizer: function_optimizer did nothing. time = 0.003ms.\n",
      "  function_optimizer: function_optimizer did nothing. time = 0ms.\n",
      "\n",
      "2021-09-17 15:26:12.893006: W tensorflow/compiler/mlir/lite/python/tf_tfl_flatbuffer_helpers.cc:351] Ignored output_format.\n",
      "2021-09-17 15:26:12.893030: W tensorflow/compiler/mlir/lite/python/tf_tfl_flatbuffer_helpers.cc:354] Ignored drop_control_dependency.\n",
      "2021-09-17 15:26:12.916662: I tensorflow/compiler/mlir/tensorflow/utils/dump_mlir_util.cc:210] disabling MLIR crash reproducer, set env var `MLIR_CRASH_REPRODUCER_DIRECTORY` to enable.\n",
      "2021-09-17 15:26:13,031 - [INFO]:  train ok, now generate report\n",
      "INFO:logger: train ok, now generate report\n",
      "2021-09-17 15:26:13,032 - [INFO]:  generate report image\n",
      "INFO:logger: generate report image\n",
      "/opt/anaconda3/envs/k210v37/lib/python3.7/site-packages/keras/engine/training.py:2035: UserWarning: `Model.predict_generator` is deprecated and will be removed in a future version. Please use `Model.predict`, which supports generators.\n",
      "  warnings.warn('`Model.predict_generator` is deprecated and '\n"
     ]
    },
    {
     "name": "stdout",
     "output_type": "stream",
     "text": [
      "Found 600 images belonging to 2 classes.\n",
      "120/120 [==============================] - 10s 77ms/step\n"
     ]
    },
    {
     "name": "stderr",
     "output_type": "stream",
     "text": [
      "2021-09-17 15:26:23,074 - [INFO]:  generate report image end\n",
      "INFO:logger: generate report image end\n"
     ]
    }
   ],
   "source": [
    "# 配置文件：train.classifier.instance\n",
    "result,_,model_path ,labels = classifier_train(datasets_dir=datasets_dir,temp_datasets_dir=temp_saves_dir)"
   ]
  },
  {
   "cell_type": "code",
   "execution_count": 9,
   "id": "7a374535-3e6b-45fc-a1e9-f78d5650b4cc",
   "metadata": {},
   "outputs": [
    {
     "name": "stdout",
     "output_type": "stream",
     "text": [
      "../ubuntu/out/imgn_2021-09-17_15_17/m.h5\n"
     ]
    }
   ],
   "source": [
    "print(model_path)"
   ]
  },
  {
   "cell_type": "code",
   "execution_count": null,
   "id": "0099b74a-8dc0-438f-ba6e-3c6356315865",
   "metadata": {},
   "outputs": [],
   "source": []
  },
  {
   "cell_type": "markdown",
   "id": "5ed81877-bcad-4622-8819-9dff0ec637f2",
   "metadata": {},
   "source": [
    "## 生成kmodel"
   ]
  },
  {
   "cell_type": "code",
   "execution_count": 10,
   "id": "40a861b5-712c-40ed-90cf-0d9b3a4a66c2",
   "metadata": {},
   "outputs": [
    {
     "name": "stdout",
     "output_type": "stream",
     "text": [
      "docker run -it -v /Users/liampro/Downloads/pro/git/ai-test/k210/ubuntu:/train ubuntu /train/tokmodel.sh out/imgn_2021-09-17_15_17\n"
     ]
    }
   ],
   "source": [
    "#直接生成kmodel:Mac开发环境要弄个docker跑linux命令，\n",
    "# win,linux可以直接跑官方命令\n",
    "# tool:https://github.com/kendryte/nncase/releases/tag/v0.1.0-rc5\n",
    "\n",
    "exe_path = os.path.join(os.path.abspath('..'), \"ubuntu\")\n",
    "\n",
    "docker_cmd=f\"docker run -it -v {exe_path}:/train ubuntu /train/tokmodel.sh {ubuntu_path}\"\n",
    "print(docker_cmd)\n",
    "\n",
    "# 在shell 运行 docker命令"
   ]
  },
  {
   "cell_type": "code",
   "execution_count": 11,
   "id": "9a17fc2f-c45e-4d2c-bf35-60652c9989ab",
   "metadata": {},
   "outputs": [
    {
     "name": "stdout",
     "output_type": "stream",
     "text": [
      "/Users/liampro/Downloads/pro/git/ai-test/k210/k210_train/tools/kmodel/ncc-mac.sh /Users/liampro/Downloads/pro/git/ai-test/k210/ubuntu out/imgn_2021-09-17_15_17\n"
     ]
    }
   ],
   "source": [
    "# 或者运行下面的shell\n",
    "cmd_sh = f\"{os.path.abspath('.')}/tools/kmodel/ncc-mac.sh {exe_path} {ubuntu_path}\"\n",
    "print(cmd_sh)\n",
    "# f=os.popen(cmd)\n",
    "# print(f.read())"
   ]
  },
  {
   "cell_type": "markdown",
   "id": "6e72b835-a5e8-4a31-95d5-cb93b1131cbb",
   "metadata": {},
   "source": [
    "## 生成k210程序boot.py"
   ]
  },
  {
   "cell_type": "code",
   "execution_count": 12,
   "id": "598a871b-6fd3-43bd-bcbc-a5e99bdcbbc6",
   "metadata": {},
   "outputs": [
    {
     "name": "stdout",
     "output_type": "stream",
     "text": [
      "cp -f data/template/imgn_boot.py ../ubuntu/out/imgn_2021-09-17_15_17/result/boot.py\n"
     ]
    }
   ],
   "source": [
    "#temp_saves_dir = \"../ubuntu/out/yolo_1\"\n",
    "target_file = f\"{temp_saves_dir}result/boot.py\"\n",
    "copy_file = f\"cp -f data/template/imgn_boot.py {target_file}\"\n",
    "print(copy_file)"
   ]
  },
  {
   "cell_type": "code",
   "execution_count": 13,
   "id": "62752c83-5de8-48db-9514-af03999b05ec",
   "metadata": {},
   "outputs": [
    {
     "name": "stdout",
     "output_type": "stream",
     "text": [
      "\n"
     ]
    }
   ],
   "source": [
    "f=os.popen(copy_file)\n",
    "print(f.read()) "
   ]
  },
  {
   "cell_type": "code",
   "execution_count": 14,
   "id": "8548ead2-3932-466c-a08b-28ee057d50d7",
   "metadata": {},
   "outputs": [],
   "source": [
    "# 更新 labels \n",
    "result_boot_py_path = target_file\n",
    "\n",
    "img_size = [224,224]\n",
    "#labels = [\"s0\",\"s1\"]\n",
    "replace = 'labels = [\"{}\"]'.format('\", \"'.join(labels))\n",
    "\n",
    "with open(result_boot_py_path) as f:\n",
    "            boot_py = f.read()\n",
    "with open(result_boot_py_path, \"w\") as f:\n",
    "            target = 'labels = [\"0\", \"1\"] # labels'\n",
    "            boot_py = boot_py.replace(target, replace)\n",
    "            target = 'img_size = [224,224] # img_size'\n",
    "            replace = 'img_size = [{},{}]'.format(img_size[0], img_size[1])\n",
    "            boot_py = boot_py.replace(target, replace)\n",
    "            f.write(boot_py)"
   ]
  },
  {
   "cell_type": "code",
   "execution_count": null,
   "id": "b60293ee-67ff-4831-94ff-482b3042ded9",
   "metadata": {},
   "outputs": [],
   "source": []
  },
  {
   "cell_type": "markdown",
   "id": "dd88afee-20a9-43e3-8dd2-91b0b68e5309",
   "metadata": {},
   "source": [
    "## 最后生成的文件tree"
   ]
  },
  {
   "cell_type": "raw",
   "id": "4f129882-727f-4c0b-ac9d-dedc52971dce",
   "metadata": {},
   "source": [
    "'''\n",
    "liam18@liam ~ % cd ../ubuntu/out/imgn_2021-09-17_09_13 \n",
    "liam18@liam imgn_2021-09-17_09_13 % tree\n",
    ".\n",
    "├── m.h5\n",
    "├── m.tflite\n",
    "├── result\n",
    "│   ├── boot.py\n",
    "│   └── m.kmodel\n",
    "├── sample_images\n",
    "│   ├── 0_284.jpg\n",
    "│   ├── 10_202.jpg\n",
    "...\n",
    "│   ├── 77_25.jpg\n",
    "│   ├── 78_228.jpg\n",
    "│   ├── 79_120.jpg\n",
    "│   ├── 7_50.jpg\n",
    "│   ├── 8_124.jpg\n",
    "│   └── 9_269.jpg\n",
    "└── tf\n",
    "    ├── assets\n",
    "    ├── keras_metadata.pb\n",
    "    ├── saved_model.pb\n",
    "    └── variables\n",
    "        ├── variables.data-00000-of-00001\n",
    "        └── variables.index\n",
    "'''"
   ]
  },
  {
   "cell_type": "markdown",
   "id": "69a2a1c5-4ff5-467e-bd81-e4a6c2fbc59e",
   "metadata": {},
   "source": [
    "## 到k210硬件运行"
   ]
  },
  {
   "cell_type": "raw",
   "id": "6799e240-0a51-44ef-8686-277f541eea3d",
   "metadata": {},
   "source": [
    "'''\n",
    "把 \n",
    "├── result\n",
    "│   ├── boot.py\n",
    "│   └── m.kmodel\n",
    "\n",
    "的 boot.py ，m.kmodel 复制到 sd 卡的根目录下\n",
    "重新启动硬件，就可以运行了\n",
    "\n",
    "'''"
   ]
  }
 ],
 "metadata": {
  "kernelspec": {
   "display_name": "Python 3 (ipykernel)",
   "language": "python",
   "name": "python3"
  },
  "language_info": {
   "codemirror_mode": {
    "name": "ipython",
    "version": 3
   },
   "file_extension": ".py",
   "mimetype": "text/x-python",
   "name": "python",
   "nbconvert_exporter": "python",
   "pygments_lexer": "ipython3",
   "version": "3.7.11"
  }
 },
 "nbformat": 4,
 "nbformat_minor": 5
}
