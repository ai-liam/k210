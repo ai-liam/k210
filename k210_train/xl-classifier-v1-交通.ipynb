{
 "cells": [
  {
   "cell_type": "markdown",
   "id": "a9f54d3e-798e-46c2-8fb9-4ebeab865f55",
   "metadata": {},
   "source": [
    "# 分类模型:交通标识"
   ]
  },
  {
   "cell_type": "code",
   "execution_count": null,
   "id": "60720a62-219e-4b0a-bea8-476bdaf781b5",
   "metadata": {},
   "outputs": [],
   "source": []
  },
  {
   "cell_type": "code",
   "execution_count": 1,
   "id": "f17154e9-50ee-4404-94d2-7fb4239dbc11",
   "metadata": {},
   "outputs": [],
   "source": [
    "# 把 maix_train 项目的classifier抽离出来\n",
    "# 基准测试通过\n",
    "# 4 分类：左右，前，有行人"
   ]
  },
  {
   "cell_type": "markdown",
   "id": "55bc3a0d-8f35-43a3-9b15-161e0b6d531d",
   "metadata": {},
   "source": [
    "## python包"
   ]
  },
  {
   "cell_type": "code",
   "execution_count": 2,
   "id": "14b91a0a-7d8d-45fb-9925-8359cced3e8c",
   "metadata": {},
   "outputs": [],
   "source": [
    "import os, sys\n",
    "import shutil\n",
    "import time\n",
    "import traceback\n",
    "\n",
    "from train.classifier import Classifier\n",
    "from train.utils.logger import Logger, Fake_Logger\n",
    "from train.utils import gpu_utils, isascii"
   ]
  },
  {
   "cell_type": "code",
   "execution_count": 3,
   "id": "09a17c45-2d27-4a7f-b735-6140cc6b0e0e",
   "metadata": {},
   "outputs": [],
   "source": [
    "from train.classifier.instance import config\n",
    "\n",
    "config.classifier_train_epochs = 40 # 40 修改训练轮数\n",
    "config.classifier_train_batch_size = 5 # 5"
   ]
  },
  {
   "cell_type": "markdown",
   "id": "e3719f0d-b37a-4be2-98cf-c650afad18ff",
   "metadata": {},
   "source": [
    "## config setting"
   ]
  },
  {
   "cell_type": "code",
   "execution_count": 4,
   "id": "05715507-1f9a-4b67-9fd4-25686950f8c1",
   "metadata": {},
   "outputs": [
    {
     "name": "stdout",
     "output_type": "stream",
     "text": [
      "2021-09-23_12_05\n"
     ]
    }
   ],
   "source": [
    "cur_time = time.strftime(\"%Y-%m-%d_%H_%M\", time.localtime())\n",
    "print(cur_time)"
   ]
  },
  {
   "cell_type": "code",
   "execution_count": 5,
   "id": "19b14c7e-a890-423e-ad0d-f8de457c7ead",
   "metadata": {},
   "outputs": [
    {
     "name": "stdout",
     "output_type": "stream",
     "text": [
      "../ubuntu/out/imgn_jt_2021-09-23_12_05/\n"
     ]
    }
   ],
   "source": [
    "ubuntu_path = f\"out/imgn_jt_{cur_time}\" #用来mac中生成kmodel\n",
    "temp_saves_dir = f\"../ubuntu/{ubuntu_path}/\" #保存文件目录\n",
    "datasets_dir = \"/Users/liampro/Downloads/dataLake/images/图像分类/交通标识/clean4\"#数据源\n",
    "print(temp_saves_dir)"
   ]
  },
  {
   "cell_type": "markdown",
   "id": "c08d2070-1af8-4f41-b4b1-1d05614bfba0",
   "metadata": {},
   "source": [
    "## 训练函数"
   ]
  },
  {
   "cell_type": "code",
   "execution_count": 6,
   "id": "3978af95-46fb-4994-b987-6d0e3166cb28",
   "metadata": {},
   "outputs": [],
   "source": [
    "def clear_save_path(temp_datasets_dir=\"\"):\n",
    "    if temp_datasets_dir ==\"\":\n",
    "        return False\n",
    "    #clear\n",
    "    if os.path.exists(temp_datasets_dir):\n",
    "        shutil.rmtree(temp_datasets_dir)\n",
    "    os.makedirs(temp_datasets_dir)\n",
    "    return True\n",
    "\n",
    "def creat_sample_images(obj,temp_datasets_dir=\"\",sample_image_num = 20):\n",
    "    dataset_sample_images_path = os.path.join(temp_datasets_dir, \"sample_images\")\n",
    "    os.makedirs(dataset_sample_images_path)\n",
    "    obj.get_sample_images(sample_image_num, dataset_sample_images_path)\n",
    "    return True"
   ]
  },
  {
   "cell_type": "code",
   "execution_count": 7,
   "id": "f798fef0-3313-46eb-b55a-247102f894f3",
   "metadata": {},
   "outputs": [],
   "source": [
    "def classifier_train(datasets_zip_path=\"\",datasets_dir=\"\",temp_datasets_dir=\"\"):\n",
    "    #config.classifier_train_epochs = 40 # 修改训练轮数\n",
    "    \n",
    "    #clear and creat\n",
    "    clear_save_path(temp_datasets_dir)\n",
    "    log = Logger(file_path=f\"{temp_datasets_dir}train_log.log\")\n",
    "    \n",
    "    def __on_train_progress(percent, msg):  # flag: progress\n",
    "        percent = percent*0.97 + 1\n",
    "        log.i(f\"progress: {percent}%, {msg}\")\n",
    "    \n",
    "    # 检测 GPU 可用,选择一个可用的 GPU 使用\n",
    "    try:\n",
    "        gpu = gpu_utils.select_gpu(memory_require = config.classifier_train_gpu_mem_require, tf_gpu_mem_growth=False)\n",
    "    except Exception:\n",
    "        gpu = None\n",
    "    if gpu is None:\n",
    "        if not config.allow_cpu:\n",
    "            log.e(\"no free GPU\")\n",
    "            raise Exception((TrainFailReason.ERROR_NODE_BUSY, \"node no enough GPU or GPU memory and not support CPU train\"))\n",
    "        log.i(\"no GPU, will use [CPU]\")\n",
    "    else:\n",
    "        log.i(\"select\", gpu)\n",
    "\n",
    "    # set value\n",
    "    best_h5_model_path  = os.path.join(temp_datasets_dir, \"m_best.h5\")\n",
    "    final_h5_model_path = os.path.join(temp_datasets_dir, \"m.h5\")\n",
    "    result_dir = os.path.join(temp_datasets_dir, \"result\")\n",
    "    os.makedirs(result_dir)\n",
    "    result_report_img_path = os.path.join(result_dir, \"report.jpg\")\n",
    "    tflite_path = os.path.join(temp_datasets_dir, \"m.tflite\")\n",
    "    \n",
    "    # 启动训练\n",
    "    try:\n",
    "        classifier = Classifier(datasets_zip=datasets_zip_path, datasets_dir=datasets_dir, unpack_dir =temp_datasets_dir,\n",
    "                                logger=log,\n",
    "                                max_classes_num=config.classifier_train_max_classes_num,\n",
    "                                min_images_num=config.classifier_train_one_class_min_img_num,\n",
    "                                max_images_num=config.classifier_train_one_class_max_img_num,\n",
    "                                allow_reshape=False)\n",
    "    except Exception as e:\n",
    "        log.e(\"train datasets not valid: {}\".format(e))\n",
    "        raise Exception((\"TrainFailReason.ERROR_PARAM\", \"datasets not valid: {}\".format(str(e))))\n",
    "    try:\n",
    "        #_base = \"mobilenet_7_5_224_tf_no_top.h5\"\n",
    "        #classifier.train(epochs=config.classifier_train_epochs,can_gen=True, batch_size=config.classifier_train_batch_size, progress_cb= __on_train_progress,weights=_base)\n",
    "        classifier.train(epochs=config.classifier_train_epochs,can_gen=False, batch_size=config.classifier_train_batch_size, progress_cb= __on_train_progress)\n",
    "    except Exception as e:\n",
    "        log.e(\"train error: {}\".format(e))\n",
    "        traceback.print_exc()\n",
    "        raise Exception((\"TrainFailReason.ERROR_INTERNAL\", \"error occurred when train, error: {}\".format(str(e)) ))\n",
    "\n",
    "    ## sample_image\n",
    "    creat_sample_images(classifier,temp_datasets_dir,config.sample_image_num)\n",
    "    \n",
    "    ## creat tflite\n",
    "    classifier.save(tflite_path=tflite_path)\n",
    "    \n",
    "    # 训练结束, 生成报告\n",
    "    log.i(\"train ok, now generate report\")\n",
    "    classifier.report(result_report_img_path)\n",
    "    \n",
    "    return True, classifier, final_h5_model_path , classifier.get_labels()\n"
   ]
  },
  {
   "cell_type": "code",
   "execution_count": 8,
   "id": "181fc08f-9485-4b38-8a46-d33258914e44",
   "metadata": {},
   "outputs": [
    {
     "name": "stdout",
     "output_type": "stream",
     "text": [
      "<os._wrap_close object at 0x7fdc903099d0>\n"
     ]
    }
   ],
   "source": [
    "## 清理隐藏文件\n",
    "#cmd1 = f\"rm -f {datasets_dir}/.DS_Store\"\n",
    "#os.popen(cmd1)\n",
    "cmd = f\"rm -f {datasets_dir}/*/.DS_Store\"\n",
    "f = os.popen(cmd)\n",
    "print(f)"
   ]
  },
  {
   "cell_type": "markdown",
   "id": "1b01038f-6177-4415-a431-fc3928f66ff8",
   "metadata": {},
   "source": [
    "## 训练"
   ]
  },
  {
   "cell_type": "code",
   "execution_count": 9,
   "id": "a8ac7a7e-1ad1-49a8-97f0-702a21b5fd49",
   "metadata": {},
   "outputs": [
    {
     "name": "stdout",
     "output_type": "stream",
     "text": [
      "select gpu fail:NVML Shared Library Not Found\n"
     ]
    },
    {
     "name": "stderr",
     "output_type": "stream",
     "text": [
      "2021-09-23 12:05:14,795 - [INFO]:  no GPU, will use [CPU]\n",
      "2021-09-23 12:05:18,718 - [INFO]:  train, labels:['3-man', '2-right', '1-forward', '0-left']\n",
      "2021-09-23 12:05:18,719 - [DEBUG]:  train, datasets dir:/Users/liampro/Downloads/dataLake/images/图像分类/交通标识/clean4\n",
      "2021-09-23 12:05:18.796803: I tensorflow/core/platform/cpu_feature_guard.cc:142] This TensorFlow binary is optimized with oneAPI Deep Neural Network Library (oneDNN) to use the following CPU instructions in performance-critical operations:  AVX2 FMA\n",
      "To enable them in other operations, rebuild TensorFlow with the appropriate compiler flags.\n",
      "/opt/anaconda3/envs/k210v37/lib/python3.7/site-packages/keras/optimizer_v2/optimizer_v2.py:356: UserWarning: The `lr` argument is deprecated, use `learning_rate` instead.\n",
      "  \"The `lr` argument is deprecated, use `learning_rate` instead.\")\n"
     ]
    },
    {
     "name": "stdout",
     "output_type": "stream",
     "text": [
      "Model: \"model\"\n",
      "_________________________________________________________________\n",
      "Layer (type)                 Output Shape              Param #   \n",
      "=================================================================\n",
      "input_1 (InputLayer)         [(None, 224, 224, 3)]     0         \n",
      "_________________________________________________________________\n",
      "conv1_pad (ZeroPadding2D)    (None, 226, 226, 3)       0         \n",
      "_________________________________________________________________\n",
      "conv1 (Conv2D)               (None, 112, 112, 24)      648       \n",
      "_________________________________________________________________\n",
      "conv1_bn (BatchNormalization (None, 112, 112, 24)      96        \n",
      "_________________________________________________________________\n",
      "conv1_relu (ReLU)            (None, 112, 112, 24)      0         \n",
      "_________________________________________________________________\n",
      "conv_dw_1 (DepthwiseConv2D)  (None, 112, 112, 24)      216       \n",
      "_________________________________________________________________\n",
      "conv_dw_1_bn (BatchNormaliza (None, 112, 112, 24)      96        \n",
      "_________________________________________________________________\n",
      "conv_dw_1_relu (ReLU)        (None, 112, 112, 24)      0         \n",
      "_________________________________________________________________\n",
      "conv_pw_1 (Conv2D)           (None, 112, 112, 48)      1152      \n",
      "_________________________________________________________________\n",
      "conv_pw_1_bn (BatchNormaliza (None, 112, 112, 48)      192       \n",
      "_________________________________________________________________\n",
      "conv_pw_1_relu (ReLU)        (None, 112, 112, 48)      0         \n",
      "_________________________________________________________________\n",
      "conv_pad_2 (ZeroPadding2D)   (None, 114, 114, 48)      0         \n",
      "_________________________________________________________________\n",
      "conv_dw_2 (DepthwiseConv2D)  (None, 56, 56, 48)        432       \n",
      "_________________________________________________________________\n",
      "conv_dw_2_bn (BatchNormaliza (None, 56, 56, 48)        192       \n",
      "_________________________________________________________________\n",
      "conv_dw_2_relu (ReLU)        (None, 56, 56, 48)        0         \n",
      "_________________________________________________________________\n",
      "conv_pw_2 (Conv2D)           (None, 56, 56, 96)        4608      \n",
      "_________________________________________________________________\n",
      "conv_pw_2_bn (BatchNormaliza (None, 56, 56, 96)        384       \n",
      "_________________________________________________________________\n",
      "conv_pw_2_relu (ReLU)        (None, 56, 56, 96)        0         \n",
      "_________________________________________________________________\n",
      "conv_dw_3 (DepthwiseConv2D)  (None, 56, 56, 96)        864       \n",
      "_________________________________________________________________\n",
      "conv_dw_3_bn (BatchNormaliza (None, 56, 56, 96)        384       \n",
      "_________________________________________________________________\n",
      "conv_dw_3_relu (ReLU)        (None, 56, 56, 96)        0         \n",
      "_________________________________________________________________\n",
      "conv_pw_3 (Conv2D)           (None, 56, 56, 96)        9216      \n",
      "_________________________________________________________________\n",
      "conv_pw_3_bn (BatchNormaliza (None, 56, 56, 96)        384       \n",
      "_________________________________________________________________\n",
      "conv_pw_3_relu (ReLU)        (None, 56, 56, 96)        0         \n",
      "_________________________________________________________________\n",
      "conv_pad_4 (ZeroPadding2D)   (None, 58, 58, 96)        0         \n",
      "_________________________________________________________________\n",
      "conv_dw_4 (DepthwiseConv2D)  (None, 28, 28, 96)        864       \n",
      "_________________________________________________________________\n",
      "conv_dw_4_bn (BatchNormaliza (None, 28, 28, 96)        384       \n",
      "_________________________________________________________________\n",
      "conv_dw_4_relu (ReLU)        (None, 28, 28, 96)        0         \n",
      "_________________________________________________________________\n",
      "conv_pw_4 (Conv2D)           (None, 28, 28, 192)       18432     \n",
      "_________________________________________________________________\n",
      "conv_pw_4_bn (BatchNormaliza (None, 28, 28, 192)       768       \n",
      "_________________________________________________________________\n",
      "conv_pw_4_relu (ReLU)        (None, 28, 28, 192)       0         \n",
      "_________________________________________________________________\n",
      "conv_dw_5 (DepthwiseConv2D)  (None, 28, 28, 192)       1728      \n",
      "_________________________________________________________________\n",
      "conv_dw_5_bn (BatchNormaliza (None, 28, 28, 192)       768       \n",
      "_________________________________________________________________\n",
      "conv_dw_5_relu (ReLU)        (None, 28, 28, 192)       0         \n",
      "_________________________________________________________________\n",
      "conv_pw_5 (Conv2D)           (None, 28, 28, 192)       36864     \n",
      "_________________________________________________________________\n",
      "conv_pw_5_bn (BatchNormaliza (None, 28, 28, 192)       768       \n",
      "_________________________________________________________________\n",
      "conv_pw_5_relu (ReLU)        (None, 28, 28, 192)       0         \n",
      "_________________________________________________________________\n",
      "conv_pad_6 (ZeroPadding2D)   (None, 30, 30, 192)       0         \n",
      "_________________________________________________________________\n",
      "conv_dw_6 (DepthwiseConv2D)  (None, 14, 14, 192)       1728      \n",
      "_________________________________________________________________\n",
      "conv_dw_6_bn (BatchNormaliza (None, 14, 14, 192)       768       \n",
      "_________________________________________________________________\n",
      "conv_dw_6_relu (ReLU)        (None, 14, 14, 192)       0         \n",
      "_________________________________________________________________\n",
      "conv_pw_6 (Conv2D)           (None, 14, 14, 384)       73728     \n",
      "_________________________________________________________________\n",
      "conv_pw_6_bn (BatchNormaliza (None, 14, 14, 384)       1536      \n",
      "_________________________________________________________________\n",
      "conv_pw_6_relu (ReLU)        (None, 14, 14, 384)       0         \n",
      "_________________________________________________________________\n",
      "conv_dw_7 (DepthwiseConv2D)  (None, 14, 14, 384)       3456      \n",
      "_________________________________________________________________\n",
      "conv_dw_7_bn (BatchNormaliza (None, 14, 14, 384)       1536      \n",
      "_________________________________________________________________\n",
      "conv_dw_7_relu (ReLU)        (None, 14, 14, 384)       0         \n",
      "_________________________________________________________________\n",
      "conv_pw_7 (Conv2D)           (None, 14, 14, 384)       147456    \n",
      "_________________________________________________________________\n",
      "conv_pw_7_bn (BatchNormaliza (None, 14, 14, 384)       1536      \n",
      "_________________________________________________________________\n",
      "conv_pw_7_relu (ReLU)        (None, 14, 14, 384)       0         \n",
      "_________________________________________________________________\n",
      "conv_dw_8 (DepthwiseConv2D)  (None, 14, 14, 384)       3456      \n",
      "_________________________________________________________________\n",
      "conv_dw_8_bn (BatchNormaliza (None, 14, 14, 384)       1536      \n",
      "_________________________________________________________________\n",
      "conv_dw_8_relu (ReLU)        (None, 14, 14, 384)       0         \n",
      "_________________________________________________________________\n",
      "conv_pw_8 (Conv2D)           (None, 14, 14, 384)       147456    \n",
      "_________________________________________________________________\n",
      "conv_pw_8_bn (BatchNormaliza (None, 14, 14, 384)       1536      \n",
      "_________________________________________________________________\n",
      "conv_pw_8_relu (ReLU)        (None, 14, 14, 384)       0         \n",
      "_________________________________________________________________\n",
      "conv_dw_9 (DepthwiseConv2D)  (None, 14, 14, 384)       3456      \n",
      "_________________________________________________________________\n",
      "conv_dw_9_bn (BatchNormaliza (None, 14, 14, 384)       1536      \n",
      "_________________________________________________________________\n",
      "conv_dw_9_relu (ReLU)        (None, 14, 14, 384)       0         \n",
      "_________________________________________________________________\n",
      "conv_pw_9 (Conv2D)           (None, 14, 14, 384)       147456    \n",
      "_________________________________________________________________\n",
      "conv_pw_9_bn (BatchNormaliza (None, 14, 14, 384)       1536      \n",
      "_________________________________________________________________\n",
      "conv_pw_9_relu (ReLU)        (None, 14, 14, 384)       0         \n",
      "_________________________________________________________________\n",
      "conv_dw_10 (DepthwiseConv2D) (None, 14, 14, 384)       3456      \n",
      "_________________________________________________________________\n",
      "conv_dw_10_bn (BatchNormaliz (None, 14, 14, 384)       1536      \n",
      "_________________________________________________________________\n",
      "conv_dw_10_relu (ReLU)       (None, 14, 14, 384)       0         \n",
      "_________________________________________________________________\n",
      "conv_pw_10 (Conv2D)          (None, 14, 14, 384)       147456    \n",
      "_________________________________________________________________\n",
      "conv_pw_10_bn (BatchNormaliz (None, 14, 14, 384)       1536      \n",
      "_________________________________________________________________\n",
      "conv_pw_10_relu (ReLU)       (None, 14, 14, 384)       0         \n",
      "_________________________________________________________________\n",
      "conv_dw_11 (DepthwiseConv2D) (None, 14, 14, 384)       3456      \n",
      "_________________________________________________________________\n",
      "conv_dw_11_bn (BatchNormaliz (None, 14, 14, 384)       1536      \n",
      "_________________________________________________________________\n",
      "conv_dw_11_relu (ReLU)       (None, 14, 14, 384)       0         \n",
      "_________________________________________________________________\n",
      "conv_pw_11 (Conv2D)          (None, 14, 14, 384)       147456    \n",
      "_________________________________________________________________\n",
      "conv_pw_11_bn (BatchNormaliz (None, 14, 14, 384)       1536      \n",
      "_________________________________________________________________\n",
      "conv_pw_11_relu (ReLU)       (None, 14, 14, 384)       0         \n",
      "_________________________________________________________________\n",
      "conv_dw_12 (DepthwiseConv2D) (None, 14, 14, 384)       3456      \n",
      "_________________________________________________________________\n",
      "conv_dw_12_bn (BatchNormaliz (None, 14, 14, 384)       1536      \n",
      "_________________________________________________________________\n",
      "conv_dw_12_relu (ReLU)       (None, 14, 14, 384)       0         \n",
      "_________________________________________________________________\n",
      "conv_pw_12 (Conv2D)          (None, 14, 14, 768)       294912    \n",
      "_________________________________________________________________\n",
      "conv_pw_12_bn (BatchNormaliz (None, 14, 14, 768)       3072      \n",
      "_________________________________________________________________\n",
      "conv_pw_12_relu (ReLU)       (None, 14, 14, 768)       0         \n",
      "_________________________________________________________________\n",
      "conv_dw_13 (DepthwiseConv2D) (None, 14, 14, 768)       6912      \n",
      "_________________________________________________________________\n",
      "conv_dw_13_bn (BatchNormaliz (None, 14, 14, 768)       3072      \n",
      "_________________________________________________________________\n",
      "conv_dw_13_relu (ReLU)       (None, 14, 14, 768)       0         \n",
      "_________________________________________________________________\n",
      "conv_pw_13 (Conv2D)          (None, 14, 14, 768)       589824    \n",
      "_________________________________________________________________\n",
      "conv_pw_13_bn (BatchNormaliz (None, 14, 14, 768)       3072      \n",
      "_________________________________________________________________\n",
      "conv_pw_13_relu (ReLU)       (None, 14, 14, 768)       0         \n",
      "_________________________________________________________________\n",
      "global_average_pooling2d (Gl (None, 768)               0         \n",
      "_________________________________________________________________\n",
      "dropout (Dropout)            (None, 768)               0         \n",
      "_________________________________________________________________\n",
      "dense (Dense)                (None, 4)                 3076      \n",
      "=================================================================\n",
      "Total params: 1,836,052\n",
      "Trainable params: 3,076\n",
      "Non-trainable params: 1,832,976\n",
      "_________________________________________________________________\n",
      "Found 1388 images belonging to 4 classes.\n",
      "self.labels:::: dict_keys(['0-left', '1-forward', '2-right', '3-man'])\n",
      "Found 152 images belonging to 4 classes.\n"
     ]
    },
    {
     "name": "stderr",
     "output_type": "stream",
     "text": [
      "2021-09-23 12:05:19,436 - [INFO]:  train data:1388, valid data:152\n",
      "/opt/anaconda3/envs/k210v37/lib/python3.7/site-packages/keras/engine/training.py:1972: UserWarning: `Model.fit_generator` is deprecated and will be removed in a future version. Please use `Model.fit`, which supports generators.\n",
      "  warnings.warn('`Model.fit_generator` is deprecated and '\n",
      "2021-09-23 12:05:19,541 - [INFO]:  train start\n",
      "2021-09-23 12:05:19,541 - [INFO]:  progress: 1.0%, train start\n",
      "2021-09-23 12:05:19.551817: I tensorflow/compiler/mlir/mlir_graph_optimization_pass.cc:185] None of the MLIR Optimization Passes are enabled (registered 2)\n",
      "2021-09-23 12:05:19,577 - [INFO]:  epoch 0 start\n"
     ]
    },
    {
     "name": "stdout",
     "output_type": "stream",
     "text": [
      "Epoch 1/40\n",
      "277/277 [==============================] - 25s 87ms/step - loss: 1.2337 - accuracy: 0.4208 - val_loss: 1.0998 - val_accuracy: 0.4667\n"
     ]
    },
    {
     "name": "stderr",
     "output_type": "stream",
     "text": [
      "2021-09-23 12:05:44,963 - [INFO]:  epoch 0 end: {'loss': 1.233678936958313, 'accuracy': 0.4208242893218994, 'val_loss': 1.0997872352600098, 'val_accuracy': 0.46666666865348816}\n",
      "2021-09-23 12:05:44,963 - [INFO]:  progress: 3.425%, train epoch end\n",
      "2021-09-23 12:05:44,983 - [INFO]:  epoch 1 start\n"
     ]
    },
    {
     "name": "stdout",
     "output_type": "stream",
     "text": [
      "Epoch 2/40\n",
      "277/277 [==============================] - 24s 85ms/step - loss: 0.8890 - accuracy: 0.6443 - val_loss: 0.8973 - val_accuracy: 0.5867\n"
     ]
    },
    {
     "name": "stderr",
     "output_type": "stream",
     "text": [
      "2021-09-23 12:06:08,533 - [INFO]:  epoch 1 end: {'loss': 0.8889752626419067, 'accuracy': 0.6442516446113586, 'val_loss': 0.8973142504692078, 'val_accuracy': 0.5866666436195374}\n",
      "2021-09-23 12:06:08,533 - [INFO]:  progress: 5.85%, train epoch end\n",
      "2021-09-23 12:06:08,553 - [INFO]:  epoch 2 start\n"
     ]
    },
    {
     "name": "stdout",
     "output_type": "stream",
     "text": [
      "Epoch 3/40\n",
      "277/277 [==============================] - 23s 85ms/step - loss: 0.7442 - accuracy: 0.7195 - val_loss: 0.8063 - val_accuracy: 0.6333\n"
     ]
    },
    {
     "name": "stderr",
     "output_type": "stream",
     "text": [
      "2021-09-23 12:06:32,016 - [INFO]:  epoch 2 end: {'loss': 0.7442399263381958, 'accuracy': 0.7194504737854004, 'val_loss': 0.8063391447067261, 'val_accuracy': 0.6333333253860474}\n",
      "2021-09-23 12:06:32,016 - [INFO]:  progress: 8.274999999999999%, train epoch end\n",
      "2021-09-23 12:06:32,036 - [INFO]:  epoch 3 start\n"
     ]
    },
    {
     "name": "stdout",
     "output_type": "stream",
     "text": [
      "Epoch 4/40\n",
      "277/277 [==============================] - 23s 84ms/step - loss: 0.6474 - accuracy: 0.7766 - val_loss: 0.6740 - val_accuracy: 0.7600\n"
     ]
    },
    {
     "name": "stderr",
     "output_type": "stream",
     "text": [
      "2021-09-23 12:06:55,253 - [INFO]:  epoch 3 end: {'loss': 0.6474223136901855, 'accuracy': 0.7765726447105408, 'val_loss': 0.6740309596061707, 'val_accuracy': 0.7599999904632568}\n",
      "2021-09-23 12:06:55,254 - [INFO]:  progress: 10.7%, train epoch end\n",
      "2021-09-23 12:06:55,272 - [INFO]:  epoch 4 start\n"
     ]
    },
    {
     "name": "stdout",
     "output_type": "stream",
     "text": [
      "Epoch 5/40\n",
      "277/277 [==============================] - 23s 85ms/step - loss: 0.5659 - accuracy: 0.8388 - val_loss: 0.6366 - val_accuracy: 0.7667\n"
     ]
    },
    {
     "name": "stderr",
     "output_type": "stream",
     "text": [
      "2021-09-23 12:07:18,768 - [INFO]:  epoch 4 end: {'loss': 0.5658643841743469, 'accuracy': 0.8387563228607178, 'val_loss': 0.6365669965744019, 'val_accuracy': 0.7666666507720947}\n",
      "2021-09-23 12:07:18,769 - [INFO]:  progress: 13.125%, train epoch end\n",
      "2021-09-23 12:07:18,792 - [INFO]:  epoch 5 start\n"
     ]
    },
    {
     "name": "stdout",
     "output_type": "stream",
     "text": [
      "Epoch 6/40\n",
      "277/277 [==============================] - 24s 86ms/step - loss: 0.5227 - accuracy: 0.8445 - val_loss: 0.5808 - val_accuracy: 0.8000\n"
     ]
    },
    {
     "name": "stderr",
     "output_type": "stream",
     "text": [
      "2021-09-23 12:07:42,686 - [INFO]:  epoch 5 end: {'loss': 0.5226945877075195, 'accuracy': 0.8445408344268799, 'val_loss': 0.5808441638946533, 'val_accuracy': 0.800000011920929}\n",
      "2021-09-23 12:07:42,687 - [INFO]:  progress: 15.549999999999999%, train epoch end\n",
      "2021-09-23 12:07:42,706 - [INFO]:  epoch 6 start\n"
     ]
    },
    {
     "name": "stdout",
     "output_type": "stream",
     "text": [
      "Epoch 7/40\n",
      "277/277 [==============================] - 24s 85ms/step - loss: 0.4836 - accuracy: 0.8539 - val_loss: 0.5384 - val_accuracy: 0.8467\n"
     ]
    },
    {
     "name": "stderr",
     "output_type": "stream",
     "text": [
      "2021-09-23 12:08:06,405 - [INFO]:  epoch 6 end: {'loss': 0.4836347997188568, 'accuracy': 0.8539407253265381, 'val_loss': 0.5384044647216797, 'val_accuracy': 0.846666693687439}\n",
      "2021-09-23 12:08:06,406 - [INFO]:  progress: 17.974999999999998%, train epoch end\n",
      "2021-09-23 12:08:06,424 - [INFO]:  epoch 7 start\n"
     ]
    },
    {
     "name": "stdout",
     "output_type": "stream",
     "text": [
      "Epoch 8/40\n",
      "277/277 [==============================] - 24s 86ms/step - loss: 0.4494 - accuracy: 0.8641 - val_loss: 0.5323 - val_accuracy: 0.8067\n"
     ]
    },
    {
     "name": "stderr",
     "output_type": "stream",
     "text": [
      "2021-09-23 12:08:30,349 - [INFO]:  epoch 7 end: {'loss': 0.4494422376155853, 'accuracy': 0.8640636205673218, 'val_loss': 0.5322774648666382, 'val_accuracy': 0.8066666722297668}\n",
      "2021-09-23 12:08:30,349 - [INFO]:  progress: 20.4%, train epoch end\n",
      "2021-09-23 12:08:30,371 - [INFO]:  epoch 8 start\n"
     ]
    },
    {
     "name": "stdout",
     "output_type": "stream",
     "text": [
      "Epoch 9/40\n",
      "277/277 [==============================] - 24s 88ms/step - loss: 0.4304 - accuracy: 0.8800 - val_loss: 0.5099 - val_accuracy: 0.8467\n"
     ]
    },
    {
     "name": "stderr",
     "output_type": "stream",
     "text": [
      "2021-09-23 12:08:54,763 - [INFO]:  epoch 8 end: {'loss': 0.4303729236125946, 'accuracy': 0.8799710869789124, 'val_loss': 0.5099359750747681, 'val_accuracy': 0.846666693687439}\n",
      "2021-09-23 12:08:54,764 - [INFO]:  progress: 22.825%, train epoch end\n",
      "2021-09-23 12:08:54,783 - [INFO]:  epoch 9 start\n"
     ]
    },
    {
     "name": "stdout",
     "output_type": "stream",
     "text": [
      "Epoch 10/40\n",
      "277/277 [==============================] - 25s 88ms/step - loss: 0.4057 - accuracy: 0.8901 - val_loss: 0.4627 - val_accuracy: 0.8733\n"
     ]
    },
    {
     "name": "stderr",
     "output_type": "stream",
     "text": [
      "2021-09-23 12:09:19,300 - [INFO]:  epoch 9 end: {'loss': 0.40567922592163086, 'accuracy': 0.890093982219696, 'val_loss': 0.4627058506011963, 'val_accuracy': 0.8733333349227905}\n",
      "2021-09-23 12:09:19,300 - [INFO]:  progress: 25.25%, train epoch end\n",
      "2021-09-23 12:09:19,321 - [INFO]:  epoch 10 start\n"
     ]
    },
    {
     "name": "stdout",
     "output_type": "stream",
     "text": [
      "Epoch 11/40\n",
      "277/277 [==============================] - 25s 90ms/step - loss: 0.3801 - accuracy: 0.8988 - val_loss: 0.4604 - val_accuracy: 0.8467\n"
     ]
    },
    {
     "name": "stderr",
     "output_type": "stream",
     "text": [
      "2021-09-23 12:09:44,264 - [INFO]:  epoch 10 end: {'loss': 0.38013190031051636, 'accuracy': 0.898770809173584, 'val_loss': 0.4603789150714874, 'val_accuracy': 0.846666693687439}\n",
      "2021-09-23 12:09:44,265 - [INFO]:  progress: 27.675000000000004%, train epoch end\n",
      "2021-09-23 12:09:44,283 - [INFO]:  epoch 11 start\n"
     ]
    },
    {
     "name": "stdout",
     "output_type": "stream",
     "text": [
      "Epoch 12/40\n",
      "277/277 [==============================] - 25s 90ms/step - loss: 0.3674 - accuracy: 0.8988 - val_loss: 0.4074 - val_accuracy: 0.8800\n"
     ]
    },
    {
     "name": "stderr",
     "output_type": "stream",
     "text": [
      "2021-09-23 12:10:09,215 - [INFO]:  epoch 11 end: {'loss': 0.3674171566963196, 'accuracy': 0.898770809173584, 'val_loss': 0.4073502719402313, 'val_accuracy': 0.8799999952316284}\n",
      "2021-09-23 12:10:09,215 - [INFO]:  progress: 30.099999999999998%, train epoch end\n",
      "2021-09-23 12:10:09,234 - [INFO]:  epoch 12 start\n"
     ]
    },
    {
     "name": "stdout",
     "output_type": "stream",
     "text": [
      "Epoch 13/40\n",
      "277/277 [==============================] - 25s 91ms/step - loss: 0.3505 - accuracy: 0.9046 - val_loss: 0.4151 - val_accuracy: 0.8533\n"
     ]
    },
    {
     "name": "stderr",
     "output_type": "stream",
     "text": [
      "2021-09-23 12:10:34,579 - [INFO]:  epoch 12 end: {'loss': 0.3505420386791229, 'accuracy': 0.9045553207397461, 'val_loss': 0.4151134490966797, 'val_accuracy': 0.8533333539962769}\n",
      "2021-09-23 12:10:34,580 - [INFO]:  progress: 32.525%, train epoch end\n",
      "2021-09-23 12:10:34,599 - [INFO]:  epoch 13 start\n"
     ]
    },
    {
     "name": "stdout",
     "output_type": "stream",
     "text": [
      "Epoch 14/40\n",
      "277/277 [==============================] - 26s 95ms/step - loss: 0.3326 - accuracy: 0.9118 - val_loss: 0.3831 - val_accuracy: 0.8800\n"
     ]
    },
    {
     "name": "stderr",
     "output_type": "stream",
     "text": [
      "2021-09-23 12:11:01,019 - [INFO]:  epoch 13 end: {'loss': 0.33257806301116943, 'accuracy': 0.9117859601974487, 'val_loss': 0.3831431269645691, 'val_accuracy': 0.8799999952316284}\n",
      "2021-09-23 12:11:01,020 - [INFO]:  progress: 34.949999999999996%, train epoch end\n",
      "2021-09-23 12:11:01,040 - [INFO]:  epoch 14 start\n"
     ]
    },
    {
     "name": "stdout",
     "output_type": "stream",
     "text": [
      "Epoch 15/40\n",
      "277/277 [==============================] - 26s 95ms/step - loss: 0.3195 - accuracy: 0.9205 - val_loss: 0.3721 - val_accuracy: 0.8933\n"
     ]
    },
    {
     "name": "stderr",
     "output_type": "stream",
     "text": [
      "2021-09-23 12:11:27,325 - [INFO]:  epoch 14 end: {'loss': 0.31950077414512634, 'accuracy': 0.9204627871513367, 'val_loss': 0.37208014726638794, 'val_accuracy': 0.8933333158493042}\n",
      "2021-09-23 12:11:27,326 - [INFO]:  progress: 37.375%, train epoch end\n",
      "2021-09-23 12:11:27,344 - [INFO]:  epoch 15 start\n"
     ]
    },
    {
     "name": "stdout",
     "output_type": "stream",
     "text": [
      "Epoch 16/40\n",
      "277/277 [==============================] - 26s 95ms/step - loss: 0.3136 - accuracy: 0.9270 - val_loss: 0.3644 - val_accuracy: 0.8867\n"
     ]
    },
    {
     "name": "stderr",
     "output_type": "stream",
     "text": [
      "2021-09-23 12:11:53,782 - [INFO]:  epoch 15 end: {'loss': 0.31358402967453003, 'accuracy': 0.926970362663269, 'val_loss': 0.3644334673881531, 'val_accuracy': 0.8866666555404663}\n",
      "2021-09-23 12:11:53,783 - [INFO]:  progress: 39.8%, train epoch end\n",
      "2021-09-23 12:11:53,800 - [INFO]:  epoch 16 start\n"
     ]
    },
    {
     "name": "stdout",
     "output_type": "stream",
     "text": [
      "Epoch 17/40\n",
      "277/277 [==============================] - 26s 95ms/step - loss: 0.3028 - accuracy: 0.9270 - val_loss: 0.3660 - val_accuracy: 0.8867\n"
     ]
    },
    {
     "name": "stderr",
     "output_type": "stream",
     "text": [
      "2021-09-23 12:12:20,124 - [INFO]:  epoch 16 end: {'loss': 0.30281099677085876, 'accuracy': 0.926970362663269, 'val_loss': 0.3660338819026947, 'val_accuracy': 0.8866666555404663}\n",
      "2021-09-23 12:12:20,125 - [INFO]:  progress: 42.225%, train epoch end\n",
      "2021-09-23 12:12:20,144 - [INFO]:  epoch 17 start\n"
     ]
    },
    {
     "name": "stdout",
     "output_type": "stream",
     "text": [
      "Epoch 18/40\n",
      "277/277 [==============================] - 26s 94ms/step - loss: 0.2912 - accuracy: 0.9219 - val_loss: 0.3311 - val_accuracy: 0.9133\n"
     ]
    },
    {
     "name": "stderr",
     "output_type": "stream",
     "text": [
      "2021-09-23 12:12:46,204 - [INFO]:  epoch 17 end: {'loss': 0.29116910696029663, 'accuracy': 0.9219089150428772, 'val_loss': 0.33108755946159363, 'val_accuracy': 0.9133333563804626}\n",
      "2021-09-23 12:12:46,205 - [INFO]:  progress: 44.65%, train epoch end\n",
      "2021-09-23 12:12:46,227 - [INFO]:  epoch 18 start\n"
     ]
    },
    {
     "name": "stdout",
     "output_type": "stream",
     "text": [
      "Epoch 19/40\n",
      "277/277 [==============================] - 26s 92ms/step - loss: 0.2903 - accuracy: 0.9313 - val_loss: 0.3466 - val_accuracy: 0.9000\n"
     ]
    },
    {
     "name": "stderr",
     "output_type": "stream",
     "text": [
      "2021-09-23 12:13:11,848 - [INFO]:  epoch 18 end: {'loss': 0.2902853786945343, 'accuracy': 0.9313087463378906, 'val_loss': 0.346606582403183, 'val_accuracy': 0.8999999761581421}\n",
      "2021-09-23 12:13:11,849 - [INFO]:  progress: 47.074999999999996%, train epoch end\n",
      "2021-09-23 12:13:11,871 - [INFO]:  epoch 19 start\n"
     ]
    },
    {
     "name": "stdout",
     "output_type": "stream",
     "text": [
      "Epoch 20/40\n",
      "277/277 [==============================] - 25s 92ms/step - loss: 0.2760 - accuracy: 0.9277 - val_loss: 0.3486 - val_accuracy: 0.9067\n"
     ]
    },
    {
     "name": "stderr",
     "output_type": "stream",
     "text": [
      "2021-09-23 12:13:37,324 - [INFO]:  epoch 19 end: {'loss': 0.27600622177124023, 'accuracy': 0.9276934266090393, 'val_loss': 0.3485867977142334, 'val_accuracy': 0.9066666960716248}\n",
      "2021-09-23 12:13:37,325 - [INFO]:  progress: 49.5%, train epoch end\n",
      "2021-09-23 12:13:37,343 - [INFO]:  epoch 20 start\n"
     ]
    },
    {
     "name": "stdout",
     "output_type": "stream",
     "text": [
      "Epoch 21/40\n",
      "277/277 [==============================] - 27s 96ms/step - loss: 0.2778 - accuracy: 0.9356 - val_loss: 0.3262 - val_accuracy: 0.9133\n"
     ]
    },
    {
     "name": "stderr",
     "output_type": "stream",
     "text": [
      "2021-09-23 12:14:03,865 - [INFO]:  epoch 20 end: {'loss': 0.2778063714504242, 'accuracy': 0.9356471300125122, 'val_loss': 0.32615235447883606, 'val_accuracy': 0.9133333563804626}\n",
      "2021-09-23 12:14:03,866 - [INFO]:  progress: 51.925%, train epoch end\n",
      "2021-09-23 12:14:03,885 - [INFO]:  epoch 21 start\n"
     ]
    },
    {
     "name": "stdout",
     "output_type": "stream",
     "text": [
      "Epoch 22/40\n",
      "277/277 [==============================] - 27s 97ms/step - loss: 0.2669 - accuracy: 0.9385 - val_loss: 0.3239 - val_accuracy: 0.8933\n"
     ]
    },
    {
     "name": "stderr",
     "output_type": "stream",
     "text": [
      "2021-09-23 12:14:30,783 - [INFO]:  epoch 21 end: {'loss': 0.26691460609436035, 'accuracy': 0.9385393857955933, 'val_loss': 0.3238655626773834, 'val_accuracy': 0.8933333158493042}\n",
      "2021-09-23 12:14:30,784 - [INFO]:  progress: 54.35000000000001%, train epoch end\n",
      "2021-09-23 12:14:30,807 - [INFO]:  epoch 22 start\n"
     ]
    },
    {
     "name": "stdout",
     "output_type": "stream",
     "text": [
      "Epoch 23/40\n",
      "277/277 [==============================] - 26s 95ms/step - loss: 0.2643 - accuracy: 0.9371 - val_loss: 0.3149 - val_accuracy: 0.8933\n"
     ]
    },
    {
     "name": "stderr",
     "output_type": "stream",
     "text": [
      "2021-09-23 12:14:57,229 - [INFO]:  epoch 22 end: {'loss': 0.26429545879364014, 'accuracy': 0.9370932579040527, 'val_loss': 0.31490325927734375, 'val_accuracy': 0.8933333158493042}\n",
      "2021-09-23 12:14:57,230 - [INFO]:  progress: 56.77499999999999%, train epoch end\n",
      "2021-09-23 12:14:57,252 - [INFO]:  epoch 23 start\n"
     ]
    },
    {
     "name": "stdout",
     "output_type": "stream",
     "text": [
      "Epoch 24/40\n",
      "277/277 [==============================] - 26s 93ms/step - loss: 0.2538 - accuracy: 0.9364 - val_loss: 0.3081 - val_accuracy: 0.9133\n"
     ]
    },
    {
     "name": "stderr",
     "output_type": "stream",
     "text": [
      "2021-09-23 12:15:23,173 - [INFO]:  epoch 23 end: {'loss': 0.25382643938064575, 'accuracy': 0.9363701939582825, 'val_loss': 0.30805280804634094, 'val_accuracy': 0.9133333563804626}\n",
      "2021-09-23 12:15:23,174 - [INFO]:  progress: 59.199999999999996%, train epoch end\n",
      "2021-09-23 12:15:23,193 - [INFO]:  epoch 24 start\n"
     ]
    },
    {
     "name": "stdout",
     "output_type": "stream",
     "text": [
      "Epoch 25/40\n",
      "277/277 [==============================] - 25s 92ms/step - loss: 0.2458 - accuracy: 0.9385 - val_loss: 0.2932 - val_accuracy: 0.9133\n"
     ]
    },
    {
     "name": "stderr",
     "output_type": "stream",
     "text": [
      "2021-09-23 12:15:48,649 - [INFO]:  epoch 24 end: {'loss': 0.24578045308589935, 'accuracy': 0.9385393857955933, 'val_loss': 0.29323190450668335, 'val_accuracy': 0.9133333563804626}\n",
      "2021-09-23 12:15:48,650 - [INFO]:  progress: 61.625%, train epoch end\n",
      "2021-09-23 12:15:48,668 - [INFO]:  epoch 25 start\n"
     ]
    },
    {
     "name": "stdout",
     "output_type": "stream",
     "text": [
      "Epoch 26/40\n",
      "277/277 [==============================] - 26s 93ms/step - loss: 0.2419 - accuracy: 0.9487 - val_loss: 0.2806 - val_accuracy: 0.9067\n"
     ]
    },
    {
     "name": "stderr",
     "output_type": "stream",
     "text": [
      "2021-09-23 12:16:14,502 - [INFO]:  epoch 25 end: {'loss': 0.24188938736915588, 'accuracy': 0.9486623406410217, 'val_loss': 0.28055116534233093, 'val_accuracy': 0.9066666960716248}\n",
      "2021-09-23 12:16:14,503 - [INFO]:  progress: 64.05%, train epoch end\n",
      "2021-09-23 12:16:14,525 - [INFO]:  epoch 26 start\n"
     ]
    },
    {
     "name": "stdout",
     "output_type": "stream",
     "text": [
      "Epoch 27/40\n",
      "277/277 [==============================] - 26s 92ms/step - loss: 0.2379 - accuracy: 0.9407 - val_loss: 0.2789 - val_accuracy: 0.9267\n"
     ]
    },
    {
     "name": "stderr",
     "output_type": "stream",
     "text": [
      "2021-09-23 12:16:40,145 - [INFO]:  epoch 26 end: {'loss': 0.23788584768772125, 'accuracy': 0.940708577632904, 'val_loss': 0.2789466977119446, 'val_accuracy': 0.9266666769981384}\n",
      "2021-09-23 12:16:40,145 - [INFO]:  progress: 66.475%, train epoch end\n",
      "2021-09-23 12:16:40,164 - [INFO]:  epoch 27 start\n"
     ]
    },
    {
     "name": "stdout",
     "output_type": "stream",
     "text": [
      "Epoch 28/40\n",
      "277/277 [==============================] - 26s 93ms/step - loss: 0.2438 - accuracy: 0.9328 - val_loss: 0.2878 - val_accuracy: 0.9200\n"
     ]
    },
    {
     "name": "stderr",
     "output_type": "stream",
     "text": [
      "2021-09-23 12:17:05,882 - [INFO]:  epoch 27 end: {'loss': 0.2437790036201477, 'accuracy': 0.9327548742294312, 'val_loss': 0.2878207564353943, 'val_accuracy': 0.9200000166893005}\n",
      "2021-09-23 12:17:05,883 - [INFO]:  progress: 68.89999999999999%, train epoch end\n",
      "2021-09-23 12:17:05,901 - [INFO]:  epoch 28 start\n"
     ]
    },
    {
     "name": "stdout",
     "output_type": "stream",
     "text": [
      "Epoch 29/40\n",
      "277/277 [==============================] - 25s 91ms/step - loss: 0.2192 - accuracy: 0.9573 - val_loss: 0.2857 - val_accuracy: 0.9200\n"
     ]
    },
    {
     "name": "stderr",
     "output_type": "stream",
     "text": [
      "2021-09-23 12:17:31,265 - [INFO]:  epoch 28 end: {'loss': 0.2192390263080597, 'accuracy': 0.9573391079902649, 'val_loss': 0.2856978178024292, 'val_accuracy': 0.9200000166893005}\n",
      "2021-09-23 12:17:31,266 - [INFO]:  progress: 71.325%, train epoch end\n",
      "2021-09-23 12:17:31,287 - [INFO]:  epoch 29 start\n"
     ]
    },
    {
     "name": "stdout",
     "output_type": "stream",
     "text": [
      "Epoch 30/40\n",
      "277/277 [==============================] - 26s 92ms/step - loss: 0.2216 - accuracy: 0.9450 - val_loss: 0.2886 - val_accuracy: 0.9200\n"
     ]
    },
    {
     "name": "stderr",
     "output_type": "stream",
     "text": [
      "2021-09-23 12:17:56,955 - [INFO]:  epoch 29 end: {'loss': 0.22157222032546997, 'accuracy': 0.9450470209121704, 'val_loss': 0.2885575294494629, 'val_accuracy': 0.9200000166893005}\n",
      "2021-09-23 12:17:56,956 - [INFO]:  progress: 73.75%, train epoch end\n",
      "2021-09-23 12:17:56,974 - [INFO]:  epoch 30 start\n"
     ]
    },
    {
     "name": "stdout",
     "output_type": "stream",
     "text": [
      "Epoch 31/40\n",
      "277/277 [==============================] - 26s 92ms/step - loss: 0.2205 - accuracy: 0.9458 - val_loss: 0.2893 - val_accuracy: 0.9200\n"
     ]
    },
    {
     "name": "stderr",
     "output_type": "stream",
     "text": [
      "2021-09-23 12:18:22,564 - [INFO]:  epoch 30 end: {'loss': 0.22053268551826477, 'accuracy': 0.9457700848579407, 'val_loss': 0.28930625319480896, 'val_accuracy': 0.9200000166893005}\n",
      "2021-09-23 12:18:22,565 - [INFO]:  progress: 76.175%, train epoch end\n",
      "2021-09-23 12:18:22,583 - [INFO]:  epoch 31 start\n"
     ]
    },
    {
     "name": "stdout",
     "output_type": "stream",
     "text": [
      "Epoch 32/40\n",
      "277/277 [==============================] - 25s 90ms/step - loss: 0.2191 - accuracy: 0.9494 - val_loss: 0.2701 - val_accuracy: 0.9333\n"
     ]
    },
    {
     "name": "stderr",
     "output_type": "stream",
     "text": [
      "2021-09-23 12:18:47,633 - [INFO]:  epoch 31 end: {'loss': 0.21906347572803497, 'accuracy': 0.949385404586792, 'val_loss': 0.2701167166233063, 'val_accuracy': 0.9333333373069763}\n",
      "2021-09-23 12:18:47,634 - [INFO]:  progress: 78.6%, train epoch end\n",
      "2021-09-23 12:18:47,655 - [INFO]:  epoch 32 start\n"
     ]
    },
    {
     "name": "stdout",
     "output_type": "stream",
     "text": [
      "Epoch 33/40\n",
      "277/277 [==============================] - 25s 92ms/step - loss: 0.2136 - accuracy: 0.9537 - val_loss: 0.2591 - val_accuracy: 0.9133\n"
     ]
    },
    {
     "name": "stderr",
     "output_type": "stream",
     "text": [
      "2021-09-23 12:19:13,152 - [INFO]:  epoch 32 end: {'loss': 0.21359340846538544, 'accuracy': 0.9537237882614136, 'val_loss': 0.25906097888946533, 'val_accuracy': 0.9133333563804626}\n",
      "2021-09-23 12:19:13,153 - [INFO]:  progress: 81.02499999999999%, train epoch end\n",
      "2021-09-23 12:19:13,171 - [INFO]:  epoch 33 start\n"
     ]
    },
    {
     "name": "stdout",
     "output_type": "stream",
     "text": [
      "Epoch 34/40\n",
      "277/277 [==============================] - 26s 92ms/step - loss: 0.2085 - accuracy: 0.9508 - val_loss: 0.2587 - val_accuracy: 0.9333\n"
     ]
    },
    {
     "name": "stderr",
     "output_type": "stream",
     "text": [
      "2021-09-23 12:19:38,749 - [INFO]:  epoch 33 end: {'loss': 0.20851171016693115, 'accuracy': 0.9508315324783325, 'val_loss': 0.25872308015823364, 'val_accuracy': 0.9333333373069763}\n",
      "2021-09-23 12:19:38,750 - [INFO]:  progress: 83.45%, train epoch end\n",
      "2021-09-23 12:19:38,768 - [INFO]:  epoch 34 start\n"
     ]
    },
    {
     "name": "stdout",
     "output_type": "stream",
     "text": [
      "Epoch 35/40\n",
      "277/277 [==============================] - 26s 92ms/step - loss: 0.2069 - accuracy: 0.9508 - val_loss: 0.2582 - val_accuracy: 0.9400\n"
     ]
    },
    {
     "name": "stderr",
     "output_type": "stream",
     "text": [
      "2021-09-23 12:20:04,390 - [INFO]:  epoch 34 end: {'loss': 0.206918865442276, 'accuracy': 0.9508315324783325, 'val_loss': 0.25815972685813904, 'val_accuracy': 0.9399999976158142}\n",
      "2021-09-23 12:20:04,391 - [INFO]:  progress: 85.875%, train epoch end\n",
      "2021-09-23 12:20:04,408 - [INFO]:  epoch 35 start\n"
     ]
    },
    {
     "name": "stdout",
     "output_type": "stream",
     "text": [
      "Epoch 36/40\n",
      "277/277 [==============================] - 26s 93ms/step - loss: 0.1978 - accuracy: 0.9588 - val_loss: 0.2630 - val_accuracy: 0.9267\n"
     ]
    },
    {
     "name": "stderr",
     "output_type": "stream",
     "text": [
      "2021-09-23 12:20:30,193 - [INFO]:  epoch 35 end: {'loss': 0.19783204793930054, 'accuracy': 0.9587852358818054, 'val_loss': 0.26304417848587036, 'val_accuracy': 0.9266666769981384}\n",
      "2021-09-23 12:20:30,194 - [INFO]:  progress: 88.3%, train epoch end\n",
      "2021-09-23 12:20:30,216 - [INFO]:  epoch 36 start\n"
     ]
    },
    {
     "name": "stdout",
     "output_type": "stream",
     "text": [
      "Epoch 37/40\n",
      "277/277 [==============================] - 26s 93ms/step - loss: 0.1998 - accuracy: 0.9566 - val_loss: 0.2495 - val_accuracy: 0.9267\n"
     ]
    },
    {
     "name": "stderr",
     "output_type": "stream",
     "text": [
      "2021-09-23 12:20:55,958 - [INFO]:  epoch 36 end: {'loss': 0.19981326162815094, 'accuracy': 0.9566160440444946, 'val_loss': 0.24954938888549805, 'val_accuracy': 0.9266666769981384}\n",
      "2021-09-23 12:20:55,959 - [INFO]:  progress: 90.725%, train epoch end\n",
      "2021-09-23 12:20:55,977 - [INFO]:  epoch 37 start\n"
     ]
    },
    {
     "name": "stdout",
     "output_type": "stream",
     "text": [
      "Epoch 38/40\n",
      "277/277 [==============================] - 25s 91ms/step - loss: 0.2001 - accuracy: 0.9523 - val_loss: 0.2542 - val_accuracy: 0.9333\n"
     ]
    },
    {
     "name": "stderr",
     "output_type": "stream",
     "text": [
      "2021-09-23 12:21:21,333 - [INFO]:  epoch 37 end: {'loss': 0.20009848475456238, 'accuracy': 0.952277660369873, 'val_loss': 0.2542295455932617, 'val_accuracy': 0.9333333373069763}\n",
      "2021-09-23 12:21:21,334 - [INFO]:  progress: 93.14999999999999%, train epoch end\n",
      "2021-09-23 12:21:21,353 - [INFO]:  epoch 38 start\n"
     ]
    },
    {
     "name": "stdout",
     "output_type": "stream",
     "text": [
      "Epoch 39/40\n",
      "277/277 [==============================] - 26s 93ms/step - loss: 0.1941 - accuracy: 0.9588 - val_loss: 0.2498 - val_accuracy: 0.9267\n"
     ]
    },
    {
     "name": "stderr",
     "output_type": "stream",
     "text": [
      "2021-09-23 12:21:47,043 - [INFO]:  epoch 38 end: {'loss': 0.194059357047081, 'accuracy': 0.9587852358818054, 'val_loss': 0.24976421892642975, 'val_accuracy': 0.9266666769981384}\n",
      "2021-09-23 12:21:47,044 - [INFO]:  progress: 95.575%, train epoch end\n",
      "2021-09-23 12:21:47,062 - [INFO]:  epoch 39 start\n"
     ]
    },
    {
     "name": "stdout",
     "output_type": "stream",
     "text": [
      "Epoch 40/40\n",
      "277/277 [==============================] - 26s 92ms/step - loss: 0.1888 - accuracy: 0.9595 - val_loss: 0.2502 - val_accuracy: 0.9333\n"
     ]
    },
    {
     "name": "stderr",
     "output_type": "stream",
     "text": [
      "2021-09-23 12:22:12,717 - [INFO]:  epoch 39 end: {'loss': 0.18881095945835114, 'accuracy': 0.9595082998275757, 'val_loss': 0.2502019703388214, 'val_accuracy': 0.9333333373069763}\n",
      "2021-09-23 12:22:12,718 - [INFO]:  progress: 98.0%, train epoch end\n",
      "2021-09-23 12:22:12,719 - [INFO]:  train end\n",
      "2021-09-23 12:22:12,720 - [INFO]:  progress: 98.0%, train end\n",
      "2021-09-23 12:22:12,788 - [INFO]:  save model as .tflite file\n",
      "2021-09-23 12:22:16.145770: W tensorflow/python/util/util.cc:348] Sets are not currently considered sequences, but this may change in the future, so consider avoiding using them.\n"
     ]
    },
    {
     "name": "stdout",
     "output_type": "stream",
     "text": [
      "INFO:tensorflow:Assets written to: /var/folders/_l/dffcyljj723fg4wbqfxfqv640000gn/T/tmp_j84w54s/assets\n"
     ]
    },
    {
     "name": "stderr",
     "output_type": "stream",
     "text": [
      "2021-09-23 12:22:21.314799: I tensorflow/core/grappler/devices.cc:75] Number of eligible GPUs (core count >= 8, compute capability >= 0.0): 0 (Note: TensorFlow was not compiled with CUDA or ROCm support)\n",
      "2021-09-23 12:22:21.314912: I tensorflow/core/grappler/clusters/single_machine.cc:357] Starting new session\n",
      "2021-09-23 12:22:21.319705: I tensorflow/core/grappler/optimizers/meta_optimizer.cc:1137] Optimization results for grappler item: graph_to_optimize\n",
      "  function_optimizer: function_optimizer did nothing. time = 0.002ms.\n",
      "  function_optimizer: function_optimizer did nothing. time = 0.001ms.\n",
      "\n",
      "2021-09-23 12:22:22.323578: W tensorflow/compiler/mlir/lite/python/tf_tfl_flatbuffer_helpers.cc:351] Ignored output_format.\n",
      "2021-09-23 12:22:22.323595: W tensorflow/compiler/mlir/lite/python/tf_tfl_flatbuffer_helpers.cc:354] Ignored drop_control_dependency.\n",
      "2021-09-23 12:22:22.340673: I tensorflow/compiler/mlir/tensorflow/utils/dump_mlir_util.cc:210] disabling MLIR crash reproducer, set env var `MLIR_CRASH_REPRODUCER_DIRECTORY` to enable.\n",
      "2021-09-23 12:22:22,428 - [INFO]:  train ok, now generate report\n",
      "INFO:logger: train ok, now generate report\n",
      "2021-09-23 12:22:22,429 - [INFO]:  generate report image\n",
      "INFO:logger: generate report image\n",
      "/opt/anaconda3/envs/k210v37/lib/python3.7/site-packages/keras/engine/training.py:2035: UserWarning: `Model.predict_generator` is deprecated and will be removed in a future version. Please use `Model.predict`, which supports generators.\n",
      "  warnings.warn('`Model.predict_generator` is deprecated and '\n"
     ]
    },
    {
     "name": "stdout",
     "output_type": "stream",
     "text": [
      "Found 1540 images belonging to 4 classes.\n",
      "308/308 [==============================] - 22s 71ms/step\n"
     ]
    },
    {
     "name": "stderr",
     "output_type": "stream",
     "text": [
      "2021-09-23 12:22:45,277 - [INFO]:  generate report image end\n",
      "INFO:logger: generate report image end\n"
     ]
    }
   ],
   "source": [
    "# 配置文件：train.classifier.instance\n",
    "result,_,model_path, labels = classifier_train(datasets_dir=datasets_dir,temp_datasets_dir=temp_saves_dir)"
   ]
  },
  {
   "cell_type": "code",
   "execution_count": 10,
   "id": "7a374535-3e6b-45fc-a1e9-f78d5650b4cc",
   "metadata": {},
   "outputs": [
    {
     "name": "stdout",
     "output_type": "stream",
     "text": [
      "../ubuntu/out/imgn_jt_2021-09-23_12_05/m.h5\n",
      "dict_keys(['0-left', '1-forward', '2-right', '3-man'])\n"
     ]
    }
   ],
   "source": [
    "print(model_path)\n",
    "print(labels)"
   ]
  },
  {
   "cell_type": "code",
   "execution_count": null,
   "id": "0099b74a-8dc0-438f-ba6e-3c6356315865",
   "metadata": {},
   "outputs": [],
   "source": []
  },
  {
   "cell_type": "markdown",
   "id": "5ed81877-bcad-4622-8819-9dff0ec637f2",
   "metadata": {},
   "source": [
    "## 生成kmodel"
   ]
  },
  {
   "cell_type": "code",
   "execution_count": 11,
   "id": "40a861b5-712c-40ed-90cf-0d9b3a4a66c2",
   "metadata": {},
   "outputs": [
    {
     "name": "stdout",
     "output_type": "stream",
     "text": [
      "docker run -it -v /Users/liampro/Downloads/pro/git/ai-test/k210/ubuntu:/train ubuntu /train/tokmodel.sh out/imgn_jt_2021-09-23_12_05\n"
     ]
    }
   ],
   "source": [
    "#直接生成kmodel:Mac开发环境要弄个docker跑linux命令，\n",
    "# win,linux可以直接跑官方命令\n",
    "# tool:https://github.com/kendryte/nncase/releases/tag/v0.1.0-rc5\n",
    "\n",
    "exe_path = os.path.join(os.path.abspath('..'), \"ubuntu\")\n",
    "\n",
    "docker_cmd=f\"docker run -it -v {exe_path}:/train ubuntu /train/tokmodel.sh {ubuntu_path}\"\n",
    "print(docker_cmd)\n",
    "\n",
    "# 在shell 运行 docker命令"
   ]
  },
  {
   "cell_type": "code",
   "execution_count": 12,
   "id": "9a17fc2f-c45e-4d2c-bf35-60652c9989ab",
   "metadata": {},
   "outputs": [
    {
     "name": "stdout",
     "output_type": "stream",
     "text": [
      "/Users/liampro/Downloads/pro/git/ai-test/k210/k210_train/tools/kmodel/ncc-mac.sh /Users/liampro/Downloads/pro/git/ai-test/k210/ubuntu out/imgn_jt_2021-09-23_12_05\n"
     ]
    }
   ],
   "source": [
    "# 或者运行下面的shell\n",
    "cmd_sh = f\"{os.path.abspath('.')}/tools/kmodel/ncc-mac.sh {exe_path} {ubuntu_path}\"\n",
    "print(cmd_sh)\n",
    "# f=os.popen(cmd)\n",
    "# print(f.read())"
   ]
  },
  {
   "cell_type": "markdown",
   "id": "6e72b835-a5e8-4a31-95d5-cb93b1131cbb",
   "metadata": {},
   "source": [
    "## 生成k210程序boot.py"
   ]
  },
  {
   "cell_type": "code",
   "execution_count": 13,
   "id": "598a871b-6fd3-43bd-bcbc-a5e99bdcbbc6",
   "metadata": {},
   "outputs": [
    {
     "name": "stdout",
     "output_type": "stream",
     "text": [
      "cp -f data/template/imgn_boot.py ../ubuntu/out/imgn_jt_2021-09-23_12_05/result/boot.py\n"
     ]
    }
   ],
   "source": [
    "#temp_saves_dir = \"../ubuntu/out/yolo_1\"\n",
    "target_file = f\"{temp_saves_dir}result/boot.py\"\n",
    "copy_file = f\"cp -f data/template/imgn_boot.py {target_file}\"\n",
    "print(copy_file)"
   ]
  },
  {
   "cell_type": "code",
   "execution_count": 14,
   "id": "62752c83-5de8-48db-9514-af03999b05ec",
   "metadata": {},
   "outputs": [
    {
     "name": "stdout",
     "output_type": "stream",
     "text": [
      "\n"
     ]
    }
   ],
   "source": [
    "f=os.popen(copy_file)\n",
    "print(f.read()) "
   ]
  },
  {
   "cell_type": "code",
   "execution_count": 15,
   "id": "8548ead2-3932-466c-a08b-28ee057d50d7",
   "metadata": {},
   "outputs": [],
   "source": [
    "# 更新 labels \n",
    "result_boot_py_path = target_file\n",
    "\n",
    "img_size = [224,224]\n",
    "#labels = [\"right\", \"left\", \"forward\"]\n",
    "replace = 'labels = [\"{}\"]'.format('\", \"'.join(labels))\n",
    "\n",
    "with open(result_boot_py_path) as f:\n",
    "            boot_py = f.read()\n",
    "with open(result_boot_py_path, \"w\") as f:\n",
    "            target = 'labels = [\"0\", \"1\"] # labels'\n",
    "            boot_py = boot_py.replace(target, replace)\n",
    "            target = 'img_size = [224,224] # img_size'\n",
    "            replace = 'img_size = [{},{}]'.format(img_size[0], img_size[1])\n",
    "            boot_py = boot_py.replace(target, replace)\n",
    "            f.write(boot_py)"
   ]
  },
  {
   "cell_type": "code",
   "execution_count": null,
   "id": "b60293ee-67ff-4831-94ff-482b3042ded9",
   "metadata": {},
   "outputs": [],
   "source": []
  },
  {
   "cell_type": "markdown",
   "id": "dd88afee-20a9-43e3-8dd2-91b0b68e5309",
   "metadata": {},
   "source": [
    "## 最后生成的文件tree"
   ]
  },
  {
   "cell_type": "raw",
   "id": "4f129882-727f-4c0b-ac9d-dedc52971dce",
   "metadata": {},
   "source": [
    "'''\n",
    "liam18@liam ~ % cd ../ubuntu/out/imgn_2021-09-17_09_13 \n",
    "liam18@liam imgn_2021-09-17_09_13 % tree\n",
    ".\n",
    "├── m.h5\n",
    "├── m.tflite\n",
    "├── result\n",
    "│   ├── boot.py\n",
    "│   └── m.kmodel\n",
    "├── sample_images\n",
    "│   ├── 0_284.jpg\n",
    "│   ├── 10_202.jpg\n",
    "...\n",
    "│   ├── 77_25.jpg\n",
    "│   ├── 78_228.jpg\n",
    "│   ├── 79_120.jpg\n",
    "│   ├── 7_50.jpg\n",
    "│   ├── 8_124.jpg\n",
    "│   └── 9_269.jpg\n",
    "└── tf\n",
    "    ├── assets\n",
    "    ├── keras_metadata.pb\n",
    "    ├── saved_model.pb\n",
    "    └── variables\n",
    "        ├── variables.data-00000-of-00001\n",
    "        └── variables.index\n",
    "'''"
   ]
  },
  {
   "cell_type": "markdown",
   "id": "69a2a1c5-4ff5-467e-bd81-e4a6c2fbc59e",
   "metadata": {},
   "source": [
    "## 到k210硬件运行"
   ]
  },
  {
   "cell_type": "raw",
   "id": "6799e240-0a51-44ef-8686-277f541eea3d",
   "metadata": {},
   "source": [
    "'''\n",
    "把 \n",
    "├── result\n",
    "│   ├── boot.py\n",
    "│   └── m.kmodel\n",
    "\n",
    "的 boot.py ，m.kmodel 复制到 sd 卡的根目录下\n",
    "重新启动硬件，就可以运行了\n",
    "\n",
    "'''"
   ]
  }
 ],
 "metadata": {
  "kernelspec": {
   "display_name": "Python 3 (ipykernel)",
   "language": "python",
   "name": "python3"
  },
  "language_info": {
   "codemirror_mode": {
    "name": "ipython",
    "version": 3
   },
   "file_extension": ".py",
   "mimetype": "text/x-python",
   "name": "python",
   "nbconvert_exporter": "python",
   "pygments_lexer": "ipython3",
   "version": "3.7.11"
  }
 },
 "nbformat": 4,
 "nbformat_minor": 5
}
